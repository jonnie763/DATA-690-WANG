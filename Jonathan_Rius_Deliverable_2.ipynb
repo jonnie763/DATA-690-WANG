{
  "nbformat": 4,
  "nbformat_minor": 0,
  "metadata": {
    "colab": {
      "name": "Jonathan Rius- Deliverable #2.ipynb",
      "provenance": [],
      "collapsed_sections": [],
      "toc_visible": true,
      "authorship_tag": "ABX9TyOIMXSX1a5q1wywOYD/d11m",
      "include_colab_link": true
    },
    "kernelspec": {
      "name": "python3",
      "display_name": "Python 3"
    }
  },
  "cells": [
    {
      "cell_type": "markdown",
      "metadata": {
        "id": "view-in-github",
        "colab_type": "text"
      },
      "source": [
        "<a href=\"https://colab.research.google.com/github/jonnie763/DATA-690-WANG/blob/master/Jonathan_Rius_Deliverable_2.ipynb\" target=\"_parent\"><img src=\"https://colab.research.google.com/assets/colab-badge.svg\" alt=\"Open In Colab\"/></a>"
      ]
    },
    {
      "cell_type": "markdown",
      "metadata": {
        "id": "Gc1K6YDvXR6Y"
      },
      "source": [
        "##**1.Country Analysis- Data Cleanse**"
      ]
    },
    {
      "cell_type": "code",
      "metadata": {
        "id": "j8p29wrWXYfZ",
        "outputId": "7126c2e5-7cb0-4e7d-cdc0-46616865cade",
        "colab": {
          "base_uri": "https://localhost:8080/",
          "height": 255
        }
      },
      "source": [
        "import matplotlib.pyplot as plt\n",
        "import pandas as pd \n",
        "import numpy\n",
        "plt.rcParams['figure.figsize'] = 25, 12\n",
        "df= pd.read_html(\"https://www.cia.gov/library/publications/the-world-factbook/fields/210.html#VE\")\n",
        "df"
      ],
      "execution_count": 474,
      "outputs": [
        {
          "output_type": "execute_result",
          "data": {
            "text/plain": [
              "[            Country                             GDP - real growth rate\n",
              " 0       Afghanistan  2.7%  (2017 est.)  2.2%  (2016 est.)  1%  (201...\n",
              " 1           Albania  3.8%  (2017 est.)  3.4%  (2016 est.)  2.2%  (2...\n",
              " 2           Algeria  1.4%  (2017 est.)  3.2%  (2016 est.)  3.7%  (2...\n",
              " 3    American Samoa  -2.5%  (2016 est.)  1.2%  (2015 est.)  1%  (20...\n",
              " 4           Andorra  -1.1%  (2015 est.)  1.4%  (2014 est.)  -0.1%  ...\n",
              " ..              ...                                                ...\n",
              " 227  Western Sahara                                                NaN\n",
              " 228           World  3.7%  (2017 est.)  3.2%  (2016 est.)  3.3%  (2...\n",
              " 229           Yemen  -5.9%  (2017 est.)  -13.6%  (2016 est.)  -16.7...\n",
              " 230          Zambia  3.4%  (2017 est.)  3.8%  (2016 est.)  2.9%  (2...\n",
              " 231        Zimbabwe  3.7%  (2017 est.)  0.7%  (2016 est.)  1.4%  (2...\n",
              " \n",
              " [232 rows x 2 columns]]"
            ]
          },
          "metadata": {
            "tags": []
          },
          "execution_count": 474
        }
      ]
    },
    {
      "cell_type": "code",
      "metadata": {
        "id": "FTflCmLqg9Lk",
        "outputId": "8d1ab9a3-f3fb-4755-c332-d32ac0f9f0de",
        "colab": {
          "base_uri": "https://localhost:8080/",
          "height": 419
        }
      },
      "source": [
        "df = df[0] # Looking through tables to see the one the contains the data, [0] does [1] does not\n",
        "df "
      ],
      "execution_count": 475,
      "outputs": [
        {
          "output_type": "execute_result",
          "data": {
            "text/html": [
              "<div>\n",
              "<style scoped>\n",
              "    .dataframe tbody tr th:only-of-type {\n",
              "        vertical-align: middle;\n",
              "    }\n",
              "\n",
              "    .dataframe tbody tr th {\n",
              "        vertical-align: top;\n",
              "    }\n",
              "\n",
              "    .dataframe thead th {\n",
              "        text-align: right;\n",
              "    }\n",
              "</style>\n",
              "<table border=\"1\" class=\"dataframe\">\n",
              "  <thead>\n",
              "    <tr style=\"text-align: right;\">\n",
              "      <th></th>\n",
              "      <th>Country</th>\n",
              "      <th>GDP - real growth rate</th>\n",
              "    </tr>\n",
              "  </thead>\n",
              "  <tbody>\n",
              "    <tr>\n",
              "      <th>0</th>\n",
              "      <td>Afghanistan</td>\n",
              "      <td>2.7%  (2017 est.)  2.2%  (2016 est.)  1%  (201...</td>\n",
              "    </tr>\n",
              "    <tr>\n",
              "      <th>1</th>\n",
              "      <td>Albania</td>\n",
              "      <td>3.8%  (2017 est.)  3.4%  (2016 est.)  2.2%  (2...</td>\n",
              "    </tr>\n",
              "    <tr>\n",
              "      <th>2</th>\n",
              "      <td>Algeria</td>\n",
              "      <td>1.4%  (2017 est.)  3.2%  (2016 est.)  3.7%  (2...</td>\n",
              "    </tr>\n",
              "    <tr>\n",
              "      <th>3</th>\n",
              "      <td>American Samoa</td>\n",
              "      <td>-2.5%  (2016 est.)  1.2%  (2015 est.)  1%  (20...</td>\n",
              "    </tr>\n",
              "    <tr>\n",
              "      <th>4</th>\n",
              "      <td>Andorra</td>\n",
              "      <td>-1.1%  (2015 est.)  1.4%  (2014 est.)  -0.1%  ...</td>\n",
              "    </tr>\n",
              "    <tr>\n",
              "      <th>...</th>\n",
              "      <td>...</td>\n",
              "      <td>...</td>\n",
              "    </tr>\n",
              "    <tr>\n",
              "      <th>227</th>\n",
              "      <td>Western Sahara</td>\n",
              "      <td>NaN</td>\n",
              "    </tr>\n",
              "    <tr>\n",
              "      <th>228</th>\n",
              "      <td>World</td>\n",
              "      <td>3.7%  (2017 est.)  3.2%  (2016 est.)  3.3%  (2...</td>\n",
              "    </tr>\n",
              "    <tr>\n",
              "      <th>229</th>\n",
              "      <td>Yemen</td>\n",
              "      <td>-5.9%  (2017 est.)  -13.6%  (2016 est.)  -16.7...</td>\n",
              "    </tr>\n",
              "    <tr>\n",
              "      <th>230</th>\n",
              "      <td>Zambia</td>\n",
              "      <td>3.4%  (2017 est.)  3.8%  (2016 est.)  2.9%  (2...</td>\n",
              "    </tr>\n",
              "    <tr>\n",
              "      <th>231</th>\n",
              "      <td>Zimbabwe</td>\n",
              "      <td>3.7%  (2017 est.)  0.7%  (2016 est.)  1.4%  (2...</td>\n",
              "    </tr>\n",
              "  </tbody>\n",
              "</table>\n",
              "<p>232 rows × 2 columns</p>\n",
              "</div>"
            ],
            "text/plain": [
              "            Country                             GDP - real growth rate\n",
              "0       Afghanistan  2.7%  (2017 est.)  2.2%  (2016 est.)  1%  (201...\n",
              "1           Albania  3.8%  (2017 est.)  3.4%  (2016 est.)  2.2%  (2...\n",
              "2           Algeria  1.4%  (2017 est.)  3.2%  (2016 est.)  3.7%  (2...\n",
              "3    American Samoa  -2.5%  (2016 est.)  1.2%  (2015 est.)  1%  (20...\n",
              "4           Andorra  -1.1%  (2015 est.)  1.4%  (2014 est.)  -0.1%  ...\n",
              "..              ...                                                ...\n",
              "227  Western Sahara                                                NaN\n",
              "228           World  3.7%  (2017 est.)  3.2%  (2016 est.)  3.3%  (2...\n",
              "229           Yemen  -5.9%  (2017 est.)  -13.6%  (2016 est.)  -16.7...\n",
              "230          Zambia  3.4%  (2017 est.)  3.8%  (2016 est.)  2.9%  (2...\n",
              "231        Zimbabwe  3.7%  (2017 est.)  0.7%  (2016 est.)  1.4%  (2...\n",
              "\n",
              "[232 rows x 2 columns]"
            ]
          },
          "metadata": {
            "tags": []
          },
          "execution_count": 475
        }
      ]
    },
    {
      "cell_type": "code",
      "metadata": {
        "id": "AUdTGiVUk6md",
        "outputId": "131bf978-2962-4ab7-f3d0-7cba505f7509",
        "colab": {
          "base_uri": "https://localhost:8080/",
          "height": 80
        }
      },
      "source": [
        "Ven_GDP = df[df[\"Country\"].str.contains(\"Venezuela\")]\n",
        "Ven_GDP"
      ],
      "execution_count": 476,
      "outputs": [
        {
          "output_type": "execute_result",
          "data": {
            "text/html": [
              "<div>\n",
              "<style scoped>\n",
              "    .dataframe tbody tr th:only-of-type {\n",
              "        vertical-align: middle;\n",
              "    }\n",
              "\n",
              "    .dataframe tbody tr th {\n",
              "        vertical-align: top;\n",
              "    }\n",
              "\n",
              "    .dataframe thead th {\n",
              "        text-align: right;\n",
              "    }\n",
              "</style>\n",
              "<table border=\"1\" class=\"dataframe\">\n",
              "  <thead>\n",
              "    <tr style=\"text-align: right;\">\n",
              "      <th></th>\n",
              "      <th>Country</th>\n",
              "      <th>GDP - real growth rate</th>\n",
              "    </tr>\n",
              "  </thead>\n",
              "  <tbody>\n",
              "    <tr>\n",
              "      <th>222</th>\n",
              "      <td>Venezuela</td>\n",
              "      <td>-14%  (2017 est.)  -16.5%  (2016 est.)  -6.2% ...</td>\n",
              "    </tr>\n",
              "  </tbody>\n",
              "</table>\n",
              "</div>"
            ],
            "text/plain": [
              "       Country                             GDP - real growth rate\n",
              "222  Venezuela  -14%  (2017 est.)  -16.5%  (2016 est.)  -6.2% ..."
            ]
          },
          "metadata": {
            "tags": []
          },
          "execution_count": 476
        }
      ]
    },
    {
      "cell_type": "code",
      "metadata": {
        "id": "3XO88CHJ7vZR",
        "outputId": "e27fb77f-a12a-487c-aaef-7753a2f16a34",
        "colab": {
          "base_uri": "https://localhost:8080/",
          "height": 34
        }
      },
      "source": [
        "\n",
        "Ven_Growth = list(Ven_GDP[\"GDP - real growth rate\"]) # Listing numbers from tuition fee for UMBC\n",
        "Ven_Growth"
      ],
      "execution_count": 477,
      "outputs": [
        {
          "output_type": "execute_result",
          "data": {
            "text/plain": [
              "['-14%  (2017 est.)  -16.5%  (2016 est.)  -6.2%  (2015 est.)']"
            ]
          },
          "metadata": {
            "tags": []
          },
          "execution_count": 477
        }
      ]
    },
    {
      "cell_type": "code",
      "metadata": {
        "id": "xdK_pCvGPczn"
      },
      "source": [
        "Years = ['2015','2016','2017','2018']\n",
        "GDP_Growth_Negative  = [-6.2,-16.5,-14,-19.6] #https://www.focus-economics.com/country-indicator/venezuela/gdp"
      ],
      "execution_count": 636,
      "outputs": []
    },
    {
      "cell_type": "code",
      "metadata": {
        "id": "n60o8Vb0yXhj",
        "outputId": "9aa2a0f7-3afa-4c66-bdd2-a8b8096bd2ea",
        "colab": {
          "base_uri": "https://localhost:8080/",
          "height": 513
        }
      },
      "source": [
        "Years \n",
        "GDP_Growth_Negative \n",
        "\n",
        "fig, ax = plt.subplots(figsize=(12,8))\n",
        "\n",
        "ax.bar(Year, GDP_Growth_Negative)\n",
        "ax.set_title(\"GDP Contraction-Venzuela\")\n",
        "ax.set_xlabel(\"Year\")\n",
        "ax.set_ylabel(\"GDP Growth-Negative\")\n",
        "\n",
        "fig.show()"
      ],
      "execution_count": 491,
      "outputs": [
        {
          "output_type": "display_data",
          "data": {
            "image/png": "[encoded data removed]",
            "text/plain": [
              "<Figure size 864x576 with 1 Axes>"
            ]
          },
          "metadata": {
            "tags": [],
            "needs_background": "light"
          }
        }
      ]
    },
    {
      "cell_type": "code",
      "metadata": {
        "id": "7jTEqcZC901J",
        "outputId": "2dccfc50-430f-468c-bec4-48375cd12a01",
        "colab": {
          "base_uri": "https://localhost:8080/",
          "height": 255
        }
      },
      "source": [
        "import matplotlib.pyplot as plt\n",
        "import pandas as pd \n",
        "df= pd.read_html(\"https://www.cia.gov/library/publications/the-world-factbook/fields/221.html#VE\")\n",
        "df"
      ],
      "execution_count": null,
      "outputs": [
        {
          "output_type": "execute_result",
          "data": {
            "text/plain": [
              "[            Country Population below poverty line\n",
              " 0       Afghanistan            54.5%  (2017 est.)\n",
              " 1           Albania            14.3%  (2012 est.)\n",
              " 2           Algeria              23%  (2006 est.)\n",
              " 3    American Samoa                           NaN\n",
              " 4            Angola            36.6%  (2008 est.)\n",
              " ..              ...                           ...\n",
              " 222       West Bank              18%  (2011 est.)\n",
              " 223  Western Sahara                           NaN\n",
              " 224           Yemen              54%  (2014 est.)\n",
              " 225          Zambia            54.4%  (2015 est.)\n",
              " 226        Zimbabwe            72.3%  (2012 est.)\n",
              " \n",
              " [227 rows x 2 columns]]"
            ]
          },
          "metadata": {
            "tags": []
          },
          "execution_count": 7
        }
      ]
    },
    {
      "cell_type": "code",
      "metadata": {
        "id": "9ktic2Yl-SZ1",
        "outputId": "87ab0891-0afb-4cca-c1e9-60d4c1a7d818",
        "colab": {
          "base_uri": "https://localhost:8080/",
          "height": 419
        }
      },
      "source": [
        "df = df[0] # Looking through tables to see the one the contains the data, [0] does [1] does not\n",
        "df \n"
      ],
      "execution_count": null,
      "outputs": [
        {
          "output_type": "execute_result",
          "data": {
            "text/html": [
              "<div>\n",
              "<style scoped>\n",
              "    .dataframe tbody tr th:only-of-type {\n",
              "        vertical-align: middle;\n",
              "    }\n",
              "\n",
              "    .dataframe tbody tr th {\n",
              "        vertical-align: top;\n",
              "    }\n",
              "\n",
              "    .dataframe thead th {\n",
              "        text-align: right;\n",
              "    }\n",
              "</style>\n",
              "<table border=\"1\" class=\"dataframe\">\n",
              "  <thead>\n",
              "    <tr style=\"text-align: right;\">\n",
              "      <th></th>\n",
              "      <th>Country</th>\n",
              "      <th>Population below poverty line</th>\n",
              "    </tr>\n",
              "  </thead>\n",
              "  <tbody>\n",
              "    <tr>\n",
              "      <th>0</th>\n",
              "      <td>Afghanistan</td>\n",
              "      <td>54.5%  (2017 est.)</td>\n",
              "    </tr>\n",
              "    <tr>\n",
              "      <th>1</th>\n",
              "      <td>Albania</td>\n",
              "      <td>14.3%  (2012 est.)</td>\n",
              "    </tr>\n",
              "    <tr>\n",
              "      <th>2</th>\n",
              "      <td>Algeria</td>\n",
              "      <td>23%  (2006 est.)</td>\n",
              "    </tr>\n",
              "    <tr>\n",
              "      <th>3</th>\n",
              "      <td>American Samoa</td>\n",
              "      <td>NaN</td>\n",
              "    </tr>\n",
              "    <tr>\n",
              "      <th>4</th>\n",
              "      <td>Angola</td>\n",
              "      <td>36.6%  (2008 est.)</td>\n",
              "    </tr>\n",
              "    <tr>\n",
              "      <th>...</th>\n",
              "      <td>...</td>\n",
              "      <td>...</td>\n",
              "    </tr>\n",
              "    <tr>\n",
              "      <th>222</th>\n",
              "      <td>West Bank</td>\n",
              "      <td>18%  (2011 est.)</td>\n",
              "    </tr>\n",
              "    <tr>\n",
              "      <th>223</th>\n",
              "      <td>Western Sahara</td>\n",
              "      <td>NaN</td>\n",
              "    </tr>\n",
              "    <tr>\n",
              "      <th>224</th>\n",
              "      <td>Yemen</td>\n",
              "      <td>54%  (2014 est.)</td>\n",
              "    </tr>\n",
              "    <tr>\n",
              "      <th>225</th>\n",
              "      <td>Zambia</td>\n",
              "      <td>54.4%  (2015 est.)</td>\n",
              "    </tr>\n",
              "    <tr>\n",
              "      <th>226</th>\n",
              "      <td>Zimbabwe</td>\n",
              "      <td>72.3%  (2012 est.)</td>\n",
              "    </tr>\n",
              "  </tbody>\n",
              "</table>\n",
              "<p>227 rows × 2 columns</p>\n",
              "</div>"
            ],
            "text/plain": [
              "            Country Population below poverty line\n",
              "0       Afghanistan            54.5%  (2017 est.)\n",
              "1           Albania            14.3%  (2012 est.)\n",
              "2           Algeria              23%  (2006 est.)\n",
              "3    American Samoa                           NaN\n",
              "4            Angola            36.6%  (2008 est.)\n",
              "..              ...                           ...\n",
              "222       West Bank              18%  (2011 est.)\n",
              "223  Western Sahara                           NaN\n",
              "224           Yemen              54%  (2014 est.)\n",
              "225          Zambia            54.4%  (2015 est.)\n",
              "226        Zimbabwe            72.3%  (2012 est.)\n",
              "\n",
              "[227 rows x 2 columns]"
            ]
          },
          "metadata": {
            "tags": []
          },
          "execution_count": 8
        }
      ]
    },
    {
      "cell_type": "code",
      "metadata": {
        "id": "dL6Idzfj-YOy",
        "outputId": "45c2a017-3758-44b9-b13c-bd02eb3e4658",
        "colab": {
          "base_uri": "https://localhost:8080/",
          "height": 80
        }
      },
      "source": [
        "Ven_Poverty_Rate= df[df[\"Country\"].str.contains(\"Venezuela\")]\n",
        "Ven_Poverty_Rate"
      ],
      "execution_count": null,
      "outputs": [
        {
          "output_type": "execute_result",
          "data": {
            "text/html": [
              "<div>\n",
              "<style scoped>\n",
              "    .dataframe tbody tr th:only-of-type {\n",
              "        vertical-align: middle;\n",
              "    }\n",
              "\n",
              "    .dataframe tbody tr th {\n",
              "        vertical-align: top;\n",
              "    }\n",
              "\n",
              "    .dataframe thead th {\n",
              "        text-align: right;\n",
              "    }\n",
              "</style>\n",
              "<table border=\"1\" class=\"dataframe\">\n",
              "  <thead>\n",
              "    <tr style=\"text-align: right;\">\n",
              "      <th></th>\n",
              "      <th>Country</th>\n",
              "      <th>Population below poverty line</th>\n",
              "    </tr>\n",
              "  </thead>\n",
              "  <tbody>\n",
              "    <tr>\n",
              "      <th>218</th>\n",
              "      <td>Venezuela</td>\n",
              "      <td>19.7%  (2015 est.)</td>\n",
              "    </tr>\n",
              "  </tbody>\n",
              "</table>\n",
              "</div>"
            ],
            "text/plain": [
              "       Country Population below poverty line\n",
              "218  Venezuela            19.7%  (2015 est.)"
            ]
          },
          "metadata": {
            "tags": []
          },
          "execution_count": 9
        }
      ]
    },
    {
      "cell_type": "code",
      "metadata": {
        "id": "rVptv7CxJU_Z",
        "outputId": "d6548f21-1e7f-4f68-9d93-8f666a9a7ee2",
        "colab": {
          "base_uri": "https://localhost:8080/",
          "height": 80
        }
      },
      "source": [
        "d = {'Country': [\"World/Global Average\"],\"Population below poverty line\": [9.2]} #https://www.worldbank.org/en/topic/poverty/overview#:~:text=The%20global%20extreme%20poverty%20rate,%245.50%20a%20day%20in%202017.\n",
        "df_World = pd.DataFrame(data=d)\n",
        "df_World"
      ],
      "execution_count": null,
      "outputs": [
        {
          "output_type": "execute_result",
          "data": {
            "text/html": [
              "<div>\n",
              "<style scoped>\n",
              "    .dataframe tbody tr th:only-of-type {\n",
              "        vertical-align: middle;\n",
              "    }\n",
              "\n",
              "    .dataframe tbody tr th {\n",
              "        vertical-align: top;\n",
              "    }\n",
              "\n",
              "    .dataframe thead th {\n",
              "        text-align: right;\n",
              "    }\n",
              "</style>\n",
              "<table border=\"1\" class=\"dataframe\">\n",
              "  <thead>\n",
              "    <tr style=\"text-align: right;\">\n",
              "      <th></th>\n",
              "      <th>Country</th>\n",
              "      <th>Population below poverty line</th>\n",
              "    </tr>\n",
              "  </thead>\n",
              "  <tbody>\n",
              "    <tr>\n",
              "      <th>0</th>\n",
              "      <td>World/Global Average</td>\n",
              "      <td>9.2</td>\n",
              "    </tr>\n",
              "  </tbody>\n",
              "</table>\n",
              "</div>"
            ],
            "text/plain": [
              "                Country  Population below poverty line\n",
              "0  World/Global Average                            9.2"
            ]
          },
          "metadata": {
            "tags": []
          },
          "execution_count": 10
        }
      ]
    },
    {
      "cell_type": "code",
      "metadata": {
        "id": "c4hm2ecKDUgZ",
        "outputId": "39eaa67f-272e-4be0-b08c-3c779f79a121",
        "colab": {
          "base_uri": "https://localhost:8080/",
          "height": 111
        }
      },
      "source": [
        "df_combined= pd.concat([Ven_Poverty_Rate,df_World])\n",
        "df_combined"
      ],
      "execution_count": null,
      "outputs": [
        {
          "output_type": "execute_result",
          "data": {
            "text/html": [
              "<div>\n",
              "<style scoped>\n",
              "    .dataframe tbody tr th:only-of-type {\n",
              "        vertical-align: middle;\n",
              "    }\n",
              "\n",
              "    .dataframe tbody tr th {\n",
              "        vertical-align: top;\n",
              "    }\n",
              "\n",
              "    .dataframe thead th {\n",
              "        text-align: right;\n",
              "    }\n",
              "</style>\n",
              "<table border=\"1\" class=\"dataframe\">\n",
              "  <thead>\n",
              "    <tr style=\"text-align: right;\">\n",
              "      <th></th>\n",
              "      <th>Country</th>\n",
              "      <th>Population below poverty line</th>\n",
              "    </tr>\n",
              "  </thead>\n",
              "  <tbody>\n",
              "    <tr>\n",
              "      <th>218</th>\n",
              "      <td>Venezuela</td>\n",
              "      <td>19.7%  (2015 est.)</td>\n",
              "    </tr>\n",
              "    <tr>\n",
              "      <th>0</th>\n",
              "      <td>World/Global Average</td>\n",
              "      <td>9.2</td>\n",
              "    </tr>\n",
              "  </tbody>\n",
              "</table>\n",
              "</div>"
            ],
            "text/plain": [
              "                  Country Population below poverty line\n",
              "218             Venezuela            19.7%  (2015 est.)\n",
              "0    World/Global Average                           9.2"
            ]
          },
          "metadata": {
            "tags": []
          },
          "execution_count": 11
        }
      ]
    },
    {
      "cell_type": "code",
      "metadata": {
        "id": "xD7ghz0cRwmA"
      },
      "source": [
        "GDP_Growth_Negative  = [19.7,9.2]"
      ],
      "execution_count": 505,
      "outputs": []
    },
    {
      "cell_type": "code",
      "metadata": {
        "id": "m8CiLiEwJSp1",
        "outputId": "452d3ab2-c0bc-4b4d-951d-9046a2ee69b2",
        "colab": {
          "base_uri": "https://localhost:8080/",
          "height": 513
        }
      },
      "source": [
        "Country = [\"Venezuela\",\t\"World/Global Average\"]\n",
        "GDP_Growth_Negative \n",
        "\n",
        "fig, ax = plt.subplots(figsize=(12,8))\n",
        "\n",
        "ax.bar(Country, GDP_Growth_Negative)\n",
        "ax.set_title(\"Poverty Rate\")\n",
        "ax.set_xlabel(\"Country\")\n",
        "ax.set_ylabel(\"Poverty Rate\")\n",
        "\n",
        "fig.show()"
      ],
      "execution_count": 506,
      "outputs": [
        {
          "output_type": "display_data",
          "data": {
            "image/png": "[encoded data removed]",
            "text/plain": [
              "<Figure size 864x576 with 1 Axes>"
            ]
          },
          "metadata": {
            "tags": [],
            "needs_background": "light"
          }
        }
      ]
    },
    {
      "cell_type": "code",
      "metadata": {
        "id": "ZkvC1ief3TcR",
        "outputId": "d7a7eb60-fa33-4ede-9dd1-05ff275e07aa",
        "colab": {
          "base_uri": "https://localhost:8080/",
          "height": 595
        }
      },
      "source": [
        "import matplotlib.pyplot as plt\n",
        "import pandas as pd \n",
        "import pandas as pd \n",
        "df= pd.read_html(\"https://www.focus-economics.com/countries/venezuela\")\n",
        "df"
      ],
      "execution_count": 300,
      "outputs": [
        {
          "output_type": "execute_result",
          "data": {
            "text/plain": [
              "[                                          Unnamed: 0   2015  ...    2018   2019\n",
              " 0                               Population (million)   30.6  ...    28.9   27.5\n",
              " 1                               GDP per capita (USD)  10568  ...    3411      -\n",
              " 2                                       GDP (USD bn)    324  ...    98.4      -\n",
              " 3       Economic Growth (GDP, annual variation in %)   -6.2  ...   -19.6      -\n",
              " 4            Domestic Demand (annual variation in %)  -11.8  ...   -18.2      -\n",
              " 5                Consumption (annual variation in %)   -8.9  ...   -20.1      -\n",
              " 6                 Investment (annual variation in %)  -20.4  ...   -37.5      -\n",
              " 7              Manufacturing (annual variation in %)   -5.4  ...       -      -\n",
              " 8               Retail Sales (annual variation in %)      -  ...       -      -\n",
              " 9                                  Unemployment Rate    6.8  ...     6.9      -\n",
              " 10                         Fiscal Balance (% of GDP)  -15.6  ...       -      -\n",
              " 11                            Public Debt (% of GDP)   74.7  ...       -      -\n",
              " 12                     Money (annual variation in %)    101  ...   63257   4946\n",
              " 13  Inflation Rate (CPI, annual variation in %, eop)    181  ...  130060   9585\n",
              " 14       Inflation Rate (CPI, annual variation in %)    122  ...   65374  19906\n",
              " 15            Inflation (PPI, annual variation in %)      -  ...       -      -\n",
              " 16                       Benchmark Interest Rate (%)  14.59  ...   15.00  24.00\n",
              " 17              Stock Market (annual variation in %)    278  ...  126985   5521\n",
              " 18                            Exchange Rate (vs USD)   6.30  ...   638.2  46621\n",
              " 19                       Exchange Rate (vs USD, aop)   6.30  ...   81.94  15910\n",
              " 20                        Current Account (% of GDP)   -5.6  ...     8.7      -\n",
              " 21                  Current Account Balance (USD bn)  -16.1  ...     8.6      -\n",
              " 22                       Trade Balance (USD billion)    3.9  ...    20.9      -\n",
              " 23                             Exports (USD billion)   37.2  ...    33.7      -\n",
              " 24                             Imports (USD billion)   33.3  ...    12.8      -\n",
              " 25                   Exports (annual variation in %)  -50.1  ...    -1.0      -\n",
              " 26                   Imports (annual variation in %)  -29.5  ...     6.5      -\n",
              " 27                      International Reserves (USD)   16.4  ...     8.8    7.5\n",
              " 28                          External Debt (% of GDP)   38.6  ...     110      -\n",
              " \n",
              " [29 rows x 6 columns],       Unnamed: 0     Value Change    Date\n",
              " 0     Bond Yield       5.5  0.0 %  Aug 19\n",
              " 1  Exchange Rate  248832.0  0.0 %  Aug 17]"
            ]
          },
          "metadata": {
            "tags": []
          },
          "execution_count": 300
        }
      ]
    },
    {
      "cell_type": "code",
      "metadata": {
        "id": "sumTPORA4LFq",
        "outputId": "919c4f5e-a711-4d6c-b7d7-5e967e3d7d22",
        "colab": {
          "base_uri": "https://localhost:8080/",
          "height": 948
        }
      },
      "source": [
        "df = df[0] # Looking through tables to see the one the contains the data, [0] does [1] does not\n",
        "df "
      ],
      "execution_count": 301,
      "outputs": [
        {
          "output_type": "execute_result",
          "data": {
            "text/html": [
              "<div>\n",
              "<style scoped>\n",
              "    .dataframe tbody tr th:only-of-type {\n",
              "        vertical-align: middle;\n",
              "    }\n",
              "\n",
              "    .dataframe tbody tr th {\n",
              "        vertical-align: top;\n",
              "    }\n",
              "\n",
              "    .dataframe thead th {\n",
              "        text-align: right;\n",
              "    }\n",
              "</style>\n",
              "<table border=\"1\" class=\"dataframe\">\n",
              "  <thead>\n",
              "    <tr style=\"text-align: right;\">\n",
              "      <th></th>\n",
              "      <th>Unnamed: 0</th>\n",
              "      <th>2015</th>\n",
              "      <th>2016</th>\n",
              "      <th>2017</th>\n",
              "      <th>2018</th>\n",
              "      <th>2019</th>\n",
              "    </tr>\n",
              "  </thead>\n",
              "  <tbody>\n",
              "    <tr>\n",
              "      <th>0</th>\n",
              "      <td>Population (million)</td>\n",
              "      <td>30.6</td>\n",
              "      <td>30.7</td>\n",
              "      <td>30.3</td>\n",
              "      <td>28.9</td>\n",
              "      <td>27.5</td>\n",
              "    </tr>\n",
              "    <tr>\n",
              "      <th>1</th>\n",
              "      <td>GDP per capita (USD)</td>\n",
              "      <td>10568</td>\n",
              "      <td>9092</td>\n",
              "      <td>4755</td>\n",
              "      <td>3411</td>\n",
              "      <td>-</td>\n",
              "    </tr>\n",
              "    <tr>\n",
              "      <th>2</th>\n",
              "      <td>GDP (USD bn)</td>\n",
              "      <td>324</td>\n",
              "      <td>279</td>\n",
              "      <td>144</td>\n",
              "      <td>98.4</td>\n",
              "      <td>-</td>\n",
              "    </tr>\n",
              "    <tr>\n",
              "      <th>3</th>\n",
              "      <td>Economic Growth (GDP, annual variation in %)</td>\n",
              "      <td>-6.2</td>\n",
              "      <td>-17.0</td>\n",
              "      <td>-15.7</td>\n",
              "      <td>-19.6</td>\n",
              "      <td>-</td>\n",
              "    </tr>\n",
              "    <tr>\n",
              "      <th>4</th>\n",
              "      <td>Domestic Demand (annual variation in %)</td>\n",
              "      <td>-11.8</td>\n",
              "      <td>-26.3</td>\n",
              "      <td>-21.1</td>\n",
              "      <td>-18.2</td>\n",
              "      <td>-</td>\n",
              "    </tr>\n",
              "    <tr>\n",
              "      <th>5</th>\n",
              "      <td>Consumption (annual variation in %)</td>\n",
              "      <td>-8.9</td>\n",
              "      <td>-19.4</td>\n",
              "      <td>-16.2</td>\n",
              "      <td>-20.1</td>\n",
              "      <td>-</td>\n",
              "    </tr>\n",
              "    <tr>\n",
              "      <th>6</th>\n",
              "      <td>Investment (annual variation in %)</td>\n",
              "      <td>-20.4</td>\n",
              "      <td>-45.1</td>\n",
              "      <td>-45.3</td>\n",
              "      <td>-37.5</td>\n",
              "      <td>-</td>\n",
              "    </tr>\n",
              "    <tr>\n",
              "      <th>7</th>\n",
              "      <td>Manufacturing (annual variation in %)</td>\n",
              "      <td>-5.4</td>\n",
              "      <td>-</td>\n",
              "      <td>-</td>\n",
              "      <td>-</td>\n",
              "      <td>-</td>\n",
              "    </tr>\n",
              "    <tr>\n",
              "      <th>8</th>\n",
              "      <td>Retail Sales (annual variation in %)</td>\n",
              "      <td>-</td>\n",
              "      <td>-</td>\n",
              "      <td>-</td>\n",
              "      <td>-</td>\n",
              "      <td>-</td>\n",
              "    </tr>\n",
              "    <tr>\n",
              "      <th>9</th>\n",
              "      <td>Unemployment Rate</td>\n",
              "      <td>6.8</td>\n",
              "      <td>7.3</td>\n",
              "      <td>7.2</td>\n",
              "      <td>6.9</td>\n",
              "      <td>-</td>\n",
              "    </tr>\n",
              "    <tr>\n",
              "      <th>10</th>\n",
              "      <td>Fiscal Balance (% of GDP)</td>\n",
              "      <td>-15.6</td>\n",
              "      <td>-16.8</td>\n",
              "      <td>-18.2</td>\n",
              "      <td>-</td>\n",
              "      <td>-</td>\n",
              "    </tr>\n",
              "    <tr>\n",
              "      <th>11</th>\n",
              "      <td>Public Debt (% of GDP)</td>\n",
              "      <td>74.7</td>\n",
              "      <td>92.3</td>\n",
              "      <td>120</td>\n",
              "      <td>-</td>\n",
              "      <td>-</td>\n",
              "    </tr>\n",
              "    <tr>\n",
              "      <th>12</th>\n",
              "      <td>Money (annual variation in %)</td>\n",
              "      <td>101</td>\n",
              "      <td>159</td>\n",
              "      <td>1121</td>\n",
              "      <td>63257</td>\n",
              "      <td>4946</td>\n",
              "    </tr>\n",
              "    <tr>\n",
              "      <th>13</th>\n",
              "      <td>Inflation Rate (CPI, annual variation in %, eop)</td>\n",
              "      <td>181</td>\n",
              "      <td>274</td>\n",
              "      <td>863</td>\n",
              "      <td>130060</td>\n",
              "      <td>9585</td>\n",
              "    </tr>\n",
              "    <tr>\n",
              "      <th>14</th>\n",
              "      <td>Inflation Rate (CPI, annual variation in %)</td>\n",
              "      <td>122</td>\n",
              "      <td>255</td>\n",
              "      <td>438</td>\n",
              "      <td>65374</td>\n",
              "      <td>19906</td>\n",
              "    </tr>\n",
              "    <tr>\n",
              "      <th>15</th>\n",
              "      <td>Inflation (PPI, annual variation in %)</td>\n",
              "      <td>-</td>\n",
              "      <td>-</td>\n",
              "      <td>-</td>\n",
              "      <td>-</td>\n",
              "      <td>-</td>\n",
              "    </tr>\n",
              "    <tr>\n",
              "      <th>16</th>\n",
              "      <td>Benchmark Interest Rate (%)</td>\n",
              "      <td>14.59</td>\n",
              "      <td>14.62</td>\n",
              "      <td>14.77</td>\n",
              "      <td>15.00</td>\n",
              "      <td>24.00</td>\n",
              "    </tr>\n",
              "    <tr>\n",
              "      <th>17</th>\n",
              "      <td>Stock Market (annual variation in %)</td>\n",
              "      <td>278</td>\n",
              "      <td>117</td>\n",
              "      <td>3884</td>\n",
              "      <td>126985</td>\n",
              "      <td>5521</td>\n",
              "    </tr>\n",
              "    <tr>\n",
              "      <th>18</th>\n",
              "      <td>Exchange Rate (vs USD)</td>\n",
              "      <td>6.30</td>\n",
              "      <td>10.00</td>\n",
              "      <td>10.00</td>\n",
              "      <td>638.2</td>\n",
              "      <td>46621</td>\n",
              "    </tr>\n",
              "    <tr>\n",
              "      <th>19</th>\n",
              "      <td>Exchange Rate (vs USD, aop)</td>\n",
              "      <td>6.30</td>\n",
              "      <td>9.29</td>\n",
              "      <td>10.00</td>\n",
              "      <td>81.94</td>\n",
              "      <td>15910</td>\n",
              "    </tr>\n",
              "    <tr>\n",
              "      <th>20</th>\n",
              "      <td>Current Account (% of GDP)</td>\n",
              "      <td>-5.6</td>\n",
              "      <td>-0.4</td>\n",
              "      <td>6.1</td>\n",
              "      <td>8.7</td>\n",
              "      <td>-</td>\n",
              "    </tr>\n",
              "    <tr>\n",
              "      <th>21</th>\n",
              "      <td>Current Account Balance (USD bn)</td>\n",
              "      <td>-16.1</td>\n",
              "      <td>-3.9</td>\n",
              "      <td>8.7</td>\n",
              "      <td>8.6</td>\n",
              "      <td>-</td>\n",
              "    </tr>\n",
              "    <tr>\n",
              "      <th>22</th>\n",
              "      <td>Trade Balance (USD billion)</td>\n",
              "      <td>3.9</td>\n",
              "      <td>11.0</td>\n",
              "      <td>22.0</td>\n",
              "      <td>20.9</td>\n",
              "      <td>-</td>\n",
              "    </tr>\n",
              "    <tr>\n",
              "      <th>23</th>\n",
              "      <td>Exports (USD billion)</td>\n",
              "      <td>37.2</td>\n",
              "      <td>27.4</td>\n",
              "      <td>34.0</td>\n",
              "      <td>33.7</td>\n",
              "      <td>-</td>\n",
              "    </tr>\n",
              "    <tr>\n",
              "      <th>24</th>\n",
              "      <td>Imports (USD billion)</td>\n",
              "      <td>33.3</td>\n",
              "      <td>16.4</td>\n",
              "      <td>12.0</td>\n",
              "      <td>12.8</td>\n",
              "      <td>-</td>\n",
              "    </tr>\n",
              "    <tr>\n",
              "      <th>25</th>\n",
              "      <td>Exports (annual variation in %)</td>\n",
              "      <td>-50.1</td>\n",
              "      <td>-26.4</td>\n",
              "      <td>24.2</td>\n",
              "      <td>-1.0</td>\n",
              "      <td>-</td>\n",
              "    </tr>\n",
              "    <tr>\n",
              "      <th>26</th>\n",
              "      <td>Imports (annual variation in %)</td>\n",
              "      <td>-29.5</td>\n",
              "      <td>-50.9</td>\n",
              "      <td>-26.6</td>\n",
              "      <td>6.5</td>\n",
              "      <td>-</td>\n",
              "    </tr>\n",
              "    <tr>\n",
              "      <th>27</th>\n",
              "      <td>International Reserves (USD)</td>\n",
              "      <td>16.4</td>\n",
              "      <td>11.0</td>\n",
              "      <td>9.7</td>\n",
              "      <td>8.8</td>\n",
              "      <td>7.5</td>\n",
              "    </tr>\n",
              "    <tr>\n",
              "      <th>28</th>\n",
              "      <td>External Debt (% of GDP)</td>\n",
              "      <td>38.6</td>\n",
              "      <td>45.7</td>\n",
              "      <td>78.7</td>\n",
              "      <td>110</td>\n",
              "      <td>-</td>\n",
              "    </tr>\n",
              "  </tbody>\n",
              "</table>\n",
              "</div>"
            ],
            "text/plain": [
              "                                          Unnamed: 0   2015  ...    2018   2019\n",
              "0                               Population (million)   30.6  ...    28.9   27.5\n",
              "1                               GDP per capita (USD)  10568  ...    3411      -\n",
              "2                                       GDP (USD bn)    324  ...    98.4      -\n",
              "3       Economic Growth (GDP, annual variation in %)   -6.2  ...   -19.6      -\n",
              "4            Domestic Demand (annual variation in %)  -11.8  ...   -18.2      -\n",
              "5                Consumption (annual variation in %)   -8.9  ...   -20.1      -\n",
              "6                 Investment (annual variation in %)  -20.4  ...   -37.5      -\n",
              "7              Manufacturing (annual variation in %)   -5.4  ...       -      -\n",
              "8               Retail Sales (annual variation in %)      -  ...       -      -\n",
              "9                                  Unemployment Rate    6.8  ...     6.9      -\n",
              "10                         Fiscal Balance (% of GDP)  -15.6  ...       -      -\n",
              "11                            Public Debt (% of GDP)   74.7  ...       -      -\n",
              "12                     Money (annual variation in %)    101  ...   63257   4946\n",
              "13  Inflation Rate (CPI, annual variation in %, eop)    181  ...  130060   9585\n",
              "14       Inflation Rate (CPI, annual variation in %)    122  ...   65374  19906\n",
              "15            Inflation (PPI, annual variation in %)      -  ...       -      -\n",
              "16                       Benchmark Interest Rate (%)  14.59  ...   15.00  24.00\n",
              "17              Stock Market (annual variation in %)    278  ...  126985   5521\n",
              "18                            Exchange Rate (vs USD)   6.30  ...   638.2  46621\n",
              "19                       Exchange Rate (vs USD, aop)   6.30  ...   81.94  15910\n",
              "20                        Current Account (% of GDP)   -5.6  ...     8.7      -\n",
              "21                  Current Account Balance (USD bn)  -16.1  ...     8.6      -\n",
              "22                       Trade Balance (USD billion)    3.9  ...    20.9      -\n",
              "23                             Exports (USD billion)   37.2  ...    33.7      -\n",
              "24                             Imports (USD billion)   33.3  ...    12.8      -\n",
              "25                   Exports (annual variation in %)  -50.1  ...    -1.0      -\n",
              "26                   Imports (annual variation in %)  -29.5  ...     6.5      -\n",
              "27                      International Reserves (USD)   16.4  ...     8.8    7.5\n",
              "28                          External Debt (% of GDP)   38.6  ...     110      -\n",
              "\n",
              "[29 rows x 6 columns]"
            ]
          },
          "metadata": {
            "tags": []
          },
          "execution_count": 301
        }
      ]
    },
    {
      "cell_type": "code",
      "metadata": {
        "id": "WEb8Eoe57n-Z",
        "outputId": "bb071bde-1ebd-49eb-8b3e-1600cb6faec6",
        "colab": {
          "base_uri": "https://localhost:8080/",
          "height": 80
        }
      },
      "source": [
        "df.loc[df[\"Unnamed: 0\"] == \"Inflation Rate (CPI, annual variation in %)\"]\n",
        "Inflation_df=df.loc[df[\"Unnamed: 0\"] == \"Inflation Rate (CPI, annual variation in %)\"]\n",
        "Inflation_df"
      ],
      "execution_count": 302,
      "outputs": [
        {
          "output_type": "execute_result",
          "data": {
            "text/html": [
              "<div>\n",
              "<style scoped>\n",
              "    .dataframe tbody tr th:only-of-type {\n",
              "        vertical-align: middle;\n",
              "    }\n",
              "\n",
              "    .dataframe tbody tr th {\n",
              "        vertical-align: top;\n",
              "    }\n",
              "\n",
              "    .dataframe thead th {\n",
              "        text-align: right;\n",
              "    }\n",
              "</style>\n",
              "<table border=\"1\" class=\"dataframe\">\n",
              "  <thead>\n",
              "    <tr style=\"text-align: right;\">\n",
              "      <th></th>\n",
              "      <th>Unnamed: 0</th>\n",
              "      <th>2015</th>\n",
              "      <th>2016</th>\n",
              "      <th>2017</th>\n",
              "      <th>2018</th>\n",
              "      <th>2019</th>\n",
              "    </tr>\n",
              "  </thead>\n",
              "  <tbody>\n",
              "    <tr>\n",
              "      <th>14</th>\n",
              "      <td>Inflation Rate (CPI, annual variation in %)</td>\n",
              "      <td>122</td>\n",
              "      <td>255</td>\n",
              "      <td>438</td>\n",
              "      <td>65374</td>\n",
              "      <td>19906</td>\n",
              "    </tr>\n",
              "  </tbody>\n",
              "</table>\n",
              "</div>"
            ],
            "text/plain": [
              "                                     Unnamed: 0 2015 2016 2017   2018   2019\n",
              "14  Inflation Rate (CPI, annual variation in %)  122  255  438  65374  19906"
            ]
          },
          "metadata": {
            "tags": []
          },
          "execution_count": 302
        }
      ]
    },
    {
      "cell_type": "code",
      "metadata": {
        "id": "KDpXVQ9Mg7PV",
        "outputId": "18f1d585-118e-4497-b51e-b0dcc227848d",
        "colab": {
          "base_uri": "https://localhost:8080/",
          "height": 34
        }
      },
      "source": [
        "Years = list(Inflation_df) # Listing numbers from tuition fee for UMBC\n",
        "Years"
      ],
      "execution_count": 303,
      "outputs": [
        {
          "output_type": "execute_result",
          "data": {
            "text/plain": [
              "['Unnamed: 0', '2015', '2016', '2017', '2018', '2019']"
            ]
          },
          "metadata": {
            "tags": []
          },
          "execution_count": 303
        }
      ]
    },
    {
      "cell_type": "code",
      "metadata": {
        "id": "qOQ9V4n6KfpR",
        "outputId": "117b225b-975c-40ab-f8cf-b6c1eeaeddaa",
        "colab": {
          "base_uri": "https://localhost:8080/",
          "height": 80
        }
      },
      "source": [
        "\n",
        "Inflation_C_Rate=Inflation_df.drop(columns=[\"Unnamed: 0\" ])\n",
        "Inflation_C_Rate"
      ],
      "execution_count": 304,
      "outputs": [
        {
          "output_type": "execute_result",
          "data": {
            "text/html": [
              "<div>\n",
              "<style scoped>\n",
              "    .dataframe tbody tr th:only-of-type {\n",
              "        vertical-align: middle;\n",
              "    }\n",
              "\n",
              "    .dataframe tbody tr th {\n",
              "        vertical-align: top;\n",
              "    }\n",
              "\n",
              "    .dataframe thead th {\n",
              "        text-align: right;\n",
              "    }\n",
              "</style>\n",
              "<table border=\"1\" class=\"dataframe\">\n",
              "  <thead>\n",
              "    <tr style=\"text-align: right;\">\n",
              "      <th></th>\n",
              "      <th>2015</th>\n",
              "      <th>2016</th>\n",
              "      <th>2017</th>\n",
              "      <th>2018</th>\n",
              "      <th>2019</th>\n",
              "    </tr>\n",
              "  </thead>\n",
              "  <tbody>\n",
              "    <tr>\n",
              "      <th>14</th>\n",
              "      <td>122</td>\n",
              "      <td>255</td>\n",
              "      <td>438</td>\n",
              "      <td>65374</td>\n",
              "      <td>19906</td>\n",
              "    </tr>\n",
              "  </tbody>\n",
              "</table>\n",
              "</div>"
            ],
            "text/plain": [
              "   2015 2016 2017   2018   2019\n",
              "14  122  255  438  65374  19906"
            ]
          },
          "metadata": {
            "tags": []
          },
          "execution_count": 304
        }
      ]
    },
    {
      "cell_type": "code",
      "metadata": {
        "id": "F2Jb9Esrg6en",
        "outputId": "b730781f-f443-48fb-f4a7-efc72caf1eb7",
        "colab": {
          "base_uri": "https://localhost:8080/",
          "height": 34
        }
      },
      "source": [
        "Years = list(Inflation_C_Rate) # Listing numbers from tuition fee for UMBC\n",
        "Years"
      ],
      "execution_count": 499,
      "outputs": [
        {
          "output_type": "execute_result",
          "data": {
            "text/plain": [
              "['2015', '2016', '2017', '2018', '2019']"
            ]
          },
          "metadata": {
            "tags": []
          },
          "execution_count": 499
        }
      ]
    },
    {
      "cell_type": "code",
      "metadata": {
        "id": "bIX7Dtm9Q90w"
      },
      "source": [
        "Inflation_Rate  = [122,255,438,65374,19906]"
      ],
      "execution_count": 498,
      "outputs": []
    },
    {
      "cell_type": "code",
      "metadata": {
        "id": "okBQwU9NjmFb",
        "outputId": "0f2e2505-b26b-443a-caac-c65622527c5b",
        "colab": {
          "base_uri": "https://localhost:8080/",
          "height": 513
        }
      },
      "source": [
        "Years\n",
        "Inflation_Rate\n",
        "\n",
        "fig, ax = plt.subplots(figsize=(12,8))\n",
        "\n",
        "ax.bar(Years, Inflation_Rate )\n",
        "ax.set_title(\"GDP Inflation Rate CPI\")\n",
        "ax.set_xlabel(\"Year\")\n",
        "ax.set_ylabel(\"Inflation Rate \")\n",
        "\n",
        "fig.show()"
      ],
      "execution_count": 502,
      "outputs": [
        {
          "output_type": "display_data",
          "data": {
            "image/png": "[encoded data removed]",
            "text/plain": [
              "<Figure size 864x576 with 1 Axes>"
            ]
          },
          "metadata": {
            "tags": [],
            "needs_background": "light"
          }
        }
      ]
    },
    {
      "cell_type": "code",
      "metadata": {
        "id": "IyY-3da-Bo7B",
        "outputId": "06a9ce14-ae57-4926-dcbd-78bca0c3ef63",
        "colab": {
          "base_uri": "https://localhost:8080/",
          "height": 80
        }
      },
      "source": [
        "df.loc[df[\"Unnamed: 0\"] == \"Economic Growth (GDP, annual variation in %)\"]\t\n",
        "y=df.loc[df[\"Unnamed: 0\"] == \"Economic Growth (GDP, annual variation in %)\"]\t\n",
        "y"
      ],
      "execution_count": null,
      "outputs": [
        {
          "output_type": "execute_result",
          "data": {
            "text/html": [
              "<div>\n",
              "<style scoped>\n",
              "    .dataframe tbody tr th:only-of-type {\n",
              "        vertical-align: middle;\n",
              "    }\n",
              "\n",
              "    .dataframe tbody tr th {\n",
              "        vertical-align: top;\n",
              "    }\n",
              "\n",
              "    .dataframe thead th {\n",
              "        text-align: right;\n",
              "    }\n",
              "</style>\n",
              "<table border=\"1\" class=\"dataframe\">\n",
              "  <thead>\n",
              "    <tr style=\"text-align: right;\">\n",
              "      <th></th>\n",
              "      <th>Unnamed: 0</th>\n",
              "      <th>2015</th>\n",
              "      <th>2016</th>\n",
              "      <th>2017</th>\n",
              "      <th>2018</th>\n",
              "      <th>2019</th>\n",
              "    </tr>\n",
              "  </thead>\n",
              "  <tbody>\n",
              "    <tr>\n",
              "      <th>3</th>\n",
              "      <td>Economic Growth (GDP, annual variation in %)</td>\n",
              "      <td>-6.2</td>\n",
              "      <td>-17.0</td>\n",
              "      <td>-15.7</td>\n",
              "      <td>-19.6</td>\n",
              "      <td>-</td>\n",
              "    </tr>\n",
              "  </tbody>\n",
              "</table>\n",
              "</div>"
            ],
            "text/plain": [
              "                                     Unnamed: 0  2015   2016   2017   2018 2019\n",
              "3  Economic Growth (GDP, annual variation in %)  -6.2  -17.0  -15.7  -19.6    -"
            ]
          },
          "metadata": {
            "tags": []
          },
          "execution_count": 40
        }
      ]
    },
    {
      "cell_type": "code",
      "metadata": {
        "id": "cTfi2zSr4XFK",
        "outputId": "ecd5d3fa-1664-4d84-ac51-5dbc86f3499c",
        "colab": {
          "base_uri": "https://localhost:8080/",
          "height": 513
        }
      },
      "source": [
        "Year = ['2015','2016','2017','2018']\n",
        "GDP_Growth_Negative  = [33.3,16.4,12,12]\n",
        "\n",
        "fig, ax = plt.subplots(figsize=(12,8))\n",
        "\n",
        "ax.bar(Year, GDP_Growth_Negative)\n",
        "ax.set_title(\"GDP Contraction-Venzuela\")\n",
        "ax.set_xlabel(\"Year\")\n",
        "ax.set_ylabel(\"Inflation Rate through CPI\")\n",
        "\n",
        "fig.show()"
      ],
      "execution_count": 296,
      "outputs": [
        {
          "output_type": "display_data",
          "data": {
            "image/png": "[encoded data removed]",
            "text/plain": [
              "<Figure size 864x576 with 1 Axes>"
            ]
          },
          "metadata": {
            "tags": [],
            "needs_background": "light"
          }
        }
      ]
    },
    {
      "cell_type": "code",
      "metadata": {
        "id": "g8FdT9kzE0qp",
        "outputId": "b719e199-909a-4cbf-d699-9aad1c7c0aa9",
        "colab": {
          "base_uri": "https://localhost:8080/",
          "height": 419
        }
      },
      "source": [
        "df2 = pd.read_csv(\"/content/DP_LIVE_25102020054342653.csv\") # Upload file from college scoreboard raw data folder, this code reads the file but not every line for spacing. \n",
        "df2  "
      ],
      "execution_count": 603,
      "outputs": [
        {
          "output_type": "execute_result",
          "data": {
            "text/html": [
              "<div>\n",
              "<style scoped>\n",
              "    .dataframe tbody tr th:only-of-type {\n",
              "        vertical-align: middle;\n",
              "    }\n",
              "\n",
              "    .dataframe tbody tr th {\n",
              "        vertical-align: top;\n",
              "    }\n",
              "\n",
              "    .dataframe thead th {\n",
              "        text-align: right;\n",
              "    }\n",
              "</style>\n",
              "<table border=\"1\" class=\"dataframe\">\n",
              "  <thead>\n",
              "    <tr style=\"text-align: right;\">\n",
              "      <th></th>\n",
              "      <th>LOCATION</th>\n",
              "      <th>INDICATOR</th>\n",
              "      <th>SUBJECT</th>\n",
              "      <th>MEASURE</th>\n",
              "      <th>FREQUENCY</th>\n",
              "      <th>TIME</th>\n",
              "      <th>Value</th>\n",
              "      <th>Flag Codes</th>\n",
              "    </tr>\n",
              "  </thead>\n",
              "  <tbody>\n",
              "    <tr>\n",
              "      <th>0</th>\n",
              "      <td>AUS</td>\n",
              "      <td>GDP</td>\n",
              "      <td>TOT</td>\n",
              "      <td>USD_CAP</td>\n",
              "      <td>A</td>\n",
              "      <td>2015</td>\n",
              "      <td>47304.816745</td>\n",
              "      <td>NaN</td>\n",
              "    </tr>\n",
              "    <tr>\n",
              "      <th>1</th>\n",
              "      <td>AUS</td>\n",
              "      <td>GDP</td>\n",
              "      <td>TOT</td>\n",
              "      <td>USD_CAP</td>\n",
              "      <td>A</td>\n",
              "      <td>2016</td>\n",
              "      <td>50284.172793</td>\n",
              "      <td>NaN</td>\n",
              "    </tr>\n",
              "    <tr>\n",
              "      <th>2</th>\n",
              "      <td>AUS</td>\n",
              "      <td>GDP</td>\n",
              "      <td>TOT</td>\n",
              "      <td>USD_CAP</td>\n",
              "      <td>A</td>\n",
              "      <td>2017</td>\n",
              "      <td>51297.139196</td>\n",
              "      <td>NaN</td>\n",
              "    </tr>\n",
              "    <tr>\n",
              "      <th>3</th>\n",
              "      <td>AUS</td>\n",
              "      <td>GDP</td>\n",
              "      <td>TOT</td>\n",
              "      <td>USD_CAP</td>\n",
              "      <td>A</td>\n",
              "      <td>2018</td>\n",
              "      <td>53700.680893</td>\n",
              "      <td>NaN</td>\n",
              "    </tr>\n",
              "    <tr>\n",
              "      <th>4</th>\n",
              "      <td>AUS</td>\n",
              "      <td>GDP</td>\n",
              "      <td>TOT</td>\n",
              "      <td>USD_CAP</td>\n",
              "      <td>A</td>\n",
              "      <td>2019</td>\n",
              "      <td>55961.855719</td>\n",
              "      <td>E</td>\n",
              "    </tr>\n",
              "    <tr>\n",
              "      <th>...</th>\n",
              "      <td>...</td>\n",
              "      <td>...</td>\n",
              "      <td>...</td>\n",
              "      <td>...</td>\n",
              "      <td>...</td>\n",
              "      <td>...</td>\n",
              "      <td>...</td>\n",
              "      <td>...</td>\n",
              "    </tr>\n",
              "    <tr>\n",
              "      <th>273</th>\n",
              "      <td>MAR</td>\n",
              "      <td>GDP</td>\n",
              "      <td>TOT</td>\n",
              "      <td>USD_CAP</td>\n",
              "      <td>A</td>\n",
              "      <td>2018</td>\n",
              "      <td>7928.326114</td>\n",
              "      <td>E</td>\n",
              "    </tr>\n",
              "    <tr>\n",
              "      <th>274</th>\n",
              "      <td>SGP</td>\n",
              "      <td>GDP</td>\n",
              "      <td>TOT</td>\n",
              "      <td>USD_CAP</td>\n",
              "      <td>A</td>\n",
              "      <td>2015</td>\n",
              "      <td>86972.563073</td>\n",
              "      <td>NaN</td>\n",
              "    </tr>\n",
              "    <tr>\n",
              "      <th>275</th>\n",
              "      <td>SGP</td>\n",
              "      <td>GDP</td>\n",
              "      <td>TOT</td>\n",
              "      <td>USD_CAP</td>\n",
              "      <td>A</td>\n",
              "      <td>2016</td>\n",
              "      <td>89396.724443</td>\n",
              "      <td>NaN</td>\n",
              "    </tr>\n",
              "    <tr>\n",
              "      <th>276</th>\n",
              "      <td>SGP</td>\n",
              "      <td>GDP</td>\n",
              "      <td>TOT</td>\n",
              "      <td>USD_CAP</td>\n",
              "      <td>A</td>\n",
              "      <td>2017</td>\n",
              "      <td>94945.250892</td>\n",
              "      <td>NaN</td>\n",
              "    </tr>\n",
              "    <tr>\n",
              "      <th>277</th>\n",
              "      <td>SGP</td>\n",
              "      <td>GDP</td>\n",
              "      <td>TOT</td>\n",
              "      <td>USD_CAP</td>\n",
              "      <td>A</td>\n",
              "      <td>2018</td>\n",
              "      <td>101280.413499</td>\n",
              "      <td>NaN</td>\n",
              "    </tr>\n",
              "  </tbody>\n",
              "</table>\n",
              "<p>278 rows × 8 columns</p>\n",
              "</div>"
            ],
            "text/plain": [
              "    LOCATION INDICATOR SUBJECT  ...  TIME          Value  Flag Codes\n",
              "0        AUS       GDP     TOT  ...  2015   47304.816745         NaN\n",
              "1        AUS       GDP     TOT  ...  2016   50284.172793         NaN\n",
              "2        AUS       GDP     TOT  ...  2017   51297.139196         NaN\n",
              "3        AUS       GDP     TOT  ...  2018   53700.680893         NaN\n",
              "4        AUS       GDP     TOT  ...  2019   55961.855719           E\n",
              "..       ...       ...     ...  ...   ...            ...         ...\n",
              "273      MAR       GDP     TOT  ...  2018    7928.326114           E\n",
              "274      SGP       GDP     TOT  ...  2015   86972.563073         NaN\n",
              "275      SGP       GDP     TOT  ...  2016   89396.724443         NaN\n",
              "276      SGP       GDP     TOT  ...  2017   94945.250892         NaN\n",
              "277      SGP       GDP     TOT  ...  2018  101280.413499         NaN\n",
              "\n",
              "[278 rows x 8 columns]"
            ]
          },
          "metadata": {
            "tags": []
          },
          "execution_count": 603
        }
      ]
    },
    {
      "cell_type": "code",
      "metadata": {
        "id": "XeK2qCalFL9x",
        "outputId": "182f5325-2984-49e8-ce42-eb81e1b30cff",
        "colab": {
          "base_uri": "https://localhost:8080/",
          "height": 419
        }
      },
      "source": [
        "df2.drop(columns=['INDICATOR',\"SUBJECT\",\"MEASURE\", 'FREQUENCY','TIME',\"Flag Codes\"])\n",
        "df2=df2.drop(columns=['INDICATOR',\"SUBJECT\",\"MEASURE\", 'FREQUENCY','TIME',\"Flag Codes\"])\n",
        "df2"
      ],
      "execution_count": 604,
      "outputs": [
        {
          "output_type": "execute_result",
          "data": {
            "text/html": [
              "<div>\n",
              "<style scoped>\n",
              "    .dataframe tbody tr th:only-of-type {\n",
              "        vertical-align: middle;\n",
              "    }\n",
              "\n",
              "    .dataframe tbody tr th {\n",
              "        vertical-align: top;\n",
              "    }\n",
              "\n",
              "    .dataframe thead th {\n",
              "        text-align: right;\n",
              "    }\n",
              "</style>\n",
              "<table border=\"1\" class=\"dataframe\">\n",
              "  <thead>\n",
              "    <tr style=\"text-align: right;\">\n",
              "      <th></th>\n",
              "      <th>LOCATION</th>\n",
              "      <th>Value</th>\n",
              "    </tr>\n",
              "  </thead>\n",
              "  <tbody>\n",
              "    <tr>\n",
              "      <th>0</th>\n",
              "      <td>AUS</td>\n",
              "      <td>47304.816745</td>\n",
              "    </tr>\n",
              "    <tr>\n",
              "      <th>1</th>\n",
              "      <td>AUS</td>\n",
              "      <td>50284.172793</td>\n",
              "    </tr>\n",
              "    <tr>\n",
              "      <th>2</th>\n",
              "      <td>AUS</td>\n",
              "      <td>51297.139196</td>\n",
              "    </tr>\n",
              "    <tr>\n",
              "      <th>3</th>\n",
              "      <td>AUS</td>\n",
              "      <td>53700.680893</td>\n",
              "    </tr>\n",
              "    <tr>\n",
              "      <th>4</th>\n",
              "      <td>AUS</td>\n",
              "      <td>55961.855719</td>\n",
              "    </tr>\n",
              "    <tr>\n",
              "      <th>...</th>\n",
              "      <td>...</td>\n",
              "      <td>...</td>\n",
              "    </tr>\n",
              "    <tr>\n",
              "      <th>273</th>\n",
              "      <td>MAR</td>\n",
              "      <td>7928.326114</td>\n",
              "    </tr>\n",
              "    <tr>\n",
              "      <th>274</th>\n",
              "      <td>SGP</td>\n",
              "      <td>86972.563073</td>\n",
              "    </tr>\n",
              "    <tr>\n",
              "      <th>275</th>\n",
              "      <td>SGP</td>\n",
              "      <td>89396.724443</td>\n",
              "    </tr>\n",
              "    <tr>\n",
              "      <th>276</th>\n",
              "      <td>SGP</td>\n",
              "      <td>94945.250892</td>\n",
              "    </tr>\n",
              "    <tr>\n",
              "      <th>277</th>\n",
              "      <td>SGP</td>\n",
              "      <td>101280.413499</td>\n",
              "    </tr>\n",
              "  </tbody>\n",
              "</table>\n",
              "<p>278 rows × 2 columns</p>\n",
              "</div>"
            ],
            "text/plain": [
              "    LOCATION          Value\n",
              "0        AUS   47304.816745\n",
              "1        AUS   50284.172793\n",
              "2        AUS   51297.139196\n",
              "3        AUS   53700.680893\n",
              "4        AUS   55961.855719\n",
              "..       ...            ...\n",
              "273      MAR    7928.326114\n",
              "274      SGP   86972.563073\n",
              "275      SGP   89396.724443\n",
              "276      SGP   94945.250892\n",
              "277      SGP  101280.413499\n",
              "\n",
              "[278 rows x 2 columns]"
            ]
          },
          "metadata": {
            "tags": []
          },
          "execution_count": 604
        }
      ]
    },
    {
      "cell_type": "code",
      "metadata": {
        "id": "UA3OWobu4-DN",
        "outputId": "e4bf8ef1-5ff2-4fc4-ad14-77adcb3353ea",
        "colab": {
          "base_uri": "https://localhost:8080/",
          "height": 419
        }
      },
      "source": [
        "df2 = df2.rename(columns={ 'Value': 'GDP Per Capita'})\n",
        "df2"
      ],
      "execution_count": 605,
      "outputs": [
        {
          "output_type": "execute_result",
          "data": {
            "text/html": [
              "<div>\n",
              "<style scoped>\n",
              "    .dataframe tbody tr th:only-of-type {\n",
              "        vertical-align: middle;\n",
              "    }\n",
              "\n",
              "    .dataframe tbody tr th {\n",
              "        vertical-align: top;\n",
              "    }\n",
              "\n",
              "    .dataframe thead th {\n",
              "        text-align: right;\n",
              "    }\n",
              "</style>\n",
              "<table border=\"1\" class=\"dataframe\">\n",
              "  <thead>\n",
              "    <tr style=\"text-align: right;\">\n",
              "      <th></th>\n",
              "      <th>LOCATION</th>\n",
              "      <th>GDP Per Capita</th>\n",
              "    </tr>\n",
              "  </thead>\n",
              "  <tbody>\n",
              "    <tr>\n",
              "      <th>0</th>\n",
              "      <td>AUS</td>\n",
              "      <td>47304.816745</td>\n",
              "    </tr>\n",
              "    <tr>\n",
              "      <th>1</th>\n",
              "      <td>AUS</td>\n",
              "      <td>50284.172793</td>\n",
              "    </tr>\n",
              "    <tr>\n",
              "      <th>2</th>\n",
              "      <td>AUS</td>\n",
              "      <td>51297.139196</td>\n",
              "    </tr>\n",
              "    <tr>\n",
              "      <th>3</th>\n",
              "      <td>AUS</td>\n",
              "      <td>53700.680893</td>\n",
              "    </tr>\n",
              "    <tr>\n",
              "      <th>4</th>\n",
              "      <td>AUS</td>\n",
              "      <td>55961.855719</td>\n",
              "    </tr>\n",
              "    <tr>\n",
              "      <th>...</th>\n",
              "      <td>...</td>\n",
              "      <td>...</td>\n",
              "    </tr>\n",
              "    <tr>\n",
              "      <th>273</th>\n",
              "      <td>MAR</td>\n",
              "      <td>7928.326114</td>\n",
              "    </tr>\n",
              "    <tr>\n",
              "      <th>274</th>\n",
              "      <td>SGP</td>\n",
              "      <td>86972.563073</td>\n",
              "    </tr>\n",
              "    <tr>\n",
              "      <th>275</th>\n",
              "      <td>SGP</td>\n",
              "      <td>89396.724443</td>\n",
              "    </tr>\n",
              "    <tr>\n",
              "      <th>276</th>\n",
              "      <td>SGP</td>\n",
              "      <td>94945.250892</td>\n",
              "    </tr>\n",
              "    <tr>\n",
              "      <th>277</th>\n",
              "      <td>SGP</td>\n",
              "      <td>101280.413499</td>\n",
              "    </tr>\n",
              "  </tbody>\n",
              "</table>\n",
              "<p>278 rows × 2 columns</p>\n",
              "</div>"
            ],
            "text/plain": [
              "    LOCATION  GDP Per Capita\n",
              "0        AUS    47304.816745\n",
              "1        AUS    50284.172793\n",
              "2        AUS    51297.139196\n",
              "3        AUS    53700.680893\n",
              "4        AUS    55961.855719\n",
              "..       ...             ...\n",
              "273      MAR     7928.326114\n",
              "274      SGP    86972.563073\n",
              "275      SGP    89396.724443\n",
              "276      SGP    94945.250892\n",
              "277      SGP   101280.413499\n",
              "\n",
              "[278 rows x 2 columns]"
            ]
          },
          "metadata": {
            "tags": []
          },
          "execution_count": 605
        }
      ]
    },
    {
      "cell_type": "code",
      "metadata": {
        "id": "owuLIMTdJUhm",
        "outputId": "cfc619ac-0b84-4d2b-fea5-de0ee86dbc5e",
        "colab": {
          "base_uri": "https://localhost:8080/",
          "height": 419
        }
      },
      "source": [
        "# sort - ascending order\n",
        "import pandas as pd\n",
        " \n",
        "\n",
        "df2.sort_values(by=['GDP Per Capita'], inplace=True)\n",
        "df2"
      ],
      "execution_count": 606,
      "outputs": [
        {
          "output_type": "execute_result",
          "data": {
            "text/html": [
              "<div>\n",
              "<style scoped>\n",
              "    .dataframe tbody tr th:only-of-type {\n",
              "        vertical-align: middle;\n",
              "    }\n",
              "\n",
              "    .dataframe tbody tr th {\n",
              "        vertical-align: top;\n",
              "    }\n",
              "\n",
              "    .dataframe thead th {\n",
              "        text-align: right;\n",
              "    }\n",
              "</style>\n",
              "<table border=\"1\" class=\"dataframe\">\n",
              "  <thead>\n",
              "    <tr style=\"text-align: right;\">\n",
              "      <th></th>\n",
              "      <th>LOCATION</th>\n",
              "      <th>GDP Per Capita</th>\n",
              "    </tr>\n",
              "  </thead>\n",
              "  <tbody>\n",
              "    <tr>\n",
              "      <th>268</th>\n",
              "      <td>MDG</td>\n",
              "      <td>1549.577139</td>\n",
              "    </tr>\n",
              "    <tr>\n",
              "      <th>269</th>\n",
              "      <td>MDG</td>\n",
              "      <td>1571.961332</td>\n",
              "    </tr>\n",
              "    <tr>\n",
              "      <th>263</th>\n",
              "      <td>ZMB</td>\n",
              "      <td>3359.029672</td>\n",
              "    </tr>\n",
              "    <tr>\n",
              "      <th>262</th>\n",
              "      <td>ZMB</td>\n",
              "      <td>3383.751710</td>\n",
              "    </tr>\n",
              "    <tr>\n",
              "      <th>264</th>\n",
              "      <td>ZMB</td>\n",
              "      <td>3414.412499</td>\n",
              "    </tr>\n",
              "    <tr>\n",
              "      <th>...</th>\n",
              "      <td>...</td>\n",
              "      <td>...</td>\n",
              "    </tr>\n",
              "    <tr>\n",
              "      <th>80</th>\n",
              "      <td>LUX</td>\n",
              "      <td>103787.967646</td>\n",
              "    </tr>\n",
              "    <tr>\n",
              "      <th>81</th>\n",
              "      <td>LUX</td>\n",
              "      <td>110249.797049</td>\n",
              "    </tr>\n",
              "    <tr>\n",
              "      <th>82</th>\n",
              "      <td>LUX</td>\n",
              "      <td>112701.659716</td>\n",
              "    </tr>\n",
              "    <tr>\n",
              "      <th>83</th>\n",
              "      <td>LUX</td>\n",
              "      <td>116622.236253</td>\n",
              "    </tr>\n",
              "    <tr>\n",
              "      <th>84</th>\n",
              "      <td>LUX</td>\n",
              "      <td>120979.704436</td>\n",
              "    </tr>\n",
              "  </tbody>\n",
              "</table>\n",
              "<p>278 rows × 2 columns</p>\n",
              "</div>"
            ],
            "text/plain": [
              "    LOCATION  GDP Per Capita\n",
              "268      MDG     1549.577139\n",
              "269      MDG     1571.961332\n",
              "263      ZMB     3359.029672\n",
              "262      ZMB     3383.751710\n",
              "264      ZMB     3414.412499\n",
              "..       ...             ...\n",
              "80       LUX   103787.967646\n",
              "81       LUX   110249.797049\n",
              "82       LUX   112701.659716\n",
              "83       LUX   116622.236253\n",
              "84       LUX   120979.704436\n",
              "\n",
              "[278 rows x 2 columns]"
            ]
          },
          "metadata": {
            "tags": []
          },
          "execution_count": 606
        }
      ]
    },
    {
      "cell_type": "code",
      "metadata": {
        "id": "z5Y_pRJkJ4-f",
        "outputId": "412e549c-a7f5-4497-f344-a1201988f7c0",
        "colab": {
          "base_uri": "https://localhost:8080/",
          "height": 419
        }
      },
      "source": [
        "df2.drop_duplicates(subset=['LOCATION'])\n",
        "df2=df2.drop_duplicates(subset=['LOCATION'])\n",
        "df2"
      ],
      "execution_count": 607,
      "outputs": [
        {
          "output_type": "execute_result",
          "data": {
            "text/html": [
              "<div>\n",
              "<style scoped>\n",
              "    .dataframe tbody tr th:only-of-type {\n",
              "        vertical-align: middle;\n",
              "    }\n",
              "\n",
              "    .dataframe tbody tr th {\n",
              "        vertical-align: top;\n",
              "    }\n",
              "\n",
              "    .dataframe thead th {\n",
              "        text-align: right;\n",
              "    }\n",
              "</style>\n",
              "<table border=\"1\" class=\"dataframe\">\n",
              "  <thead>\n",
              "    <tr style=\"text-align: right;\">\n",
              "      <th></th>\n",
              "      <th>LOCATION</th>\n",
              "      <th>GDP Per Capita</th>\n",
              "    </tr>\n",
              "  </thead>\n",
              "  <tbody>\n",
              "    <tr>\n",
              "      <th>268</th>\n",
              "      <td>MDG</td>\n",
              "      <td>1549.577139</td>\n",
              "    </tr>\n",
              "    <tr>\n",
              "      <th>263</th>\n",
              "      <td>ZMB</td>\n",
              "      <td>3359.029672</td>\n",
              "    </tr>\n",
              "    <tr>\n",
              "      <th>168</th>\n",
              "      <td>IND</td>\n",
              "      <td>5577.186655</td>\n",
              "    </tr>\n",
              "    <tr>\n",
              "      <th>270</th>\n",
              "      <td>MAR</td>\n",
              "      <td>7249.966832</td>\n",
              "    </tr>\n",
              "    <tr>\n",
              "      <th>170</th>\n",
              "      <td>IDN</td>\n",
              "      <td>10364.085740</td>\n",
              "    </tr>\n",
              "    <tr>\n",
              "      <th>...</th>\n",
              "      <td>...</td>\n",
              "      <td>...</td>\n",
              "    </tr>\n",
              "    <tr>\n",
              "      <th>101</th>\n",
              "      <td>NOR</td>\n",
              "      <td>58917.288330</td>\n",
              "    </tr>\n",
              "    <tr>\n",
              "      <th>130</th>\n",
              "      <td>CHE</td>\n",
              "      <td>63938.958241</td>\n",
              "    </tr>\n",
              "    <tr>\n",
              "      <th>60</th>\n",
              "      <td>IRL</td>\n",
              "      <td>69147.029059</td>\n",
              "    </tr>\n",
              "    <tr>\n",
              "      <th>274</th>\n",
              "      <td>SGP</td>\n",
              "      <td>86972.563073</td>\n",
              "    </tr>\n",
              "    <tr>\n",
              "      <th>80</th>\n",
              "      <td>LUX</td>\n",
              "      <td>103787.967646</td>\n",
              "    </tr>\n",
              "  </tbody>\n",
              "</table>\n",
              "<p>61 rows × 2 columns</p>\n",
              "</div>"
            ],
            "text/plain": [
              "    LOCATION  GDP Per Capita\n",
              "268      MDG     1549.577139\n",
              "263      ZMB     3359.029672\n",
              "168      IND     5577.186655\n",
              "270      MAR     7249.966832\n",
              "170      IDN    10364.085740\n",
              "..       ...             ...\n",
              "101      NOR    58917.288330\n",
              "130      CHE    63938.958241\n",
              "60       IRL    69147.029059\n",
              "274      SGP    86972.563073\n",
              "80       LUX   103787.967646\n",
              "\n",
              "[61 rows x 2 columns]"
            ]
          },
          "metadata": {
            "tags": []
          },
          "execution_count": 607
        }
      ]
    },
    {
      "cell_type": "code",
      "metadata": {
        "id": "jiZjfK_vUeTN",
        "outputId": "77a5d13c-c3d4-468b-c321-cf4691eac469",
        "colab": {
          "base_uri": "https://localhost:8080/",
          "height": 297
        }
      },
      "source": [
        "df2.describe()"
      ],
      "execution_count": 608,
      "outputs": [
        {
          "output_type": "execute_result",
          "data": {
            "text/html": [
              "<div>\n",
              "<style scoped>\n",
              "    .dataframe tbody tr th:only-of-type {\n",
              "        vertical-align: middle;\n",
              "    }\n",
              "\n",
              "    .dataframe tbody tr th {\n",
              "        vertical-align: top;\n",
              "    }\n",
              "\n",
              "    .dataframe thead th {\n",
              "        text-align: right;\n",
              "    }\n",
              "</style>\n",
              "<table border=\"1\" class=\"dataframe\">\n",
              "  <thead>\n",
              "    <tr style=\"text-align: right;\">\n",
              "      <th></th>\n",
              "      <th>GDP Per Capita</th>\n",
              "    </tr>\n",
              "  </thead>\n",
              "  <tbody>\n",
              "    <tr>\n",
              "      <th>count</th>\n",
              "      <td>61.000000</td>\n",
              "    </tr>\n",
              "    <tr>\n",
              "      <th>mean</th>\n",
              "      <td>34819.430959</td>\n",
              "    </tr>\n",
              "    <tr>\n",
              "      <th>std</th>\n",
              "      <td>19078.105107</td>\n",
              "    </tr>\n",
              "    <tr>\n",
              "      <th>min</th>\n",
              "      <td>1549.577139</td>\n",
              "    </tr>\n",
              "    <tr>\n",
              "      <th>25%</th>\n",
              "      <td>22593.272962</td>\n",
              "    </tr>\n",
              "    <tr>\n",
              "      <th>50%</th>\n",
              "      <td>34938.581464</td>\n",
              "    </tr>\n",
              "    <tr>\n",
              "      <th>75%</th>\n",
              "      <td>45245.005781</td>\n",
              "    </tr>\n",
              "    <tr>\n",
              "      <th>max</th>\n",
              "      <td>103787.967646</td>\n",
              "    </tr>\n",
              "  </tbody>\n",
              "</table>\n",
              "</div>"
            ],
            "text/plain": [
              "       GDP Per Capita\n",
              "count       61.000000\n",
              "mean     34819.430959\n",
              "std      19078.105107\n",
              "min       1549.577139\n",
              "25%      22593.272962\n",
              "50%      34938.581464\n",
              "75%      45245.005781\n",
              "max     103787.967646"
            ]
          },
          "metadata": {
            "tags": []
          },
          "execution_count": 608
        }
      ]
    },
    {
      "cell_type": "code",
      "metadata": {
        "id": "MUk7ihlsKF7L"
      },
      "source": [
        "df2.tail(12)\n",
        "df2=df2.tail(12)"
      ],
      "execution_count": 609,
      "outputs": []
    },
    {
      "cell_type": "code",
      "metadata": {
        "id": "a99CVQ5HIZoW",
        "outputId": "65786e3b-aeae-4b71-ec49-5315be6c30c2",
        "colab": {
          "base_uri": "https://localhost:8080/",
          "height": 744
        }
      },
      "source": [
        "df2.plot(kind='bar',x='LOCATION',y='GDP Per Capita')\n",
        "plt.axhline(y=34819.430959, color='r')"
      ],
      "execution_count": 610,
      "outputs": [
        {
          "output_type": "execute_result",
          "data": {
            "text/plain": [
              "<matplotlib.lines.Line2D at 0x7f1587f02908>"
            ]
          },
          "metadata": {
            "tags": []
          },
          "execution_count": 610
        },
        {
          "output_type": "display_data",
          "data": {
            "image/png": "[encoded data removed]",
            "text/plain": [
              "<Figure size 1800x864 with 1 Axes>"
            ]
          },
          "metadata": {
            "tags": [],
            "needs_background": "light"
          }
        }
      ]
    },
    {
      "cell_type": "code",
      "metadata": {
        "id": "9yrWynLJKqBp",
        "outputId": "e2909363-7c17-487c-ca69-b7b52eb116ec",
        "colab": {
          "base_uri": "https://localhost:8080/",
          "height": 419
        }
      },
      "source": [
        "df = pd.read_csv(\"/content/DP_LIVE_25102020061630321.csv\") # Upload file from college scoreboard raw data folder, this code reads the file but not every line for spacing. \n",
        "df  "
      ],
      "execution_count": 622,
      "outputs": [
        {
          "output_type": "execute_result",
          "data": {
            "text/html": [
              "<div>\n",
              "<style scoped>\n",
              "    .dataframe tbody tr th:only-of-type {\n",
              "        vertical-align: middle;\n",
              "    }\n",
              "\n",
              "    .dataframe tbody tr th {\n",
              "        vertical-align: top;\n",
              "    }\n",
              "\n",
              "    .dataframe thead th {\n",
              "        text-align: right;\n",
              "    }\n",
              "</style>\n",
              "<table border=\"1\" class=\"dataframe\">\n",
              "  <thead>\n",
              "    <tr style=\"text-align: right;\">\n",
              "      <th></th>\n",
              "      <th>LOCATION</th>\n",
              "      <th>INDICATOR</th>\n",
              "      <th>SUBJECT</th>\n",
              "      <th>MEASURE</th>\n",
              "      <th>FREQUENCY</th>\n",
              "      <th>TIME</th>\n",
              "      <th>Value</th>\n",
              "      <th>Flag Codes</th>\n",
              "    </tr>\n",
              "  </thead>\n",
              "  <tbody>\n",
              "    <tr>\n",
              "      <th>0</th>\n",
              "      <td>AUT</td>\n",
              "      <td>EDUEXP</td>\n",
              "      <td>TRY</td>\n",
              "      <td>USD_STUDENT</td>\n",
              "      <td>A</td>\n",
              "      <td>2015</td>\n",
              "      <td>17555.235</td>\n",
              "      <td>NaN</td>\n",
              "    </tr>\n",
              "    <tr>\n",
              "      <th>1</th>\n",
              "      <td>AUT</td>\n",
              "      <td>EDUEXP</td>\n",
              "      <td>TRY</td>\n",
              "      <td>USD_STUDENT</td>\n",
              "      <td>A</td>\n",
              "      <td>2016</td>\n",
              "      <td>NaN</td>\n",
              "      <td>M</td>\n",
              "    </tr>\n",
              "    <tr>\n",
              "      <th>2</th>\n",
              "      <td>CZE</td>\n",
              "      <td>EDUEXP</td>\n",
              "      <td>TRY</td>\n",
              "      <td>USD_STUDENT</td>\n",
              "      <td>A</td>\n",
              "      <td>2015</td>\n",
              "      <td>10890.714</td>\n",
              "      <td>NaN</td>\n",
              "    </tr>\n",
              "    <tr>\n",
              "      <th>3</th>\n",
              "      <td>CZE</td>\n",
              "      <td>EDUEXP</td>\n",
              "      <td>TRY</td>\n",
              "      <td>USD_STUDENT</td>\n",
              "      <td>A</td>\n",
              "      <td>2016</td>\n",
              "      <td>NaN</td>\n",
              "      <td>M</td>\n",
              "    </tr>\n",
              "    <tr>\n",
              "      <th>4</th>\n",
              "      <td>FRA</td>\n",
              "      <td>EDUEXP</td>\n",
              "      <td>TRY</td>\n",
              "      <td>USD_STUDENT</td>\n",
              "      <td>A</td>\n",
              "      <td>2015</td>\n",
              "      <td>16144.755</td>\n",
              "      <td>NaN</td>\n",
              "    </tr>\n",
              "    <tr>\n",
              "      <th>...</th>\n",
              "      <td>...</td>\n",
              "      <td>...</td>\n",
              "      <td>...</td>\n",
              "      <td>...</td>\n",
              "      <td>...</td>\n",
              "      <td>...</td>\n",
              "      <td>...</td>\n",
              "      <td>...</td>\n",
              "    </tr>\n",
              "    <tr>\n",
              "      <th>179</th>\n",
              "      <td>SAU</td>\n",
              "      <td>EDUEXP</td>\n",
              "      <td>EARLYCHILDEDU</td>\n",
              "      <td>USD_STUDENT</td>\n",
              "      <td>A</td>\n",
              "      <td>2016</td>\n",
              "      <td>NaN</td>\n",
              "      <td>M</td>\n",
              "    </tr>\n",
              "    <tr>\n",
              "      <th>180</th>\n",
              "      <td>SVN</td>\n",
              "      <td>EDUEXP</td>\n",
              "      <td>EARLYCHILDEDU</td>\n",
              "      <td>USD_STUDENT</td>\n",
              "      <td>A</td>\n",
              "      <td>2015</td>\n",
              "      <td>8610.292</td>\n",
              "      <td>NaN</td>\n",
              "    </tr>\n",
              "    <tr>\n",
              "      <th>181</th>\n",
              "      <td>SVN</td>\n",
              "      <td>EDUEXP</td>\n",
              "      <td>EARLYCHILDEDU</td>\n",
              "      <td>USD_STUDENT</td>\n",
              "      <td>A</td>\n",
              "      <td>2016</td>\n",
              "      <td>NaN</td>\n",
              "      <td>M</td>\n",
              "    </tr>\n",
              "    <tr>\n",
              "      <th>182</th>\n",
              "      <td>ZAF</td>\n",
              "      <td>EDUEXP</td>\n",
              "      <td>EARLYCHILDEDU</td>\n",
              "      <td>USD_STUDENT</td>\n",
              "      <td>A</td>\n",
              "      <td>2015</td>\n",
              "      <td>NaN</td>\n",
              "      <td>M</td>\n",
              "    </tr>\n",
              "    <tr>\n",
              "      <th>183</th>\n",
              "      <td>ZAF</td>\n",
              "      <td>EDUEXP</td>\n",
              "      <td>EARLYCHILDEDU</td>\n",
              "      <td>USD_STUDENT</td>\n",
              "      <td>A</td>\n",
              "      <td>2016</td>\n",
              "      <td>NaN</td>\n",
              "      <td>M</td>\n",
              "    </tr>\n",
              "  </tbody>\n",
              "</table>\n",
              "<p>184 rows × 8 columns</p>\n",
              "</div>"
            ],
            "text/plain": [
              "    LOCATION INDICATOR        SUBJECT  ...  TIME      Value  Flag Codes\n",
              "0        AUT    EDUEXP            TRY  ...  2015  17555.235         NaN\n",
              "1        AUT    EDUEXP            TRY  ...  2016        NaN           M\n",
              "2        CZE    EDUEXP            TRY  ...  2015  10890.714         NaN\n",
              "3        CZE    EDUEXP            TRY  ...  2016        NaN           M\n",
              "4        FRA    EDUEXP            TRY  ...  2015  16144.755         NaN\n",
              "..       ...       ...            ...  ...   ...        ...         ...\n",
              "179      SAU    EDUEXP  EARLYCHILDEDU  ...  2016        NaN           M\n",
              "180      SVN    EDUEXP  EARLYCHILDEDU  ...  2015   8610.292         NaN\n",
              "181      SVN    EDUEXP  EARLYCHILDEDU  ...  2016        NaN           M\n",
              "182      ZAF    EDUEXP  EARLYCHILDEDU  ...  2015        NaN           M\n",
              "183      ZAF    EDUEXP  EARLYCHILDEDU  ...  2016        NaN           M\n",
              "\n",
              "[184 rows x 8 columns]"
            ]
          },
          "metadata": {
            "tags": []
          },
          "execution_count": 622
        }
      ]
    },
    {
      "cell_type": "code",
      "metadata": {
        "id": "3CvIEEhaMRit",
        "outputId": "f3f88dcc-ff0d-47e2-ed9d-e11b9fb5e226",
        "colab": {
          "base_uri": "https://localhost:8080/",
          "height": 419
        }
      },
      "source": [
        "df.drop(columns=['INDICATOR',\"SUBJECT\",\"MEASURE\", 'FREQUENCY','TIME',\"Flag Codes\"])\n",
        "df=df.drop(columns=['INDICATOR',\"SUBJECT\",\"MEASURE\", 'FREQUENCY','TIME',\"Flag Codes\"])\n",
        "df"
      ],
      "execution_count": 623,
      "outputs": [
        {
          "output_type": "execute_result",
          "data": {
            "text/html": [
              "<div>\n",
              "<style scoped>\n",
              "    .dataframe tbody tr th:only-of-type {\n",
              "        vertical-align: middle;\n",
              "    }\n",
              "\n",
              "    .dataframe tbody tr th {\n",
              "        vertical-align: top;\n",
              "    }\n",
              "\n",
              "    .dataframe thead th {\n",
              "        text-align: right;\n",
              "    }\n",
              "</style>\n",
              "<table border=\"1\" class=\"dataframe\">\n",
              "  <thead>\n",
              "    <tr style=\"text-align: right;\">\n",
              "      <th></th>\n",
              "      <th>LOCATION</th>\n",
              "      <th>Value</th>\n",
              "    </tr>\n",
              "  </thead>\n",
              "  <tbody>\n",
              "    <tr>\n",
              "      <th>0</th>\n",
              "      <td>AUT</td>\n",
              "      <td>17555.235</td>\n",
              "    </tr>\n",
              "    <tr>\n",
              "      <th>1</th>\n",
              "      <td>AUT</td>\n",
              "      <td>NaN</td>\n",
              "    </tr>\n",
              "    <tr>\n",
              "      <th>2</th>\n",
              "      <td>CZE</td>\n",
              "      <td>10890.714</td>\n",
              "    </tr>\n",
              "    <tr>\n",
              "      <th>3</th>\n",
              "      <td>CZE</td>\n",
              "      <td>NaN</td>\n",
              "    </tr>\n",
              "    <tr>\n",
              "      <th>4</th>\n",
              "      <td>FRA</td>\n",
              "      <td>16144.755</td>\n",
              "    </tr>\n",
              "    <tr>\n",
              "      <th>...</th>\n",
              "      <td>...</td>\n",
              "      <td>...</td>\n",
              "    </tr>\n",
              "    <tr>\n",
              "      <th>179</th>\n",
              "      <td>SAU</td>\n",
              "      <td>NaN</td>\n",
              "    </tr>\n",
              "    <tr>\n",
              "      <th>180</th>\n",
              "      <td>SVN</td>\n",
              "      <td>8610.292</td>\n",
              "    </tr>\n",
              "    <tr>\n",
              "      <th>181</th>\n",
              "      <td>SVN</td>\n",
              "      <td>NaN</td>\n",
              "    </tr>\n",
              "    <tr>\n",
              "      <th>182</th>\n",
              "      <td>ZAF</td>\n",
              "      <td>NaN</td>\n",
              "    </tr>\n",
              "    <tr>\n",
              "      <th>183</th>\n",
              "      <td>ZAF</td>\n",
              "      <td>NaN</td>\n",
              "    </tr>\n",
              "  </tbody>\n",
              "</table>\n",
              "<p>184 rows × 2 columns</p>\n",
              "</div>"
            ],
            "text/plain": [
              "    LOCATION      Value\n",
              "0        AUT  17555.235\n",
              "1        AUT        NaN\n",
              "2        CZE  10890.714\n",
              "3        CZE        NaN\n",
              "4        FRA  16144.755\n",
              "..       ...        ...\n",
              "179      SAU        NaN\n",
              "180      SVN   8610.292\n",
              "181      SVN        NaN\n",
              "182      ZAF        NaN\n",
              "183      ZAF        NaN\n",
              "\n",
              "[184 rows x 2 columns]"
            ]
          },
          "metadata": {
            "tags": []
          },
          "execution_count": 623
        }
      ]
    },
    {
      "cell_type": "code",
      "metadata": {
        "id": "BqX6hdheMYwc",
        "outputId": "09f817c8-4de7-4d64-8029-c2e2788bb252",
        "colab": {
          "base_uri": "https://localhost:8080/",
          "height": 419
        }
      },
      "source": [
        "# sort - ascending order\n",
        "import pandas as pd\n",
        " \n",
        "\n",
        "df.sort_values(by=['Value'], inplace=True)\n",
        "df"
      ],
      "execution_count": 624,
      "outputs": [
        {
          "output_type": "execute_result",
          "data": {
            "text/html": [
              "<div>\n",
              "<style scoped>\n",
              "    .dataframe tbody tr th:only-of-type {\n",
              "        vertical-align: middle;\n",
              "    }\n",
              "\n",
              "    .dataframe tbody tr th {\n",
              "        vertical-align: top;\n",
              "    }\n",
              "\n",
              "    .dataframe thead th {\n",
              "        text-align: right;\n",
              "    }\n",
              "</style>\n",
              "<table border=\"1\" class=\"dataframe\">\n",
              "  <thead>\n",
              "    <tr style=\"text-align: right;\">\n",
              "      <th></th>\n",
              "      <th>LOCATION</th>\n",
              "      <th>Value</th>\n",
              "    </tr>\n",
              "  </thead>\n",
              "  <tbody>\n",
              "    <tr>\n",
              "      <th>168</th>\n",
              "      <td>IDN</td>\n",
              "      <td>169.575</td>\n",
              "    </tr>\n",
              "    <tr>\n",
              "      <th>126</th>\n",
              "      <td>MEX</td>\n",
              "      <td>2684.695</td>\n",
              "    </tr>\n",
              "    <tr>\n",
              "      <th>146</th>\n",
              "      <td>TUR</td>\n",
              "      <td>3591.292</td>\n",
              "    </tr>\n",
              "    <tr>\n",
              "      <th>62</th>\n",
              "      <td>IDN</td>\n",
              "      <td>3764.700</td>\n",
              "    </tr>\n",
              "    <tr>\n",
              "      <th>68</th>\n",
              "      <td>GRC</td>\n",
              "      <td>4094.526</td>\n",
              "    </tr>\n",
              "    <tr>\n",
              "      <th>...</th>\n",
              "      <td>...</td>\n",
              "      <td>...</td>\n",
              "    </tr>\n",
              "    <tr>\n",
              "      <th>178</th>\n",
              "      <td>SAU</td>\n",
              "      <td>NaN</td>\n",
              "    </tr>\n",
              "    <tr>\n",
              "      <th>179</th>\n",
              "      <td>SAU</td>\n",
              "      <td>NaN</td>\n",
              "    </tr>\n",
              "    <tr>\n",
              "      <th>181</th>\n",
              "      <td>SVN</td>\n",
              "      <td>NaN</td>\n",
              "    </tr>\n",
              "    <tr>\n",
              "      <th>182</th>\n",
              "      <td>ZAF</td>\n",
              "      <td>NaN</td>\n",
              "    </tr>\n",
              "    <tr>\n",
              "      <th>183</th>\n",
              "      <td>ZAF</td>\n",
              "      <td>NaN</td>\n",
              "    </tr>\n",
              "  </tbody>\n",
              "</table>\n",
              "<p>184 rows × 2 columns</p>\n",
              "</div>"
            ],
            "text/plain": [
              "    LOCATION     Value\n",
              "168      IDN   169.575\n",
              "126      MEX  2684.695\n",
              "146      TUR  3591.292\n",
              "62       IDN  3764.700\n",
              "68       GRC  4094.526\n",
              "..       ...       ...\n",
              "178      SAU       NaN\n",
              "179      SAU       NaN\n",
              "181      SVN       NaN\n",
              "182      ZAF       NaN\n",
              "183      ZAF       NaN\n",
              "\n",
              "[184 rows x 2 columns]"
            ]
          },
          "metadata": {
            "tags": []
          },
          "execution_count": 624
        }
      ]
    },
    {
      "cell_type": "code",
      "metadata": {
        "id": "IkyMmw_jMhZ2",
        "outputId": "628c02cb-0f02-4ba9-a002-cd74abe0d945",
        "colab": {
          "base_uri": "https://localhost:8080/",
          "height": 80
        }
      },
      "source": [
        "df.drop_duplicates(subset=['LOCATION'])\n",
        "df=df.drop_duplicates(subset=['LOCATION'])\n",
        "df.head(1)"
      ],
      "execution_count": 625,
      "outputs": [
        {
          "output_type": "execute_result",
          "data": {
            "text/html": [
              "<div>\n",
              "<style scoped>\n",
              "    .dataframe tbody tr th:only-of-type {\n",
              "        vertical-align: middle;\n",
              "    }\n",
              "\n",
              "    .dataframe tbody tr th {\n",
              "        vertical-align: top;\n",
              "    }\n",
              "\n",
              "    .dataframe thead th {\n",
              "        text-align: right;\n",
              "    }\n",
              "</style>\n",
              "<table border=\"1\" class=\"dataframe\">\n",
              "  <thead>\n",
              "    <tr style=\"text-align: right;\">\n",
              "      <th></th>\n",
              "      <th>LOCATION</th>\n",
              "      <th>Value</th>\n",
              "    </tr>\n",
              "  </thead>\n",
              "  <tbody>\n",
              "    <tr>\n",
              "      <th>168</th>\n",
              "      <td>IDN</td>\n",
              "      <td>169.575</td>\n",
              "    </tr>\n",
              "  </tbody>\n",
              "</table>\n",
              "</div>"
            ],
            "text/plain": [
              "    LOCATION    Value\n",
              "168      IDN  169.575"
            ]
          },
          "metadata": {
            "tags": []
          },
          "execution_count": 625
        }
      ]
    },
    {
      "cell_type": "code",
      "metadata": {
        "id": "ym5MPPbdM2lk",
        "outputId": "4a0bbfed-fed5-4f76-c358-95d199437a2f",
        "colab": {
          "base_uri": "https://localhost:8080/",
          "height": 80
        }
      },
      "source": [
        "df.dropna(axis='rows')\n",
        "df=df.dropna(axis='rows')\n",
        "df.head(1)"
      ],
      "execution_count": 626,
      "outputs": [
        {
          "output_type": "execute_result",
          "data": {
            "text/html": [
              "<div>\n",
              "<style scoped>\n",
              "    .dataframe tbody tr th:only-of-type {\n",
              "        vertical-align: middle;\n",
              "    }\n",
              "\n",
              "    .dataframe tbody tr th {\n",
              "        vertical-align: top;\n",
              "    }\n",
              "\n",
              "    .dataframe thead th {\n",
              "        text-align: right;\n",
              "    }\n",
              "</style>\n",
              "<table border=\"1\" class=\"dataframe\">\n",
              "  <thead>\n",
              "    <tr style=\"text-align: right;\">\n",
              "      <th></th>\n",
              "      <th>LOCATION</th>\n",
              "      <th>Value</th>\n",
              "    </tr>\n",
              "  </thead>\n",
              "  <tbody>\n",
              "    <tr>\n",
              "      <th>168</th>\n",
              "      <td>IDN</td>\n",
              "      <td>169.575</td>\n",
              "    </tr>\n",
              "  </tbody>\n",
              "</table>\n",
              "</div>"
            ],
            "text/plain": [
              "    LOCATION    Value\n",
              "168      IDN  169.575"
            ]
          },
          "metadata": {
            "tags": []
          },
          "execution_count": 626
        }
      ]
    },
    {
      "cell_type": "code",
      "metadata": {
        "id": "XFe-95_xVY_t",
        "outputId": "f731fad0-de8c-4cd9-fe15-d667b9075dc8",
        "colab": {
          "base_uri": "https://localhost:8080/",
          "height": 297
        }
      },
      "source": [
        "df.describe()"
      ],
      "execution_count": 627,
      "outputs": [
        {
          "output_type": "execute_result",
          "data": {
            "text/html": [
              "<div>\n",
              "<style scoped>\n",
              "    .dataframe tbody tr th:only-of-type {\n",
              "        vertical-align: middle;\n",
              "    }\n",
              "\n",
              "    .dataframe tbody tr th {\n",
              "        vertical-align: top;\n",
              "    }\n",
              "\n",
              "    .dataframe thead th {\n",
              "        text-align: right;\n",
              "    }\n",
              "</style>\n",
              "<table border=\"1\" class=\"dataframe\">\n",
              "  <thead>\n",
              "    <tr style=\"text-align: right;\">\n",
              "      <th></th>\n",
              "      <th>Value</th>\n",
              "    </tr>\n",
              "  </thead>\n",
              "  <tbody>\n",
              "    <tr>\n",
              "      <th>count</th>\n",
              "      <td>36.000000</td>\n",
              "    </tr>\n",
              "    <tr>\n",
              "      <th>mean</th>\n",
              "      <td>8783.724667</td>\n",
              "    </tr>\n",
              "    <tr>\n",
              "      <th>std</th>\n",
              "      <td>5687.274080</td>\n",
              "    </tr>\n",
              "    <tr>\n",
              "      <th>min</th>\n",
              "      <td>169.575000</td>\n",
              "    </tr>\n",
              "    <tr>\n",
              "      <th>25%</th>\n",
              "      <td>5437.678750</td>\n",
              "    </tr>\n",
              "    <tr>\n",
              "      <th>50%</th>\n",
              "      <td>7037.965500</td>\n",
              "    </tr>\n",
              "    <tr>\n",
              "      <th>75%</th>\n",
              "      <td>10362.087500</td>\n",
              "    </tr>\n",
              "    <tr>\n",
              "      <th>max</th>\n",
              "      <td>30003.244000</td>\n",
              "    </tr>\n",
              "  </tbody>\n",
              "</table>\n",
              "</div>"
            ],
            "text/plain": [
              "              Value\n",
              "count     36.000000\n",
              "mean    8783.724667\n",
              "std     5687.274080\n",
              "min      169.575000\n",
              "25%     5437.678750\n",
              "50%     7037.965500\n",
              "75%    10362.087500\n",
              "max    30003.244000"
            ]
          },
          "metadata": {
            "tags": []
          },
          "execution_count": 627
        }
      ]
    },
    {
      "cell_type": "code",
      "metadata": {
        "id": "OpkstroAMjSn",
        "outputId": "0825c363-453b-43cd-cc1f-adc5abee870a",
        "colab": {
          "base_uri": "https://localhost:8080/",
          "height": 80
        }
      },
      "source": [
        "df.tail(30)\n",
        "df=df.tail(30)\n",
        "df.head(1)"
      ],
      "execution_count": 630,
      "outputs": [
        {
          "output_type": "execute_result",
          "data": {
            "text/html": [
              "<div>\n",
              "<style scoped>\n",
              "    .dataframe tbody tr th:only-of-type {\n",
              "        vertical-align: middle;\n",
              "    }\n",
              "\n",
              "    .dataframe tbody tr th {\n",
              "        vertical-align: top;\n",
              "    }\n",
              "\n",
              "    .dataframe thead th {\n",
              "        text-align: right;\n",
              "    }\n",
              "</style>\n",
              "<table border=\"1\" class=\"dataframe\">\n",
              "  <thead>\n",
              "    <tr style=\"text-align: right;\">\n",
              "      <th></th>\n",
              "      <th>LOCATION</th>\n",
              "      <th>Value</th>\n",
              "    </tr>\n",
              "  </thead>\n",
              "  <tbody>\n",
              "    <tr>\n",
              "      <th>84</th>\n",
              "      <td>COL</td>\n",
              "      <td>5040.455</td>\n",
              "    </tr>\n",
              "  </tbody>\n",
              "</table>\n",
              "</div>"
            ],
            "text/plain": [
              "   LOCATION     Value\n",
              "84      COL  5040.455"
            ]
          },
          "metadata": {
            "tags": []
          },
          "execution_count": 630
        }
      ]
    },
    {
      "cell_type": "code",
      "metadata": {
        "id": "v7OoLouZMuvi",
        "outputId": "944395ad-460b-478a-8983-472d987acd41",
        "colab": {
          "base_uri": "https://localhost:8080/",
          "height": 731
        }
      },
      "source": [
        "df.plot(kind='scatter',x='LOCATION',y='Value')"
      ],
      "execution_count": 631,
      "outputs": [
        {
          "output_type": "execute_result",
          "data": {
            "text/plain": [
              "<matplotlib.axes._subplots.AxesSubplot at 0x7f1584992748>"
            ]
          },
          "metadata": {
            "tags": []
          },
          "execution_count": 631
        },
        {
          "output_type": "display_data",
          "data": {
            "image/png": "[encoded data removed]",
            "text/plain": [
              "<Figure size 1800x864 with 1 Axes>"
            ]
          },
          "metadata": {
            "tags": [],
            "needs_background": "light"
          }
        }
      ]
    },
    {
      "cell_type": "code",
      "metadata": {
        "id": "IKXYWO7-5HGF"
      },
      "source": [
        "# Pie graph for exports \n",
        "# Stress more educational spending with wealth vs educational spending scatter\n",
        "# Scatter Imports vs Negative GDP (Show Sanction)"
      ],
      "execution_count": null,
      "outputs": []
    },
    {
      "cell_type": "markdown",
      "metadata": {
        "id": "zPK2ekAGdJjb"
      },
      "source": [
        "##**2. Background information-Venzuela**\n",
        "# **Venzuela has an interesting history. Present day and historic Venzeula has many points of analysis. One can approach Venzuela, from a political or historical perspective. Others can choose to explore it from a economic or governmental perspective. What I think is most interesting is approaching it from a data perspective, and to infer and answer important economic, poltical, and governmental questions from there. Below are are other interesting things about Venzuela.**\n",
        "\n",
        "\n",
        "*   List item\n",
        "*   List item\n",
        "*   List item\n",
        "*   List item\n",
        "*   List item"
      ]
    },
    {
      "cell_type": "markdown",
      "metadata": {
        "id": "EFOJC0dzVP0P"
      },
      "source": [
        "##**3.What are the economic deficiencies?**\n",
        "\n",
        "\n",
        "\n"
      ]
    },
    {
      "cell_type": "markdown",
      "metadata": {
        "id": "OTqcguhj_QgD"
      },
      "source": [
        "##HyperInflation"
      ]
    },
    {
      "cell_type": "code",
      "metadata": {
        "id": "VKD81nlgRYLF",
        "outputId": "a136197d-6c57-4e4c-f9d7-41bb28197caf",
        "colab": {
          "base_uri": "https://localhost:8080/",
          "height": 513
        }
      },
      "source": [
        "Years\n",
        "Inflation_Rate\n",
        "\n",
        "fig, ax = plt.subplots(figsize=(12,8))\n",
        "\n",
        "ax.bar(Years, Inflation_Rate )\n",
        "ax.set_title(\"GDP Inflation Rate CPI\")\n",
        "ax.set_xlabel(\"Year\")\n",
        "ax.set_ylabel(\"Inflation Rate \")\n",
        "plt.axhline(y=12874.63, color='r')\n",
        "fig.show()"
      ],
      "execution_count": 504,
      "outputs": [
        {
          "output_type": "display_data",
          "data": {
            "image/png": "[encoded data removed]",
            "text/plain": [
              "<Figure size 864x576 with 1 Axes>"
            ]
          },
          "metadata": {
            "tags": [],
            "needs_background": "light"
          }
        }
      ]
    },
    {
      "cell_type": "markdown",
      "metadata": {
        "id": "Ob6LUw3H7ymw"
      },
      "source": [
        "**HyperInflation defined as 12,874.63% yearly, Venzuela is clearly over this amount as noted by the line labeled \"hyperinflation\".**"
      ]
    },
    {
      "cell_type": "markdown",
      "metadata": {
        "id": "NGdBesAE_kWJ"
      },
      "source": [
        "##Shrinking Economy COMPARE NEIGBORING COUNTRIES"
      ]
    },
    {
      "cell_type": "code",
      "metadata": {
        "id": "V8AP3fMO-5Yf",
        "outputId": "78626069-691c-4bf2-bca4-9b4b6691a092",
        "colab": {
          "base_uri": "https://localhost:8080/",
          "height": 513
        }
      },
      "source": [
        "Years \n",
        "GDP_Growth_Negative \n",
        "\n",
        "fig, ax = plt.subplots(figsize=(12,8))\n",
        "\n",
        "ax.bar(Year, GDP_Growth_Negative)\n",
        "ax.set_title(\"GDP Contraction-Venzuela\")\n",
        "ax.set_xlabel(\"Year\")\n",
        "ax.set_ylabel(\"GDP Growth-Negative\")\n",
        "\n",
        "fig.show()"
      ],
      "execution_count": 637,
      "outputs": [
        {
          "output_type": "display_data",
          "data": {
            "image/png": "[encoded data removed]",
            "text/plain": [
              "<Figure size 864x576 with 1 Axes>"
            ]
          },
          "metadata": {
            "tags": [],
            "needs_background": "light"
          }
        }
      ]
    },
    {
      "cell_type": "markdown",
      "metadata": {
        "id": "9YwWMz84_MSh"
      },
      "source": [
        "**Everything seen is negative GDP \"growth\" for Venzuela**"
      ]
    },
    {
      "cell_type": "markdown",
      "metadata": {
        "id": "rtAz9Sk9_m9Q"
      },
      "source": [
        "##High Poverty Rate "
      ]
    },
    {
      "cell_type": "code",
      "metadata": {
        "id": "-lpHIG4b_lYG",
        "outputId": "f748b363-16f9-4c0e-eb67-14df02c1fecc",
        "colab": {
          "base_uri": "https://localhost:8080/",
          "height": 513
        }
      },
      "source": [
        "Country = [\"Venezuela\",\t\"World/Global Average\"]\n",
        "GDP_Growth_Negative \n",
        "\n",
        "fig, ax = plt.subplots(figsize=(12,8))\n",
        "\n",
        "ax.bar(Country, GDP_Growth_Negative)\n",
        "ax.set_title(\"Poverty Rate\")\n",
        "ax.set_xlabel(\"Region\")\n",
        "ax.set_ylabel(\"Poverty Rate\")\n",
        "\n",
        "fig.show()"
      ],
      "execution_count": 634,
      "outputs": [
        {
          "output_type": "display_data",
          "data": {
            "image/png": "[encoded data removed]",
            "text/plain": [
              "<Figure size 864x576 with 1 Axes>"
            ]
          },
          "metadata": {
            "tags": [],
            "needs_background": "light"
          }
        }
      ]
    },
    {
      "cell_type": "markdown",
      "metadata": {
        "id": "LShyGWXx_nnz"
      },
      "source": [
        "**Venzuela Poverty Rate higher than World Average**"
      ]
    },
    {
      "cell_type": "markdown",
      "metadata": {
        "id": "KwaGDbGn_skI"
      },
      "source": [
        "##Decline of International Trade BIG DATA LINE GRAPH "
      ]
    },
    {
      "cell_type": "markdown",
      "metadata": {
        "id": "KJQHoaWTAo6r"
      },
      "source": [
        "**Sanctions hurt imports for Venzuela.**"
      ]
    },
    {
      "cell_type": "markdown",
      "metadata": {
        "id": "zSc3dZ0BVY90"
      },
      "source": [
        "##**4. Solutions for economic problem areas.** "
      ]
    },
    {
      "cell_type": "markdown",
      "metadata": {
        "id": "ZeDGspoLBeQn"
      },
      "source": [
        "##Solution 1:Attempt to Remove Sanctions BIG DATA LINE GRAPH ANALYSIS ABOVE "
      ]
    },
    {
      "cell_type": "markdown",
      "metadata": {
        "id": "ImH7EI-G_1uO"
      },
      "source": [
        "##Solution 2:Reduce government spending to reduce hyper-inflation BIG DATA CORRELATION"
      ]
    },
    {
      "cell_type": "markdown",
      "metadata": {
        "id": "XJ8sX_yY_zdK"
      },
      "source": [
        "##Solution 3:Diversify economy beyond oil exports."
      ]
    },
    {
      "cell_type": "code",
      "metadata": {
        "id": "z66uVlgbCix0",
        "outputId": "a0684719-4fca-4a6a-a15f-05d4641b8d41",
        "colab": {
          "base_uri": "https://localhost:8080/",
          "height": 903
        }
      },
      "source": [
        "#https://oec.world/en/profile/country/ven/\n",
        "langs = ['Petrolum', 'Gold', 'Alcohol', 'Other']\n",
        "students = [85,9,2,4]\n",
        "\n",
        "fig, ax = plt.subplots(figsize=(12,12))\n",
        "ax.set_title(\"Venzuelan Exports\")\n",
        "ax.pie(x=students, labels=langs, startangle=90, autopct='%.2f%%')"
      ],
      "execution_count": 320,
      "outputs": [
        {
          "output_type": "execute_result",
          "data": {
            "text/plain": [
              "([<matplotlib.patches.Wedge at 0x7f1584d92780>,\n",
              "  <matplotlib.patches.Wedge at 0x7f1584d92e80>,\n",
              "  <matplotlib.patches.Wedge at 0x7f1584da1588>,\n",
              "  <matplotlib.patches.Wedge at 0x7f1584da1c50>],\n",
              " [Text(-0.49938947630209474, -0.9801072140121813, 'Petrolum'),\n",
              "  Text(0.6741976190487652, 0.8691706221847216, 'Gold'),\n",
              "  Text(0.33991851505592985, 1.0461622260061638, 'Alcohol'),\n",
              "  Text(0.1378663750450849, 1.0913261944221482, 'Other')],\n",
              " [Text(-0.27239425980114257, -0.5346039349157352, '85.00%'),\n",
              "  Text(0.367744155844781, 0.47409306664621176, '9.00%'),\n",
              "  Text(0.18541009912141626, 0.5706339414579075, '2.00%'),\n",
              "  Text(0.07519984093368266, 0.5952688333211716, '4.00%')])"
            ]
          },
          "metadata": {
            "tags": []
          },
          "execution_count": 320
        },
        {
          "output_type": "display_data",
          "data": {
            "image/png": "[encoded data removed]",
            "text/plain": [
              "<Figure size 864x864 with 1 Axes>"
            ]
          },
          "metadata": {
            "tags": []
          }
        }
      ]
    },
    {
      "cell_type": "markdown",
      "metadata": {
        "id": "Il6qXc_SB8QC"
      },
      "source": [
        "##Solution 3A: To diversify, increase educational investments.SHOW HOW TOP 12 SPENDING COUNTRIES FARE GDP PER CAPITA"
      ]
    },
    {
      "cell_type": "code",
      "metadata": {
        "id": "zsiPPoPsCyxL",
        "outputId": "40431f1b-6836-4e5f-af36-4ffe6f251a1b",
        "colab": {
          "base_uri": "https://localhost:8080/",
          "height": 731
        }
      },
      "source": [
        "df.plot(kind='scatter',x='LOCATION',y='Value')\n",
        "plt.axhline(y=8783.724666666667, color='r')"
      ],
      "execution_count": 632,
      "outputs": [
        {
          "output_type": "execute_result",
          "data": {
            "text/plain": [
              "<matplotlib.lines.Line2D at 0x7f1584a02240>"
            ]
          },
          "metadata": {
            "tags": []
          },
          "execution_count": 632
        },
        {
          "output_type": "display_data",
          "data": {
            "image/png": "[encoded data removed]",
            "text/plain": [
              "<Figure size 1800x864 with 1 Axes>"
            ]
          },
          "metadata": {
            "tags": [],
            "needs_background": "light"
          }
        }
      ]
    },
    {
      "cell_type": "code",
      "metadata": {
        "id": "NrDjPfn7IOyx",
        "outputId": "e382bd0c-dec8-461e-b3ca-e8236e1b90c4",
        "colab": {
          "base_uri": "https://localhost:8080/",
          "height": 744
        }
      },
      "source": [
        "df2.plot(kind='bar',x='LOCATION',y='GDP Per Capita')\n",
        "plt.axhline(y=34819.430959, color='r')"
      ],
      "execution_count": 633,
      "outputs": [
        {
          "output_type": "execute_result",
          "data": {
            "text/plain": [
              "<matplotlib.lines.Line2D at 0x7f1584be4278>"
            ]
          },
          "metadata": {
            "tags": []
          },
          "execution_count": 633
        },
        {
          "output_type": "display_data",
          "data": {
            "image/png": "[encoded data removed]",
            "text/plain": [
              "<Figure size 1800x864 with 1 Axes>"
            ]
          },
          "metadata": {
            "tags": [],
            "needs_background": "light"
          }
        }
      ]
    },
    {
      "cell_type": "markdown",
      "metadata": {
        "id": "3BunE0ZiXl-8"
      },
      "source": [
        "##**5. Conclusion**\n",
        "**To be done later.**"
      ]
    },
    {
      "cell_type": "markdown",
      "metadata": {
        "id": "CL_IKqANeoY9"
      },
      "source": [
        "##**6. References**\n",
        "https://www.cia.gov/library/publications/the-world-factbook/geos/ve.html\n",
        "\n",
        "https://www.focus-economics.com/countries/venezuela\n",
        "\n",
        "\n",
        "https://www.worldbank.org/en/topic/poverty/overview#:~:text=The%20global%20extreme%20poverty%20rate,%245.50%20a%20day%20in%202017.\n",
        "\n",
        "\n",
        "https://www.statista.com/statistics/371895/inflation-rate-in-venezuela/\n",
        "\n",
        "\n",
        "https://data.worldbank.org/country/venezuela-rb\n",
        "\n",
        "http://hdr.undp.org/en/content/expenditure-education-public-gdp"
      ]
    }
  ]
}