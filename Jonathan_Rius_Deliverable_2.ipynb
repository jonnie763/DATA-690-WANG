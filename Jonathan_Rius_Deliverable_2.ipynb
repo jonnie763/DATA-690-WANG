{
  "nbformat": 4,
  "nbformat_minor": 0,
  "metadata": {
    "colab": {
      "name": "Jonathan Rius- Deliverable #2.ipynb",
      "provenance": [],
      "collapsed_sections": [],
      "authorship_tag": "ABX9TyNFWrfzimDJ52HPavnn5QnW",
      "include_colab_link": true
    },
    "kernelspec": {
      "name": "python3",
      "display_name": "Python 3"
    }
  },
  "cells": [
    {
      "cell_type": "markdown",
      "metadata": {
        "id": "view-in-github",
        "colab_type": "text"
      },
      "source": [
        "<a href=\"https://colab.research.google.com/github/jonnie763/DATA-690-WANG/blob/master/Jonathan_Rius_Deliverable_2.ipynb\" target=\"_parent\"><img src=\"https://colab.research.google.com/assets/colab-badge.svg\" alt=\"Open In Colab\"/></a>"
      ]
    },
    {
      "cell_type": "markdown",
      "metadata": {
        "id": "Gc1K6YDvXR6Y"
      },
      "source": [
        "##**1.Country Analysis- Data Cleanse**"
      ]
    },
    {
      "cell_type": "code",
      "metadata": {
        "id": "j8p29wrWXYfZ"
      },
      "source": [
        "import matplotlib.pyplot as plt\n",
        "import pandas as pd \n",
        "import numpy\n",
        "plt.rcParams['figure.figsize'] = 25, 12\n"
      ],
      "execution_count": 350,
      "outputs": []
    },
    {
      "cell_type": "code",
      "metadata": {
        "id": "cuqYYdas3D03",
        "outputId": "f340e2f3-082f-4eae-cd5d-5e984ec7c132",
        "colab": {
          "base_uri": "https://localhost:8080/",
          "height": 142
        }
      },
      "source": [
        "df= pd.read_html(\"https://www.imf.org/en/Publications/WEO/weo-database/2020/October/weo-report?c=233,336,299,&s=NGDP_RPCH,&sy=2015&ey=2020&ssm=0&scsm=1&scc=0&ssd=1&ssc=0&sic=0&sort=country&ds=.&br=1\")\n",
        "df = df[0]\n",
        "df\n"
      ],
      "execution_count": 351,
      "outputs": [
        {
          "output_type": "execute_result",
          "data": {
            "text/html": [
              "<div>\n",
              "<style scoped>\n",
              "    .dataframe tbody tr th:only-of-type {\n",
              "        vertical-align: middle;\n",
              "    }\n",
              "\n",
              "    .dataframe tbody tr th {\n",
              "        vertical-align: top;\n",
              "    }\n",
              "\n",
              "    .dataframe thead th {\n",
              "        text-align: right;\n",
              "    }\n",
              "</style>\n",
              "<table border=\"1\" class=\"dataframe\">\n",
              "  <thead>\n",
              "    <tr style=\"text-align: right;\">\n",
              "      <th></th>\n",
              "      <th>Country</th>\n",
              "      <th>Subject Descriptor</th>\n",
              "      <th>Units</th>\n",
              "      <th>Scale</th>\n",
              "      <th>Country/Series-specific Notes</th>\n",
              "      <th>2015</th>\n",
              "      <th>2016</th>\n",
              "      <th>2017</th>\n",
              "      <th>2018</th>\n",
              "      <th>2019</th>\n",
              "      <th>2020</th>\n",
              "    </tr>\n",
              "  </thead>\n",
              "  <tbody>\n",
              "    <tr>\n",
              "      <th>0</th>\n",
              "      <td>Colombia</td>\n",
              "      <td>Gross domestic product, constant prices</td>\n",
              "      <td>Percent change</td>\n",
              "      <td>NaN</td>\n",
              "      <td>NaN</td>\n",
              "      <td>2.956</td>\n",
              "      <td>2.087</td>\n",
              "      <td>1.359</td>\n",
              "      <td>2.515</td>\n",
              "      <td>3.260</td>\n",
              "      <td>-8.182</td>\n",
              "    </tr>\n",
              "    <tr>\n",
              "      <th>1</th>\n",
              "      <td>Guyana</td>\n",
              "      <td>Gross domestic product, constant prices</td>\n",
              "      <td>Percent change</td>\n",
              "      <td>NaN</td>\n",
              "      <td>NaN</td>\n",
              "      <td>0.687</td>\n",
              "      <td>3.807</td>\n",
              "      <td>3.734</td>\n",
              "      <td>4.441</td>\n",
              "      <td>5.353</td>\n",
              "      <td>26.205</td>\n",
              "    </tr>\n",
              "    <tr>\n",
              "      <th>2</th>\n",
              "      <td>Venezuela</td>\n",
              "      <td>Gross domestic product, constant prices</td>\n",
              "      <td>Percent change</td>\n",
              "      <td>NaN</td>\n",
              "      <td>NaN</td>\n",
              "      <td>-6.221</td>\n",
              "      <td>-17.040</td>\n",
              "      <td>-15.671</td>\n",
              "      <td>-19.621</td>\n",
              "      <td>-35.000</td>\n",
              "      <td>-25.000</td>\n",
              "    </tr>\n",
              "  </tbody>\n",
              "</table>\n",
              "</div>"
            ],
            "text/plain": [
              "     Country                       Subject Descriptor  ...    2019    2020\n",
              "0   Colombia  Gross domestic product, constant prices  ...   3.260  -8.182\n",
              "1     Guyana  Gross domestic product, constant prices  ...   5.353  26.205\n",
              "2  Venezuela  Gross domestic product, constant prices  ... -35.000 -25.000\n",
              "\n",
              "[3 rows x 11 columns]"
            ]
          },
          "metadata": {
            "tags": []
          },
          "execution_count": 351
        }
      ]
    },
    {
      "cell_type": "code",
      "metadata": {
        "id": "cc3xh9AT7MId",
        "outputId": "5ad2db3f-cb75-43b8-f7e1-ce553f5b988d",
        "colab": {
          "base_uri": "https://localhost:8080/",
          "height": 142
        }
      },
      "source": [
        "df=df.drop(columns=['Subject Descriptor',\"Units\",\"Scale\",\"Country/Series-specific Notes\"])\n",
        "df"
      ],
      "execution_count": 352,
      "outputs": [
        {
          "output_type": "execute_result",
          "data": {
            "text/html": [
              "<div>\n",
              "<style scoped>\n",
              "    .dataframe tbody tr th:only-of-type {\n",
              "        vertical-align: middle;\n",
              "    }\n",
              "\n",
              "    .dataframe tbody tr th {\n",
              "        vertical-align: top;\n",
              "    }\n",
              "\n",
              "    .dataframe thead th {\n",
              "        text-align: right;\n",
              "    }\n",
              "</style>\n",
              "<table border=\"1\" class=\"dataframe\">\n",
              "  <thead>\n",
              "    <tr style=\"text-align: right;\">\n",
              "      <th></th>\n",
              "      <th>Country</th>\n",
              "      <th>2015</th>\n",
              "      <th>2016</th>\n",
              "      <th>2017</th>\n",
              "      <th>2018</th>\n",
              "      <th>2019</th>\n",
              "      <th>2020</th>\n",
              "    </tr>\n",
              "  </thead>\n",
              "  <tbody>\n",
              "    <tr>\n",
              "      <th>0</th>\n",
              "      <td>Colombia</td>\n",
              "      <td>2.956</td>\n",
              "      <td>2.087</td>\n",
              "      <td>1.359</td>\n",
              "      <td>2.515</td>\n",
              "      <td>3.260</td>\n",
              "      <td>-8.182</td>\n",
              "    </tr>\n",
              "    <tr>\n",
              "      <th>1</th>\n",
              "      <td>Guyana</td>\n",
              "      <td>0.687</td>\n",
              "      <td>3.807</td>\n",
              "      <td>3.734</td>\n",
              "      <td>4.441</td>\n",
              "      <td>5.353</td>\n",
              "      <td>26.205</td>\n",
              "    </tr>\n",
              "    <tr>\n",
              "      <th>2</th>\n",
              "      <td>Venezuela</td>\n",
              "      <td>-6.221</td>\n",
              "      <td>-17.040</td>\n",
              "      <td>-15.671</td>\n",
              "      <td>-19.621</td>\n",
              "      <td>-35.000</td>\n",
              "      <td>-25.000</td>\n",
              "    </tr>\n",
              "  </tbody>\n",
              "</table>\n",
              "</div>"
            ],
            "text/plain": [
              "     Country   2015    2016    2017    2018    2019    2020\n",
              "0   Colombia  2.956   2.087   1.359   2.515   3.260  -8.182\n",
              "1     Guyana  0.687   3.807   3.734   4.441   5.353  26.205\n",
              "2  Venezuela -6.221 -17.040 -15.671 -19.621 -35.000 -25.000"
            ]
          },
          "metadata": {
            "tags": []
          },
          "execution_count": 352
        }
      ]
    },
    {
      "cell_type": "code",
      "metadata": {
        "id": "7Jh8b3tDD2Zv",
        "outputId": "e31e71eb-2cda-4237-9be1-c6e4be455e20",
        "colab": {
          "base_uri": "https://localhost:8080/",
          "height": 34
        }
      },
      "source": [
        "Years= list(df) # Listing numbers from tuition fee for UMBC\n",
        "Years"
      ],
      "execution_count": 353,
      "outputs": [
        {
          "output_type": "execute_result",
          "data": {
            "text/plain": [
              "['Country', '2015', '2016', '2017', '2018', '2019', '2020']"
            ]
          },
          "metadata": {
            "tags": []
          },
          "execution_count": 353
        }
      ]
    },
    {
      "cell_type": "code",
      "metadata": {
        "id": "GMyEytgdD4P-",
        "outputId": "d4b77377-06bb-4044-ec4f-e2400386ae68",
        "colab": {
          "base_uri": "https://localhost:8080/",
          "height": 34
        }
      },
      "source": [
        "Years.remove('Country') \n",
        "Years"
      ],
      "execution_count": 354,
      "outputs": [
        {
          "output_type": "execute_result",
          "data": {
            "text/plain": [
              "['2015', '2016', '2017', '2018', '2019', '2020']"
            ]
          },
          "metadata": {
            "tags": []
          },
          "execution_count": 354
        }
      ]
    },
    {
      "cell_type": "code",
      "metadata": {
        "id": "QGshSgXXCGZ_",
        "outputId": "d2fb0b92-c5d2-464b-9a8e-3219652903b2",
        "colab": {
          "base_uri": "https://localhost:8080/",
          "height": 607
        }
      },
      "source": [
        "long_df = df.melt(\n",
        "    id_vars=\"Country\",                          # Unique identifier\n",
        "    value_vars=Years,    # List of columns to be melted to a single variable\n",
        "    var_name=\"Years\",                          # The new column name for the variable\n",
        "    value_name=\"GDP Percentage Growth\"                         # The new column name for the value\n",
        ")\n",
        "\n",
        "long_df"
      ],
      "execution_count": 355,
      "outputs": [
        {
          "output_type": "execute_result",
          "data": {
            "text/html": [
              "<div>\n",
              "<style scoped>\n",
              "    .dataframe tbody tr th:only-of-type {\n",
              "        vertical-align: middle;\n",
              "    }\n",
              "\n",
              "    .dataframe tbody tr th {\n",
              "        vertical-align: top;\n",
              "    }\n",
              "\n",
              "    .dataframe thead th {\n",
              "        text-align: right;\n",
              "    }\n",
              "</style>\n",
              "<table border=\"1\" class=\"dataframe\">\n",
              "  <thead>\n",
              "    <tr style=\"text-align: right;\">\n",
              "      <th></th>\n",
              "      <th>Country</th>\n",
              "      <th>Years</th>\n",
              "      <th>GDP Percentage Growth</th>\n",
              "    </tr>\n",
              "  </thead>\n",
              "  <tbody>\n",
              "    <tr>\n",
              "      <th>0</th>\n",
              "      <td>Colombia</td>\n",
              "      <td>2015</td>\n",
              "      <td>2.956</td>\n",
              "    </tr>\n",
              "    <tr>\n",
              "      <th>1</th>\n",
              "      <td>Guyana</td>\n",
              "      <td>2015</td>\n",
              "      <td>0.687</td>\n",
              "    </tr>\n",
              "    <tr>\n",
              "      <th>2</th>\n",
              "      <td>Venezuela</td>\n",
              "      <td>2015</td>\n",
              "      <td>-6.221</td>\n",
              "    </tr>\n",
              "    <tr>\n",
              "      <th>3</th>\n",
              "      <td>Colombia</td>\n",
              "      <td>2016</td>\n",
              "      <td>2.087</td>\n",
              "    </tr>\n",
              "    <tr>\n",
              "      <th>4</th>\n",
              "      <td>Guyana</td>\n",
              "      <td>2016</td>\n",
              "      <td>3.807</td>\n",
              "    </tr>\n",
              "    <tr>\n",
              "      <th>5</th>\n",
              "      <td>Venezuela</td>\n",
              "      <td>2016</td>\n",
              "      <td>-17.040</td>\n",
              "    </tr>\n",
              "    <tr>\n",
              "      <th>6</th>\n",
              "      <td>Colombia</td>\n",
              "      <td>2017</td>\n",
              "      <td>1.359</td>\n",
              "    </tr>\n",
              "    <tr>\n",
              "      <th>7</th>\n",
              "      <td>Guyana</td>\n",
              "      <td>2017</td>\n",
              "      <td>3.734</td>\n",
              "    </tr>\n",
              "    <tr>\n",
              "      <th>8</th>\n",
              "      <td>Venezuela</td>\n",
              "      <td>2017</td>\n",
              "      <td>-15.671</td>\n",
              "    </tr>\n",
              "    <tr>\n",
              "      <th>9</th>\n",
              "      <td>Colombia</td>\n",
              "      <td>2018</td>\n",
              "      <td>2.515</td>\n",
              "    </tr>\n",
              "    <tr>\n",
              "      <th>10</th>\n",
              "      <td>Guyana</td>\n",
              "      <td>2018</td>\n",
              "      <td>4.441</td>\n",
              "    </tr>\n",
              "    <tr>\n",
              "      <th>11</th>\n",
              "      <td>Venezuela</td>\n",
              "      <td>2018</td>\n",
              "      <td>-19.621</td>\n",
              "    </tr>\n",
              "    <tr>\n",
              "      <th>12</th>\n",
              "      <td>Colombia</td>\n",
              "      <td>2019</td>\n",
              "      <td>3.260</td>\n",
              "    </tr>\n",
              "    <tr>\n",
              "      <th>13</th>\n",
              "      <td>Guyana</td>\n",
              "      <td>2019</td>\n",
              "      <td>5.353</td>\n",
              "    </tr>\n",
              "    <tr>\n",
              "      <th>14</th>\n",
              "      <td>Venezuela</td>\n",
              "      <td>2019</td>\n",
              "      <td>-35.000</td>\n",
              "    </tr>\n",
              "    <tr>\n",
              "      <th>15</th>\n",
              "      <td>Colombia</td>\n",
              "      <td>2020</td>\n",
              "      <td>-8.182</td>\n",
              "    </tr>\n",
              "    <tr>\n",
              "      <th>16</th>\n",
              "      <td>Guyana</td>\n",
              "      <td>2020</td>\n",
              "      <td>26.205</td>\n",
              "    </tr>\n",
              "    <tr>\n",
              "      <th>17</th>\n",
              "      <td>Venezuela</td>\n",
              "      <td>2020</td>\n",
              "      <td>-25.000</td>\n",
              "    </tr>\n",
              "  </tbody>\n",
              "</table>\n",
              "</div>"
            ],
            "text/plain": [
              "      Country Years  GDP Percentage Growth\n",
              "0    Colombia  2015                  2.956\n",
              "1      Guyana  2015                  0.687\n",
              "2   Venezuela  2015                 -6.221\n",
              "3    Colombia  2016                  2.087\n",
              "4      Guyana  2016                  3.807\n",
              "5   Venezuela  2016                -17.040\n",
              "6    Colombia  2017                  1.359\n",
              "7      Guyana  2017                  3.734\n",
              "8   Venezuela  2017                -15.671\n",
              "9    Colombia  2018                  2.515\n",
              "10     Guyana  2018                  4.441\n",
              "11  Venezuela  2018                -19.621\n",
              "12   Colombia  2019                  3.260\n",
              "13     Guyana  2019                  5.353\n",
              "14  Venezuela  2019                -35.000\n",
              "15   Colombia  2020                 -8.182\n",
              "16     Guyana  2020                 26.205\n",
              "17  Venezuela  2020                -25.000"
            ]
          },
          "metadata": {
            "tags": []
          },
          "execution_count": 355
        }
      ]
    },
    {
      "cell_type": "code",
      "metadata": {
        "id": "J0et8Z5-FMqW",
        "outputId": "2af0a5df-c7ba-4868-9c09-9ab61300e38d",
        "colab": {
          "base_uri": "https://localhost:8080/",
          "height": 962
        }
      },
      "source": [
        "fig, ax = plt.subplots(figsize=(15,15))\n",
        "ax.set_ylabel(\"GDP Percentage Growth\",fontname=\"Arial\", fontsize=25)\n",
        "ax.set_xlabel(\"Country\",fontname=\"Arial\", fontsize=20)\n",
        "ax.set_title(\"Select South American Countries 2015-2020\",fontname=\"Arial\", fontsize=25)\n",
        "long_df.plot(kind='bar',x='Country',y='GDP Percentage Growth', legend= \"GDP Percentage Growth\", color=\"b\", rot=45, ax = ax)\n",
        "plt.axhline(y=0, color='r') "
      ],
      "execution_count": 356,
      "outputs": [
        {
          "output_type": "execute_result",
          "data": {
            "text/plain": [
              "<matplotlib.lines.Line2D at 0x7f4cffc10240>"
            ]
          },
          "metadata": {
            "tags": []
          },
          "execution_count": 356
        },
        {
          "output_type": "display_data",
          "data": {
            "image/png": "[encoded data removed]",
            "text/plain": [
              "<Figure size 1080x1080 with 1 Axes>"
            ]
          },
          "metadata": {
            "tags": [],
            "needs_background": "light"
          }
        }
      ]
    },
    {
      "cell_type": "code",
      "metadata": {
        "id": "SefYC-xVP_5k",
        "outputId": "5ae8955c-d487-4bad-fef7-0d9443ed3dd1",
        "colab": {
          "base_uri": "https://localhost:8080/",
          "height": 168
        }
      },
      "source": [
        "df= pd.read_html(\"https://www.imf.org/en/Publications/WEO/weo-database/2020/October/weo-report?c=299,&s=PCPIPCH,&sy=1990&ey=2020&ssm=0&scsm=1&scc=0&ssd=1&ssc=0&sic=0&sort=country&ds=.&br=1\")\n",
        "df = df[0]\n",
        "df"
      ],
      "execution_count": 357,
      "outputs": [
        {
          "output_type": "execute_result",
          "data": {
            "text/html": [
              "<div>\n",
              "<style scoped>\n",
              "    .dataframe tbody tr th:only-of-type {\n",
              "        vertical-align: middle;\n",
              "    }\n",
              "\n",
              "    .dataframe tbody tr th {\n",
              "        vertical-align: top;\n",
              "    }\n",
              "\n",
              "    .dataframe thead th {\n",
              "        text-align: right;\n",
              "    }\n",
              "</style>\n",
              "<table border=\"1\" class=\"dataframe\">\n",
              "  <thead>\n",
              "    <tr style=\"text-align: right;\">\n",
              "      <th></th>\n",
              "      <th>Country</th>\n",
              "      <th>Subject Descriptor</th>\n",
              "      <th>Units</th>\n",
              "      <th>Scale</th>\n",
              "      <th>Country/Series-specific Notes</th>\n",
              "      <th>1990</th>\n",
              "      <th>1991</th>\n",
              "      <th>1992</th>\n",
              "      <th>1993</th>\n",
              "      <th>1994</th>\n",
              "      <th>1995</th>\n",
              "      <th>1996</th>\n",
              "      <th>1997</th>\n",
              "      <th>1998</th>\n",
              "      <th>1999</th>\n",
              "      <th>2000</th>\n",
              "      <th>2001</th>\n",
              "      <th>2002</th>\n",
              "      <th>2003</th>\n",
              "      <th>2004</th>\n",
              "      <th>2005</th>\n",
              "      <th>2006</th>\n",
              "      <th>2007</th>\n",
              "      <th>2008</th>\n",
              "      <th>2009</th>\n",
              "      <th>2010</th>\n",
              "      <th>2011</th>\n",
              "      <th>2012</th>\n",
              "      <th>2013</th>\n",
              "      <th>2014</th>\n",
              "      <th>2015</th>\n",
              "      <th>2016</th>\n",
              "      <th>2017</th>\n",
              "      <th>2018</th>\n",
              "      <th>2019</th>\n",
              "      <th>2020</th>\n",
              "    </tr>\n",
              "  </thead>\n",
              "  <tbody>\n",
              "    <tr>\n",
              "      <th>0</th>\n",
              "      <td>Venezuela</td>\n",
              "      <td>Inflation, average consumer prices</td>\n",
              "      <td>Percent change</td>\n",
              "      <td>NaN</td>\n",
              "      <td>NaN</td>\n",
              "      <td>40.656</td>\n",
              "      <td>34.205</td>\n",
              "      <td>31.423</td>\n",
              "      <td>38.122</td>\n",
              "      <td>60.817</td>\n",
              "      <td>59.923</td>\n",
              "      <td>99.876</td>\n",
              "      <td>50.04</td>\n",
              "      <td>35.782</td>\n",
              "      <td>23.57</td>\n",
              "      <td>16.206</td>\n",
              "      <td>12.531</td>\n",
              "      <td>22.434</td>\n",
              "      <td>31.091</td>\n",
              "      <td>21.747</td>\n",
              "      <td>15.955</td>\n",
              "      <td>13.663</td>\n",
              "      <td>18.699</td>\n",
              "      <td>31.441</td>\n",
              "      <td>26.041</td>\n",
              "      <td>28.187</td>\n",
              "      <td>26.09</td>\n",
              "      <td>21.069</td>\n",
              "      <td>40.639</td>\n",
              "      <td>62.169</td>\n",
              "      <td>121.738</td>\n",
              "      <td>254.949</td>\n",
              "      <td>438.117</td>\n",
              "      <td>65374.082</td>\n",
              "      <td>19906.024</td>\n",
              "      <td>6500.0</td>\n",
              "    </tr>\n",
              "  </tbody>\n",
              "</table>\n",
              "</div>"
            ],
            "text/plain": [
              "     Country                  Subject Descriptor  ...       2019    2020\n",
              "0  Venezuela  Inflation, average consumer prices  ...  19906.024  6500.0\n",
              "\n",
              "[1 rows x 36 columns]"
            ]
          },
          "metadata": {
            "tags": []
          },
          "execution_count": 357
        }
      ]
    },
    {
      "cell_type": "code",
      "metadata": {
        "id": "Dz6wdwZ-QKoS",
        "outputId": "7e6a6610-64fc-42f6-8933-409fb094fafa",
        "colab": {
          "base_uri": "https://localhost:8080/",
          "height": 80
        }
      },
      "source": [
        "df=df.drop(columns=['Subject Descriptor',\"Units\",\"Scale\",\"Country/Series-specific Notes\"])\n",
        "df"
      ],
      "execution_count": 358,
      "outputs": [
        {
          "output_type": "execute_result",
          "data": {
            "text/html": [
              "<div>\n",
              "<style scoped>\n",
              "    .dataframe tbody tr th:only-of-type {\n",
              "        vertical-align: middle;\n",
              "    }\n",
              "\n",
              "    .dataframe tbody tr th {\n",
              "        vertical-align: top;\n",
              "    }\n",
              "\n",
              "    .dataframe thead th {\n",
              "        text-align: right;\n",
              "    }\n",
              "</style>\n",
              "<table border=\"1\" class=\"dataframe\">\n",
              "  <thead>\n",
              "    <tr style=\"text-align: right;\">\n",
              "      <th></th>\n",
              "      <th>Country</th>\n",
              "      <th>1990</th>\n",
              "      <th>1991</th>\n",
              "      <th>1992</th>\n",
              "      <th>1993</th>\n",
              "      <th>1994</th>\n",
              "      <th>1995</th>\n",
              "      <th>1996</th>\n",
              "      <th>1997</th>\n",
              "      <th>1998</th>\n",
              "      <th>1999</th>\n",
              "      <th>2000</th>\n",
              "      <th>2001</th>\n",
              "      <th>2002</th>\n",
              "      <th>2003</th>\n",
              "      <th>2004</th>\n",
              "      <th>2005</th>\n",
              "      <th>2006</th>\n",
              "      <th>2007</th>\n",
              "      <th>2008</th>\n",
              "      <th>2009</th>\n",
              "      <th>2010</th>\n",
              "      <th>2011</th>\n",
              "      <th>2012</th>\n",
              "      <th>2013</th>\n",
              "      <th>2014</th>\n",
              "      <th>2015</th>\n",
              "      <th>2016</th>\n",
              "      <th>2017</th>\n",
              "      <th>2018</th>\n",
              "      <th>2019</th>\n",
              "      <th>2020</th>\n",
              "    </tr>\n",
              "  </thead>\n",
              "  <tbody>\n",
              "    <tr>\n",
              "      <th>0</th>\n",
              "      <td>Venezuela</td>\n",
              "      <td>40.656</td>\n",
              "      <td>34.205</td>\n",
              "      <td>31.423</td>\n",
              "      <td>38.122</td>\n",
              "      <td>60.817</td>\n",
              "      <td>59.923</td>\n",
              "      <td>99.876</td>\n",
              "      <td>50.04</td>\n",
              "      <td>35.782</td>\n",
              "      <td>23.57</td>\n",
              "      <td>16.206</td>\n",
              "      <td>12.531</td>\n",
              "      <td>22.434</td>\n",
              "      <td>31.091</td>\n",
              "      <td>21.747</td>\n",
              "      <td>15.955</td>\n",
              "      <td>13.663</td>\n",
              "      <td>18.699</td>\n",
              "      <td>31.441</td>\n",
              "      <td>26.041</td>\n",
              "      <td>28.187</td>\n",
              "      <td>26.09</td>\n",
              "      <td>21.069</td>\n",
              "      <td>40.639</td>\n",
              "      <td>62.169</td>\n",
              "      <td>121.738</td>\n",
              "      <td>254.949</td>\n",
              "      <td>438.117</td>\n",
              "      <td>65374.082</td>\n",
              "      <td>19906.024</td>\n",
              "      <td>6500.0</td>\n",
              "    </tr>\n",
              "  </tbody>\n",
              "</table>\n",
              "</div>"
            ],
            "text/plain": [
              "     Country    1990    1991    1992  ...     2017       2018       2019    2020\n",
              "0  Venezuela  40.656  34.205  31.423  ...  438.117  65374.082  19906.024  6500.0\n",
              "\n",
              "[1 rows x 32 columns]"
            ]
          },
          "metadata": {
            "tags": []
          },
          "execution_count": 358
        }
      ]
    },
    {
      "cell_type": "code",
      "metadata": {
        "id": "126Gn7qFQQf1",
        "outputId": "8fbf281a-8078-4215-dfef-1847569bfc6b",
        "colab": {
          "base_uri": "https://localhost:8080/",
          "height": 561
        }
      },
      "source": [
        "Years_2= list(df) # Listing numbers from tuition fee for UMBC\n",
        "Years_2"
      ],
      "execution_count": 359,
      "outputs": [
        {
          "output_type": "execute_result",
          "data": {
            "text/plain": [
              "['Country',\n",
              " '1990',\n",
              " '1991',\n",
              " '1992',\n",
              " '1993',\n",
              " '1994',\n",
              " '1995',\n",
              " '1996',\n",
              " '1997',\n",
              " '1998',\n",
              " '1999',\n",
              " '2000',\n",
              " '2001',\n",
              " '2002',\n",
              " '2003',\n",
              " '2004',\n",
              " '2005',\n",
              " '2006',\n",
              " '2007',\n",
              " '2008',\n",
              " '2009',\n",
              " '2010',\n",
              " '2011',\n",
              " '2012',\n",
              " '2013',\n",
              " '2014',\n",
              " '2015',\n",
              " '2016',\n",
              " '2017',\n",
              " '2018',\n",
              " '2019',\n",
              " '2020']"
            ]
          },
          "metadata": {
            "tags": []
          },
          "execution_count": 359
        }
      ]
    },
    {
      "cell_type": "code",
      "metadata": {
        "id": "Srjwlc0MQVa7",
        "outputId": "5fa6b773-08b2-4309-d380-2c7259e496f2",
        "colab": {
          "base_uri": "https://localhost:8080/",
          "height": 544
        }
      },
      "source": [
        "Years_2.remove('Country') \n",
        "Years_2"
      ],
      "execution_count": 360,
      "outputs": [
        {
          "output_type": "execute_result",
          "data": {
            "text/plain": [
              "['1990',\n",
              " '1991',\n",
              " '1992',\n",
              " '1993',\n",
              " '1994',\n",
              " '1995',\n",
              " '1996',\n",
              " '1997',\n",
              " '1998',\n",
              " '1999',\n",
              " '2000',\n",
              " '2001',\n",
              " '2002',\n",
              " '2003',\n",
              " '2004',\n",
              " '2005',\n",
              " '2006',\n",
              " '2007',\n",
              " '2008',\n",
              " '2009',\n",
              " '2010',\n",
              " '2011',\n",
              " '2012',\n",
              " '2013',\n",
              " '2014',\n",
              " '2015',\n",
              " '2016',\n",
              " '2017',\n",
              " '2018',\n",
              " '2019',\n",
              " '2020']"
            ]
          },
          "metadata": {
            "tags": []
          },
          "execution_count": 360
        }
      ]
    },
    {
      "cell_type": "code",
      "metadata": {
        "id": "uBx16GNkQa-T",
        "outputId": "5a3f0f17-9961-421e-9f65-32d90b99b085",
        "colab": {
          "base_uri": "https://localhost:8080/",
          "height": 1000
        }
      },
      "source": [
        "long_df = df.melt(\n",
        "    id_vars=\"Country\",                          # Unique identifier\n",
        "    value_vars=Years_2,    # List of columns to be melted to a single variable\n",
        "    var_name=\"Years_2\",                          # The new column name for the variable\n",
        "    value_name=\"Inflation Rate\"                         # The new column name for the value\n",
        ")\n",
        "\n",
        "long_df"
      ],
      "execution_count": 361,
      "outputs": [
        {
          "output_type": "execute_result",
          "data": {
            "text/html": [
              "<div>\n",
              "<style scoped>\n",
              "    .dataframe tbody tr th:only-of-type {\n",
              "        vertical-align: middle;\n",
              "    }\n",
              "\n",
              "    .dataframe tbody tr th {\n",
              "        vertical-align: top;\n",
              "    }\n",
              "\n",
              "    .dataframe thead th {\n",
              "        text-align: right;\n",
              "    }\n",
              "</style>\n",
              "<table border=\"1\" class=\"dataframe\">\n",
              "  <thead>\n",
              "    <tr style=\"text-align: right;\">\n",
              "      <th></th>\n",
              "      <th>Country</th>\n",
              "      <th>Years_2</th>\n",
              "      <th>Inflation Rate</th>\n",
              "    </tr>\n",
              "  </thead>\n",
              "  <tbody>\n",
              "    <tr>\n",
              "      <th>0</th>\n",
              "      <td>Venezuela</td>\n",
              "      <td>1990</td>\n",
              "      <td>40.656</td>\n",
              "    </tr>\n",
              "    <tr>\n",
              "      <th>1</th>\n",
              "      <td>Venezuela</td>\n",
              "      <td>1991</td>\n",
              "      <td>34.205</td>\n",
              "    </tr>\n",
              "    <tr>\n",
              "      <th>2</th>\n",
              "      <td>Venezuela</td>\n",
              "      <td>1992</td>\n",
              "      <td>31.423</td>\n",
              "    </tr>\n",
              "    <tr>\n",
              "      <th>3</th>\n",
              "      <td>Venezuela</td>\n",
              "      <td>1993</td>\n",
              "      <td>38.122</td>\n",
              "    </tr>\n",
              "    <tr>\n",
              "      <th>4</th>\n",
              "      <td>Venezuela</td>\n",
              "      <td>1994</td>\n",
              "      <td>60.817</td>\n",
              "    </tr>\n",
              "    <tr>\n",
              "      <th>5</th>\n",
              "      <td>Venezuela</td>\n",
              "      <td>1995</td>\n",
              "      <td>59.923</td>\n",
              "    </tr>\n",
              "    <tr>\n",
              "      <th>6</th>\n",
              "      <td>Venezuela</td>\n",
              "      <td>1996</td>\n",
              "      <td>99.876</td>\n",
              "    </tr>\n",
              "    <tr>\n",
              "      <th>7</th>\n",
              "      <td>Venezuela</td>\n",
              "      <td>1997</td>\n",
              "      <td>50.040</td>\n",
              "    </tr>\n",
              "    <tr>\n",
              "      <th>8</th>\n",
              "      <td>Venezuela</td>\n",
              "      <td>1998</td>\n",
              "      <td>35.782</td>\n",
              "    </tr>\n",
              "    <tr>\n",
              "      <th>9</th>\n",
              "      <td>Venezuela</td>\n",
              "      <td>1999</td>\n",
              "      <td>23.570</td>\n",
              "    </tr>\n",
              "    <tr>\n",
              "      <th>10</th>\n",
              "      <td>Venezuela</td>\n",
              "      <td>2000</td>\n",
              "      <td>16.206</td>\n",
              "    </tr>\n",
              "    <tr>\n",
              "      <th>11</th>\n",
              "      <td>Venezuela</td>\n",
              "      <td>2001</td>\n",
              "      <td>12.531</td>\n",
              "    </tr>\n",
              "    <tr>\n",
              "      <th>12</th>\n",
              "      <td>Venezuela</td>\n",
              "      <td>2002</td>\n",
              "      <td>22.434</td>\n",
              "    </tr>\n",
              "    <tr>\n",
              "      <th>13</th>\n",
              "      <td>Venezuela</td>\n",
              "      <td>2003</td>\n",
              "      <td>31.091</td>\n",
              "    </tr>\n",
              "    <tr>\n",
              "      <th>14</th>\n",
              "      <td>Venezuela</td>\n",
              "      <td>2004</td>\n",
              "      <td>21.747</td>\n",
              "    </tr>\n",
              "    <tr>\n",
              "      <th>15</th>\n",
              "      <td>Venezuela</td>\n",
              "      <td>2005</td>\n",
              "      <td>15.955</td>\n",
              "    </tr>\n",
              "    <tr>\n",
              "      <th>16</th>\n",
              "      <td>Venezuela</td>\n",
              "      <td>2006</td>\n",
              "      <td>13.663</td>\n",
              "    </tr>\n",
              "    <tr>\n",
              "      <th>17</th>\n",
              "      <td>Venezuela</td>\n",
              "      <td>2007</td>\n",
              "      <td>18.699</td>\n",
              "    </tr>\n",
              "    <tr>\n",
              "      <th>18</th>\n",
              "      <td>Venezuela</td>\n",
              "      <td>2008</td>\n",
              "      <td>31.441</td>\n",
              "    </tr>\n",
              "    <tr>\n",
              "      <th>19</th>\n",
              "      <td>Venezuela</td>\n",
              "      <td>2009</td>\n",
              "      <td>26.041</td>\n",
              "    </tr>\n",
              "    <tr>\n",
              "      <th>20</th>\n",
              "      <td>Venezuela</td>\n",
              "      <td>2010</td>\n",
              "      <td>28.187</td>\n",
              "    </tr>\n",
              "    <tr>\n",
              "      <th>21</th>\n",
              "      <td>Venezuela</td>\n",
              "      <td>2011</td>\n",
              "      <td>26.090</td>\n",
              "    </tr>\n",
              "    <tr>\n",
              "      <th>22</th>\n",
              "      <td>Venezuela</td>\n",
              "      <td>2012</td>\n",
              "      <td>21.069</td>\n",
              "    </tr>\n",
              "    <tr>\n",
              "      <th>23</th>\n",
              "      <td>Venezuela</td>\n",
              "      <td>2013</td>\n",
              "      <td>40.639</td>\n",
              "    </tr>\n",
              "    <tr>\n",
              "      <th>24</th>\n",
              "      <td>Venezuela</td>\n",
              "      <td>2014</td>\n",
              "      <td>62.169</td>\n",
              "    </tr>\n",
              "    <tr>\n",
              "      <th>25</th>\n",
              "      <td>Venezuela</td>\n",
              "      <td>2015</td>\n",
              "      <td>121.738</td>\n",
              "    </tr>\n",
              "    <tr>\n",
              "      <th>26</th>\n",
              "      <td>Venezuela</td>\n",
              "      <td>2016</td>\n",
              "      <td>254.949</td>\n",
              "    </tr>\n",
              "    <tr>\n",
              "      <th>27</th>\n",
              "      <td>Venezuela</td>\n",
              "      <td>2017</td>\n",
              "      <td>438.117</td>\n",
              "    </tr>\n",
              "    <tr>\n",
              "      <th>28</th>\n",
              "      <td>Venezuela</td>\n",
              "      <td>2018</td>\n",
              "      <td>65374.082</td>\n",
              "    </tr>\n",
              "    <tr>\n",
              "      <th>29</th>\n",
              "      <td>Venezuela</td>\n",
              "      <td>2019</td>\n",
              "      <td>19906.024</td>\n",
              "    </tr>\n",
              "    <tr>\n",
              "      <th>30</th>\n",
              "      <td>Venezuela</td>\n",
              "      <td>2020</td>\n",
              "      <td>6500.000</td>\n",
              "    </tr>\n",
              "  </tbody>\n",
              "</table>\n",
              "</div>"
            ],
            "text/plain": [
              "      Country Years_2  Inflation Rate\n",
              "0   Venezuela    1990          40.656\n",
              "1   Venezuela    1991          34.205\n",
              "2   Venezuela    1992          31.423\n",
              "3   Venezuela    1993          38.122\n",
              "4   Venezuela    1994          60.817\n",
              "5   Venezuela    1995          59.923\n",
              "6   Venezuela    1996          99.876\n",
              "7   Venezuela    1997          50.040\n",
              "8   Venezuela    1998          35.782\n",
              "9   Venezuela    1999          23.570\n",
              "10  Venezuela    2000          16.206\n",
              "11  Venezuela    2001          12.531\n",
              "12  Venezuela    2002          22.434\n",
              "13  Venezuela    2003          31.091\n",
              "14  Venezuela    2004          21.747\n",
              "15  Venezuela    2005          15.955\n",
              "16  Venezuela    2006          13.663\n",
              "17  Venezuela    2007          18.699\n",
              "18  Venezuela    2008          31.441\n",
              "19  Venezuela    2009          26.041\n",
              "20  Venezuela    2010          28.187\n",
              "21  Venezuela    2011          26.090\n",
              "22  Venezuela    2012          21.069\n",
              "23  Venezuela    2013          40.639\n",
              "24  Venezuela    2014          62.169\n",
              "25  Venezuela    2015         121.738\n",
              "26  Venezuela    2016         254.949\n",
              "27  Venezuela    2017         438.117\n",
              "28  Venezuela    2018       65374.082\n",
              "29  Venezuela    2019       19906.024\n",
              "30  Venezuela    2020        6500.000"
            ]
          },
          "metadata": {
            "tags": []
          },
          "execution_count": 361
        }
      ]
    },
    {
      "cell_type": "code",
      "metadata": {
        "id": "uIxg8H2OQqzP",
        "outputId": "14e11e12-fc53-4c87-8f66-dcb64bcf7b7c",
        "colab": {
          "base_uri": "https://localhost:8080/",
          "height": 943
        }
      },
      "source": [
        "fig, ax = plt.subplots(figsize=(20,15))\n",
        "ax.set_ylabel(\"Inflation Rate\",fontname=\"Arial\", fontsize=25)\n",
        "ax.set_xlabel(\"Years\",fontname=\"Arial\", fontsize=20)\n",
        "ax.set_title(\"Venzuela Inflation\",fontname=\"Arial\", fontsize=25)\n",
        "long_df.plot(kind='line',x='Years_2',y='Inflation Rate', legend= \"GDP Percentage Growth\", color=\"b\", rot=45, ax = ax)\n"
      ],
      "execution_count": 362,
      "outputs": [
        {
          "output_type": "execute_result",
          "data": {
            "text/plain": [
              "<matplotlib.axes._subplots.AxesSubplot at 0x7f4cffd0a198>"
            ]
          },
          "metadata": {
            "tags": []
          },
          "execution_count": 362
        },
        {
          "output_type": "display_data",
          "data": {
            "image/png": "[encoded data removed]",
            "text/plain": [
              "<Figure size 1440x1080 with 1 Axes>"
            ]
          },
          "metadata": {
            "tags": [],
            "needs_background": "light"
          }
        }
      ]
    },
    {
      "cell_type": "code",
      "metadata": {
        "id": "m8CiLiEwJSp1",
        "outputId": "4c546af9-daa1-4c80-dad7-222bec376223",
        "colab": {
          "base_uri": "https://localhost:8080/",
          "height": 513
        }
      },
      "source": [
        "Poverty_Rate  = [19.7,9.2] #https://www.worldbank.org/en/topic/poverty/overview#:~:text=The%20global%20extreme%20poverty%20rate,%245.50%20a%20day%20in%202017\n",
        "Country = [\"Venezuela\",\t\"World/Global Average\"] \n",
        "Poverty_Rate\n",
        "\n",
        "fig, ax = plt.subplots(figsize=(12,8))\n",
        "\n",
        "ax.bar(Country, Poverty_Rate)\n",
        "ax.set_title(\"Poverty Rate\")\n",
        "ax.set_xlabel(\"Country\")\n",
        "ax.set_ylabel(\"Poverty Rate\")\n",
        "\n",
        "fig.show()"
      ],
      "execution_count": 337,
      "outputs": [
        {
          "output_type": "display_data",
          "data": {
            "image/png": "[encoded data removed]",
            "text/plain": [
              "<Figure size 864x576 with 1 Axes>"
            ]
          },
          "metadata": {
            "tags": [],
            "needs_background": "light"
          }
        }
      ]
    },
    {
      "cell_type": "code",
      "metadata": {
        "id": "pW_RgPFPWZ_Y",
        "outputId": "53f43a02-a2fb-47c5-e21b-5a3903fa2f59",
        "colab": {
          "base_uri": "https://localhost:8080/",
          "height": 151
        }
      },
      "source": [
        "df= pd.read_html(\"https://www.imf.org/en/Publications/WEO/weo-database/2020/October/weo-report?c=299,&s=TMG_RPCH,&sy=1990&ey=2020&ssm=0&scsm=1&scc=0&ssd=1&ssc=0&sic=0&sort=country&ds=.&br=1\")\n",
        "df = df[0]\n",
        "df"
      ],
      "execution_count": 339,
      "outputs": [
        {
          "output_type": "execute_result",
          "data": {
            "text/html": [
              "<div>\n",
              "<style scoped>\n",
              "    .dataframe tbody tr th:only-of-type {\n",
              "        vertical-align: middle;\n",
              "    }\n",
              "\n",
              "    .dataframe tbody tr th {\n",
              "        vertical-align: top;\n",
              "    }\n",
              "\n",
              "    .dataframe thead th {\n",
              "        text-align: right;\n",
              "    }\n",
              "</style>\n",
              "<table border=\"1\" class=\"dataframe\">\n",
              "  <thead>\n",
              "    <tr style=\"text-align: right;\">\n",
              "      <th></th>\n",
              "      <th>Country</th>\n",
              "      <th>Subject Descriptor</th>\n",
              "      <th>Units</th>\n",
              "      <th>Scale</th>\n",
              "      <th>Country/Series-specific Notes</th>\n",
              "      <th>1990</th>\n",
              "      <th>1991</th>\n",
              "      <th>1992</th>\n",
              "      <th>1993</th>\n",
              "      <th>1994</th>\n",
              "      <th>1995</th>\n",
              "      <th>1996</th>\n",
              "      <th>1997</th>\n",
              "      <th>1998</th>\n",
              "      <th>1999</th>\n",
              "      <th>2000</th>\n",
              "      <th>2001</th>\n",
              "      <th>2002</th>\n",
              "      <th>2003</th>\n",
              "      <th>2004</th>\n",
              "      <th>2005</th>\n",
              "      <th>2006</th>\n",
              "      <th>2007</th>\n",
              "      <th>2008</th>\n",
              "      <th>2009</th>\n",
              "      <th>2010</th>\n",
              "      <th>2011</th>\n",
              "      <th>2012</th>\n",
              "      <th>2013</th>\n",
              "      <th>2014</th>\n",
              "      <th>2015</th>\n",
              "      <th>2016</th>\n",
              "      <th>2017</th>\n",
              "      <th>2018</th>\n",
              "      <th>2019</th>\n",
              "      <th>2020</th>\n",
              "    </tr>\n",
              "  </thead>\n",
              "  <tbody>\n",
              "    <tr>\n",
              "      <th>0</th>\n",
              "      <td>Venezuela</td>\n",
              "      <td>Volume of Imports of goods</td>\n",
              "      <td>Percent change</td>\n",
              "      <td>NaN</td>\n",
              "      <td>NaN</td>\n",
              "      <td>2.447</td>\n",
              "      <td>25.24</td>\n",
              "      <td>4.752</td>\n",
              "      <td>-11.738</td>\n",
              "      <td>-28.4</td>\n",
              "      <td>31.011</td>\n",
              "      <td>-15.485</td>\n",
              "      <td>62.421</td>\n",
              "      <td>14.298</td>\n",
              "      <td>-11.449</td>\n",
              "      <td>14.985</td>\n",
              "      <td>15.789</td>\n",
              "      <td>-28.215</td>\n",
              "      <td>-23.457</td>\n",
              "      <td>66.582</td>\n",
              "      <td>38.777</td>\n",
              "      <td>40.169</td>\n",
              "      <td>31.575</td>\n",
              "      <td>3.187</td>\n",
              "      <td>-21.528</td>\n",
              "      <td>-6.101</td>\n",
              "      <td>13.803</td>\n",
              "      <td>24.948</td>\n",
              "      <td>-9.687</td>\n",
              "      <td>-18.532</td>\n",
              "      <td>-23.102</td>\n",
              "      <td>-50.061</td>\n",
              "      <td>-34.651</td>\n",
              "      <td>-10.074</td>\n",
              "      <td>-33.14</td>\n",
              "      <td>-14.796</td>\n",
              "    </tr>\n",
              "  </tbody>\n",
              "</table>\n",
              "</div>"
            ],
            "text/plain": [
              "     Country          Subject Descriptor           Units  ...    2018   2019    2020\n",
              "0  Venezuela  Volume of Imports of goods  Percent change  ... -10.074 -33.14 -14.796\n",
              "\n",
              "[1 rows x 36 columns]"
            ]
          },
          "metadata": {
            "tags": []
          },
          "execution_count": 339
        }
      ]
    },
    {
      "cell_type": "code",
      "metadata": {
        "id": "zgmCoxDLWgGa",
        "outputId": "78775064-4dab-41c5-efff-d767585181ea",
        "colab": {
          "base_uri": "https://localhost:8080/",
          "height": 80
        }
      },
      "source": [
        "df=df.drop(columns=['Subject Descriptor',\"Units\",\"Scale\",\"Country/Series-specific Notes\"])\n",
        "df"
      ],
      "execution_count": 340,
      "outputs": [
        {
          "output_type": "execute_result",
          "data": {
            "text/html": [
              "<div>\n",
              "<style scoped>\n",
              "    .dataframe tbody tr th:only-of-type {\n",
              "        vertical-align: middle;\n",
              "    }\n",
              "\n",
              "    .dataframe tbody tr th {\n",
              "        vertical-align: top;\n",
              "    }\n",
              "\n",
              "    .dataframe thead th {\n",
              "        text-align: right;\n",
              "    }\n",
              "</style>\n",
              "<table border=\"1\" class=\"dataframe\">\n",
              "  <thead>\n",
              "    <tr style=\"text-align: right;\">\n",
              "      <th></th>\n",
              "      <th>Country</th>\n",
              "      <th>1990</th>\n",
              "      <th>1991</th>\n",
              "      <th>1992</th>\n",
              "      <th>1993</th>\n",
              "      <th>1994</th>\n",
              "      <th>1995</th>\n",
              "      <th>1996</th>\n",
              "      <th>1997</th>\n",
              "      <th>1998</th>\n",
              "      <th>1999</th>\n",
              "      <th>2000</th>\n",
              "      <th>2001</th>\n",
              "      <th>2002</th>\n",
              "      <th>2003</th>\n",
              "      <th>2004</th>\n",
              "      <th>2005</th>\n",
              "      <th>2006</th>\n",
              "      <th>2007</th>\n",
              "      <th>2008</th>\n",
              "      <th>2009</th>\n",
              "      <th>2010</th>\n",
              "      <th>2011</th>\n",
              "      <th>2012</th>\n",
              "      <th>2013</th>\n",
              "      <th>2014</th>\n",
              "      <th>2015</th>\n",
              "      <th>2016</th>\n",
              "      <th>2017</th>\n",
              "      <th>2018</th>\n",
              "      <th>2019</th>\n",
              "      <th>2020</th>\n",
              "    </tr>\n",
              "  </thead>\n",
              "  <tbody>\n",
              "    <tr>\n",
              "      <th>0</th>\n",
              "      <td>Venezuela</td>\n",
              "      <td>2.447</td>\n",
              "      <td>25.24</td>\n",
              "      <td>4.752</td>\n",
              "      <td>-11.738</td>\n",
              "      <td>-28.4</td>\n",
              "      <td>31.011</td>\n",
              "      <td>-15.485</td>\n",
              "      <td>62.421</td>\n",
              "      <td>14.298</td>\n",
              "      <td>-11.449</td>\n",
              "      <td>14.985</td>\n",
              "      <td>15.789</td>\n",
              "      <td>-28.215</td>\n",
              "      <td>-23.457</td>\n",
              "      <td>66.582</td>\n",
              "      <td>38.777</td>\n",
              "      <td>40.169</td>\n",
              "      <td>31.575</td>\n",
              "      <td>3.187</td>\n",
              "      <td>-21.528</td>\n",
              "      <td>-6.101</td>\n",
              "      <td>13.803</td>\n",
              "      <td>24.948</td>\n",
              "      <td>-9.687</td>\n",
              "      <td>-18.532</td>\n",
              "      <td>-23.102</td>\n",
              "      <td>-50.061</td>\n",
              "      <td>-34.651</td>\n",
              "      <td>-10.074</td>\n",
              "      <td>-33.14</td>\n",
              "      <td>-14.796</td>\n",
              "    </tr>\n",
              "  </tbody>\n",
              "</table>\n",
              "</div>"
            ],
            "text/plain": [
              "     Country   1990   1991   1992  ...    2017    2018   2019    2020\n",
              "0  Venezuela  2.447  25.24  4.752  ... -34.651 -10.074 -33.14 -14.796\n",
              "\n",
              "[1 rows x 32 columns]"
            ]
          },
          "metadata": {
            "tags": []
          },
          "execution_count": 340
        }
      ]
    },
    {
      "cell_type": "code",
      "metadata": {
        "id": "CohBG3z1Wshi",
        "outputId": "2e772009-8e39-47c1-eb4c-91d3665d6259",
        "colab": {
          "base_uri": "https://localhost:8080/",
          "height": 561
        }
      },
      "source": [
        "Years= list(df) # Listing numbers from tuition fee for UMBC\n",
        "Years"
      ],
      "execution_count": 341,
      "outputs": [
        {
          "output_type": "execute_result",
          "data": {
            "text/plain": [
              "['Country',\n",
              " '1990',\n",
              " '1991',\n",
              " '1992',\n",
              " '1993',\n",
              " '1994',\n",
              " '1995',\n",
              " '1996',\n",
              " '1997',\n",
              " '1998',\n",
              " '1999',\n",
              " '2000',\n",
              " '2001',\n",
              " '2002',\n",
              " '2003',\n",
              " '2004',\n",
              " '2005',\n",
              " '2006',\n",
              " '2007',\n",
              " '2008',\n",
              " '2009',\n",
              " '2010',\n",
              " '2011',\n",
              " '2012',\n",
              " '2013',\n",
              " '2014',\n",
              " '2015',\n",
              " '2016',\n",
              " '2017',\n",
              " '2018',\n",
              " '2019',\n",
              " '2020']"
            ]
          },
          "metadata": {
            "tags": []
          },
          "execution_count": 341
        }
      ]
    },
    {
      "cell_type": "code",
      "metadata": {
        "id": "-5ZRCribW1Xb",
        "outputId": "c7cfc04f-b25f-402c-d305-c26d493cdad9",
        "colab": {
          "base_uri": "https://localhost:8080/",
          "height": 544
        }
      },
      "source": [
        "Years.remove('Country') \n",
        "Years"
      ],
      "execution_count": 342,
      "outputs": [
        {
          "output_type": "execute_result",
          "data": {
            "text/plain": [
              "['1990',\n",
              " '1991',\n",
              " '1992',\n",
              " '1993',\n",
              " '1994',\n",
              " '1995',\n",
              " '1996',\n",
              " '1997',\n",
              " '1998',\n",
              " '1999',\n",
              " '2000',\n",
              " '2001',\n",
              " '2002',\n",
              " '2003',\n",
              " '2004',\n",
              " '2005',\n",
              " '2006',\n",
              " '2007',\n",
              " '2008',\n",
              " '2009',\n",
              " '2010',\n",
              " '2011',\n",
              " '2012',\n",
              " '2013',\n",
              " '2014',\n",
              " '2015',\n",
              " '2016',\n",
              " '2017',\n",
              " '2018',\n",
              " '2019',\n",
              " '2020']"
            ]
          },
          "metadata": {
            "tags": []
          },
          "execution_count": 342
        }
      ]
    },
    {
      "cell_type": "code",
      "metadata": {
        "id": "aiHlsuwTW7xX",
        "outputId": "66a77c5d-b71c-46f1-f113-7ab0b96325b3",
        "colab": {
          "base_uri": "https://localhost:8080/",
          "height": 1000
        }
      },
      "source": [
        "long_df = df.melt(\n",
        "    id_vars=\"Country\",                          # Unique identifier\n",
        "    value_vars=Years_2,    # List of columns to be melted to a single variable\n",
        "    var_name=\"Years_2\",                          # The new column name for the variable\n",
        "    value_name=\"Imports Growth Rate\"                         # The new column name for the value\n",
        ")\n",
        "\n",
        "long_df"
      ],
      "execution_count": 343,
      "outputs": [
        {
          "output_type": "execute_result",
          "data": {
            "text/html": [
              "<div>\n",
              "<style scoped>\n",
              "    .dataframe tbody tr th:only-of-type {\n",
              "        vertical-align: middle;\n",
              "    }\n",
              "\n",
              "    .dataframe tbody tr th {\n",
              "        vertical-align: top;\n",
              "    }\n",
              "\n",
              "    .dataframe thead th {\n",
              "        text-align: right;\n",
              "    }\n",
              "</style>\n",
              "<table border=\"1\" class=\"dataframe\">\n",
              "  <thead>\n",
              "    <tr style=\"text-align: right;\">\n",
              "      <th></th>\n",
              "      <th>Country</th>\n",
              "      <th>Years_2</th>\n",
              "      <th>Imports Growth Rate</th>\n",
              "    </tr>\n",
              "  </thead>\n",
              "  <tbody>\n",
              "    <tr>\n",
              "      <th>0</th>\n",
              "      <td>Venezuela</td>\n",
              "      <td>1990</td>\n",
              "      <td>2.447</td>\n",
              "    </tr>\n",
              "    <tr>\n",
              "      <th>1</th>\n",
              "      <td>Venezuela</td>\n",
              "      <td>1991</td>\n",
              "      <td>25.240</td>\n",
              "    </tr>\n",
              "    <tr>\n",
              "      <th>2</th>\n",
              "      <td>Venezuela</td>\n",
              "      <td>1992</td>\n",
              "      <td>4.752</td>\n",
              "    </tr>\n",
              "    <tr>\n",
              "      <th>3</th>\n",
              "      <td>Venezuela</td>\n",
              "      <td>1993</td>\n",
              "      <td>-11.738</td>\n",
              "    </tr>\n",
              "    <tr>\n",
              "      <th>4</th>\n",
              "      <td>Venezuela</td>\n",
              "      <td>1994</td>\n",
              "      <td>-28.400</td>\n",
              "    </tr>\n",
              "    <tr>\n",
              "      <th>5</th>\n",
              "      <td>Venezuela</td>\n",
              "      <td>1995</td>\n",
              "      <td>31.011</td>\n",
              "    </tr>\n",
              "    <tr>\n",
              "      <th>6</th>\n",
              "      <td>Venezuela</td>\n",
              "      <td>1996</td>\n",
              "      <td>-15.485</td>\n",
              "    </tr>\n",
              "    <tr>\n",
              "      <th>7</th>\n",
              "      <td>Venezuela</td>\n",
              "      <td>1997</td>\n",
              "      <td>62.421</td>\n",
              "    </tr>\n",
              "    <tr>\n",
              "      <th>8</th>\n",
              "      <td>Venezuela</td>\n",
              "      <td>1998</td>\n",
              "      <td>14.298</td>\n",
              "    </tr>\n",
              "    <tr>\n",
              "      <th>9</th>\n",
              "      <td>Venezuela</td>\n",
              "      <td>1999</td>\n",
              "      <td>-11.449</td>\n",
              "    </tr>\n",
              "    <tr>\n",
              "      <th>10</th>\n",
              "      <td>Venezuela</td>\n",
              "      <td>2000</td>\n",
              "      <td>14.985</td>\n",
              "    </tr>\n",
              "    <tr>\n",
              "      <th>11</th>\n",
              "      <td>Venezuela</td>\n",
              "      <td>2001</td>\n",
              "      <td>15.789</td>\n",
              "    </tr>\n",
              "    <tr>\n",
              "      <th>12</th>\n",
              "      <td>Venezuela</td>\n",
              "      <td>2002</td>\n",
              "      <td>-28.215</td>\n",
              "    </tr>\n",
              "    <tr>\n",
              "      <th>13</th>\n",
              "      <td>Venezuela</td>\n",
              "      <td>2003</td>\n",
              "      <td>-23.457</td>\n",
              "    </tr>\n",
              "    <tr>\n",
              "      <th>14</th>\n",
              "      <td>Venezuela</td>\n",
              "      <td>2004</td>\n",
              "      <td>66.582</td>\n",
              "    </tr>\n",
              "    <tr>\n",
              "      <th>15</th>\n",
              "      <td>Venezuela</td>\n",
              "      <td>2005</td>\n",
              "      <td>38.777</td>\n",
              "    </tr>\n",
              "    <tr>\n",
              "      <th>16</th>\n",
              "      <td>Venezuela</td>\n",
              "      <td>2006</td>\n",
              "      <td>40.169</td>\n",
              "    </tr>\n",
              "    <tr>\n",
              "      <th>17</th>\n",
              "      <td>Venezuela</td>\n",
              "      <td>2007</td>\n",
              "      <td>31.575</td>\n",
              "    </tr>\n",
              "    <tr>\n",
              "      <th>18</th>\n",
              "      <td>Venezuela</td>\n",
              "      <td>2008</td>\n",
              "      <td>3.187</td>\n",
              "    </tr>\n",
              "    <tr>\n",
              "      <th>19</th>\n",
              "      <td>Venezuela</td>\n",
              "      <td>2009</td>\n",
              "      <td>-21.528</td>\n",
              "    </tr>\n",
              "    <tr>\n",
              "      <th>20</th>\n",
              "      <td>Venezuela</td>\n",
              "      <td>2010</td>\n",
              "      <td>-6.101</td>\n",
              "    </tr>\n",
              "    <tr>\n",
              "      <th>21</th>\n",
              "      <td>Venezuela</td>\n",
              "      <td>2011</td>\n",
              "      <td>13.803</td>\n",
              "    </tr>\n",
              "    <tr>\n",
              "      <th>22</th>\n",
              "      <td>Venezuela</td>\n",
              "      <td>2012</td>\n",
              "      <td>24.948</td>\n",
              "    </tr>\n",
              "    <tr>\n",
              "      <th>23</th>\n",
              "      <td>Venezuela</td>\n",
              "      <td>2013</td>\n",
              "      <td>-9.687</td>\n",
              "    </tr>\n",
              "    <tr>\n",
              "      <th>24</th>\n",
              "      <td>Venezuela</td>\n",
              "      <td>2014</td>\n",
              "      <td>-18.532</td>\n",
              "    </tr>\n",
              "    <tr>\n",
              "      <th>25</th>\n",
              "      <td>Venezuela</td>\n",
              "      <td>2015</td>\n",
              "      <td>-23.102</td>\n",
              "    </tr>\n",
              "    <tr>\n",
              "      <th>26</th>\n",
              "      <td>Venezuela</td>\n",
              "      <td>2016</td>\n",
              "      <td>-50.061</td>\n",
              "    </tr>\n",
              "    <tr>\n",
              "      <th>27</th>\n",
              "      <td>Venezuela</td>\n",
              "      <td>2017</td>\n",
              "      <td>-34.651</td>\n",
              "    </tr>\n",
              "    <tr>\n",
              "      <th>28</th>\n",
              "      <td>Venezuela</td>\n",
              "      <td>2018</td>\n",
              "      <td>-10.074</td>\n",
              "    </tr>\n",
              "    <tr>\n",
              "      <th>29</th>\n",
              "      <td>Venezuela</td>\n",
              "      <td>2019</td>\n",
              "      <td>-33.140</td>\n",
              "    </tr>\n",
              "    <tr>\n",
              "      <th>30</th>\n",
              "      <td>Venezuela</td>\n",
              "      <td>2020</td>\n",
              "      <td>-14.796</td>\n",
              "    </tr>\n",
              "  </tbody>\n",
              "</table>\n",
              "</div>"
            ],
            "text/plain": [
              "      Country Years_2  Imports Growth Rate\n",
              "0   Venezuela    1990                2.447\n",
              "1   Venezuela    1991               25.240\n",
              "2   Venezuela    1992                4.752\n",
              "3   Venezuela    1993              -11.738\n",
              "4   Venezuela    1994              -28.400\n",
              "5   Venezuela    1995               31.011\n",
              "6   Venezuela    1996              -15.485\n",
              "7   Venezuela    1997               62.421\n",
              "8   Venezuela    1998               14.298\n",
              "9   Venezuela    1999              -11.449\n",
              "10  Venezuela    2000               14.985\n",
              "11  Venezuela    2001               15.789\n",
              "12  Venezuela    2002              -28.215\n",
              "13  Venezuela    2003              -23.457\n",
              "14  Venezuela    2004               66.582\n",
              "15  Venezuela    2005               38.777\n",
              "16  Venezuela    2006               40.169\n",
              "17  Venezuela    2007               31.575\n",
              "18  Venezuela    2008                3.187\n",
              "19  Venezuela    2009              -21.528\n",
              "20  Venezuela    2010               -6.101\n",
              "21  Venezuela    2011               13.803\n",
              "22  Venezuela    2012               24.948\n",
              "23  Venezuela    2013               -9.687\n",
              "24  Venezuela    2014              -18.532\n",
              "25  Venezuela    2015              -23.102\n",
              "26  Venezuela    2016              -50.061\n",
              "27  Venezuela    2017              -34.651\n",
              "28  Venezuela    2018              -10.074\n",
              "29  Venezuela    2019              -33.140\n",
              "30  Venezuela    2020              -14.796"
            ]
          },
          "metadata": {
            "tags": []
          },
          "execution_count": 343
        }
      ]
    },
    {
      "cell_type": "code",
      "metadata": {
        "id": "wIzigLoaXEC5",
        "outputId": "d76fb93f-78a4-415a-f608-7054cbf5b9db",
        "colab": {
          "base_uri": "https://localhost:8080/",
          "height": 943
        }
      },
      "source": [
        "import numpy as np\n",
        "fig, ax = plt.subplots(figsize=(20,15))\n",
        "ax.set_ylabel(\"Venzuela Imports of Goods-Percent Change\",fontname=\"Arial\", fontsize=25)\n",
        "ax.set_xlabel(\"Years\",fontname=\"Arial\", fontsize=20)\n",
        "ax.set_title(\"Venzuela Imports of Goods-Percent Change\",fontname=\"Arial\", fontsize=25)\n",
        "long_df.plot(kind=\"line\",x=\"Years_2\",y=\"Imports Growth Rate\", legend= \"GDP Percentage Growth\", color=\"b\", rot=45, ax = ax)\n",
        "plt.axhline(y=0, color='r') \n",
        "\n"
      ],
      "execution_count": 346,
      "outputs": [
        {
          "output_type": "execute_result",
          "data": {
            "text/plain": [
              "<matplotlib.lines.Line2D at 0x7f4cffd64470>"
            ]
          },
          "metadata": {
            "tags": []
          },
          "execution_count": 346
        },
        {
          "output_type": "display_data",
          "data": {
            "image/png": "[encoded data removed]",
            "text/plain": [
              "<Figure size 1440x1080 with 1 Axes>"
            ]
          },
          "metadata": {
            "tags": [],
            "needs_background": "light"
          }
        }
      ]
    },
    {
      "cell_type": "code",
      "metadata": {
        "id": "9yrWynLJKqBp",
        "outputId": "88fc8727-5011-4b97-946e-c83e84160c8d",
        "colab": {
          "base_uri": "https://localhost:8080/",
          "height": 419
        }
      },
      "source": [
        "df = pd.read_csv(\"/content/DP_LIVE_25102020061630321.csv\") # Upload file from college scoreboard raw data folder, this code reads the file but not every line for spacing. \n",
        "df  "
      ],
      "execution_count": 259,
      "outputs": [
        {
          "output_type": "execute_result",
          "data": {
            "text/html": [
              "<div>\n",
              "<style scoped>\n",
              "    .dataframe tbody tr th:only-of-type {\n",
              "        vertical-align: middle;\n",
              "    }\n",
              "\n",
              "    .dataframe tbody tr th {\n",
              "        vertical-align: top;\n",
              "    }\n",
              "\n",
              "    .dataframe thead th {\n",
              "        text-align: right;\n",
              "    }\n",
              "</style>\n",
              "<table border=\"1\" class=\"dataframe\">\n",
              "  <thead>\n",
              "    <tr style=\"text-align: right;\">\n",
              "      <th></th>\n",
              "      <th>LOCATION</th>\n",
              "      <th>INDICATOR</th>\n",
              "      <th>SUBJECT</th>\n",
              "      <th>MEASURE</th>\n",
              "      <th>FREQUENCY</th>\n",
              "      <th>TIME</th>\n",
              "      <th>Value</th>\n",
              "      <th>Flag Codes</th>\n",
              "    </tr>\n",
              "  </thead>\n",
              "  <tbody>\n",
              "    <tr>\n",
              "      <th>0</th>\n",
              "      <td>AUT</td>\n",
              "      <td>EDUEXP</td>\n",
              "      <td>TRY</td>\n",
              "      <td>USD_STUDENT</td>\n",
              "      <td>A</td>\n",
              "      <td>2015</td>\n",
              "      <td>17555.235</td>\n",
              "      <td>NaN</td>\n",
              "    </tr>\n",
              "    <tr>\n",
              "      <th>1</th>\n",
              "      <td>AUT</td>\n",
              "      <td>EDUEXP</td>\n",
              "      <td>TRY</td>\n",
              "      <td>USD_STUDENT</td>\n",
              "      <td>A</td>\n",
              "      <td>2016</td>\n",
              "      <td>NaN</td>\n",
              "      <td>M</td>\n",
              "    </tr>\n",
              "    <tr>\n",
              "      <th>2</th>\n",
              "      <td>CZE</td>\n",
              "      <td>EDUEXP</td>\n",
              "      <td>TRY</td>\n",
              "      <td>USD_STUDENT</td>\n",
              "      <td>A</td>\n",
              "      <td>2015</td>\n",
              "      <td>10890.714</td>\n",
              "      <td>NaN</td>\n",
              "    </tr>\n",
              "    <tr>\n",
              "      <th>3</th>\n",
              "      <td>CZE</td>\n",
              "      <td>EDUEXP</td>\n",
              "      <td>TRY</td>\n",
              "      <td>USD_STUDENT</td>\n",
              "      <td>A</td>\n",
              "      <td>2016</td>\n",
              "      <td>NaN</td>\n",
              "      <td>M</td>\n",
              "    </tr>\n",
              "    <tr>\n",
              "      <th>4</th>\n",
              "      <td>FRA</td>\n",
              "      <td>EDUEXP</td>\n",
              "      <td>TRY</td>\n",
              "      <td>USD_STUDENT</td>\n",
              "      <td>A</td>\n",
              "      <td>2015</td>\n",
              "      <td>16144.755</td>\n",
              "      <td>NaN</td>\n",
              "    </tr>\n",
              "    <tr>\n",
              "      <th>...</th>\n",
              "      <td>...</td>\n",
              "      <td>...</td>\n",
              "      <td>...</td>\n",
              "      <td>...</td>\n",
              "      <td>...</td>\n",
              "      <td>...</td>\n",
              "      <td>...</td>\n",
              "      <td>...</td>\n",
              "    </tr>\n",
              "    <tr>\n",
              "      <th>179</th>\n",
              "      <td>SAU</td>\n",
              "      <td>EDUEXP</td>\n",
              "      <td>EARLYCHILDEDU</td>\n",
              "      <td>USD_STUDENT</td>\n",
              "      <td>A</td>\n",
              "      <td>2016</td>\n",
              "      <td>NaN</td>\n",
              "      <td>M</td>\n",
              "    </tr>\n",
              "    <tr>\n",
              "      <th>180</th>\n",
              "      <td>SVN</td>\n",
              "      <td>EDUEXP</td>\n",
              "      <td>EARLYCHILDEDU</td>\n",
              "      <td>USD_STUDENT</td>\n",
              "      <td>A</td>\n",
              "      <td>2015</td>\n",
              "      <td>8610.292</td>\n",
              "      <td>NaN</td>\n",
              "    </tr>\n",
              "    <tr>\n",
              "      <th>181</th>\n",
              "      <td>SVN</td>\n",
              "      <td>EDUEXP</td>\n",
              "      <td>EARLYCHILDEDU</td>\n",
              "      <td>USD_STUDENT</td>\n",
              "      <td>A</td>\n",
              "      <td>2016</td>\n",
              "      <td>NaN</td>\n",
              "      <td>M</td>\n",
              "    </tr>\n",
              "    <tr>\n",
              "      <th>182</th>\n",
              "      <td>ZAF</td>\n",
              "      <td>EDUEXP</td>\n",
              "      <td>EARLYCHILDEDU</td>\n",
              "      <td>USD_STUDENT</td>\n",
              "      <td>A</td>\n",
              "      <td>2015</td>\n",
              "      <td>NaN</td>\n",
              "      <td>M</td>\n",
              "    </tr>\n",
              "    <tr>\n",
              "      <th>183</th>\n",
              "      <td>ZAF</td>\n",
              "      <td>EDUEXP</td>\n",
              "      <td>EARLYCHILDEDU</td>\n",
              "      <td>USD_STUDENT</td>\n",
              "      <td>A</td>\n",
              "      <td>2016</td>\n",
              "      <td>NaN</td>\n",
              "      <td>M</td>\n",
              "    </tr>\n",
              "  </tbody>\n",
              "</table>\n",
              "<p>184 rows × 8 columns</p>\n",
              "</div>"
            ],
            "text/plain": [
              "    LOCATION INDICATOR        SUBJECT  ...  TIME      Value  Flag Codes\n",
              "0        AUT    EDUEXP            TRY  ...  2015  17555.235         NaN\n",
              "1        AUT    EDUEXP            TRY  ...  2016        NaN           M\n",
              "2        CZE    EDUEXP            TRY  ...  2015  10890.714         NaN\n",
              "3        CZE    EDUEXP            TRY  ...  2016        NaN           M\n",
              "4        FRA    EDUEXP            TRY  ...  2015  16144.755         NaN\n",
              "..       ...       ...            ...  ...   ...        ...         ...\n",
              "179      SAU    EDUEXP  EARLYCHILDEDU  ...  2016        NaN           M\n",
              "180      SVN    EDUEXP  EARLYCHILDEDU  ...  2015   8610.292         NaN\n",
              "181      SVN    EDUEXP  EARLYCHILDEDU  ...  2016        NaN           M\n",
              "182      ZAF    EDUEXP  EARLYCHILDEDU  ...  2015        NaN           M\n",
              "183      ZAF    EDUEXP  EARLYCHILDEDU  ...  2016        NaN           M\n",
              "\n",
              "[184 rows x 8 columns]"
            ]
          },
          "metadata": {
            "tags": []
          },
          "execution_count": 259
        }
      ]
    },
    {
      "cell_type": "code",
      "metadata": {
        "id": "3CvIEEhaMRit",
        "outputId": "e3156c6d-cf1f-4574-f89a-d937a9f09317",
        "colab": {
          "base_uri": "https://localhost:8080/",
          "height": 419
        }
      },
      "source": [
        "df.drop(columns=['INDICATOR',\"SUBJECT\",\"MEASURE\", 'FREQUENCY','TIME',\"Flag Codes\"])\n",
        "df=df.drop(columns=['INDICATOR',\"SUBJECT\",\"MEASURE\", 'FREQUENCY','TIME',\"Flag Codes\"])\n",
        "df"
      ],
      "execution_count": 260,
      "outputs": [
        {
          "output_type": "execute_result",
          "data": {
            "text/html": [
              "<div>\n",
              "<style scoped>\n",
              "    .dataframe tbody tr th:only-of-type {\n",
              "        vertical-align: middle;\n",
              "    }\n",
              "\n",
              "    .dataframe tbody tr th {\n",
              "        vertical-align: top;\n",
              "    }\n",
              "\n",
              "    .dataframe thead th {\n",
              "        text-align: right;\n",
              "    }\n",
              "</style>\n",
              "<table border=\"1\" class=\"dataframe\">\n",
              "  <thead>\n",
              "    <tr style=\"text-align: right;\">\n",
              "      <th></th>\n",
              "      <th>LOCATION</th>\n",
              "      <th>Value</th>\n",
              "    </tr>\n",
              "  </thead>\n",
              "  <tbody>\n",
              "    <tr>\n",
              "      <th>0</th>\n",
              "      <td>AUT</td>\n",
              "      <td>17555.235</td>\n",
              "    </tr>\n",
              "    <tr>\n",
              "      <th>1</th>\n",
              "      <td>AUT</td>\n",
              "      <td>NaN</td>\n",
              "    </tr>\n",
              "    <tr>\n",
              "      <th>2</th>\n",
              "      <td>CZE</td>\n",
              "      <td>10890.714</td>\n",
              "    </tr>\n",
              "    <tr>\n",
              "      <th>3</th>\n",
              "      <td>CZE</td>\n",
              "      <td>NaN</td>\n",
              "    </tr>\n",
              "    <tr>\n",
              "      <th>4</th>\n",
              "      <td>FRA</td>\n",
              "      <td>16144.755</td>\n",
              "    </tr>\n",
              "    <tr>\n",
              "      <th>...</th>\n",
              "      <td>...</td>\n",
              "      <td>...</td>\n",
              "    </tr>\n",
              "    <tr>\n",
              "      <th>179</th>\n",
              "      <td>SAU</td>\n",
              "      <td>NaN</td>\n",
              "    </tr>\n",
              "    <tr>\n",
              "      <th>180</th>\n",
              "      <td>SVN</td>\n",
              "      <td>8610.292</td>\n",
              "    </tr>\n",
              "    <tr>\n",
              "      <th>181</th>\n",
              "      <td>SVN</td>\n",
              "      <td>NaN</td>\n",
              "    </tr>\n",
              "    <tr>\n",
              "      <th>182</th>\n",
              "      <td>ZAF</td>\n",
              "      <td>NaN</td>\n",
              "    </tr>\n",
              "    <tr>\n",
              "      <th>183</th>\n",
              "      <td>ZAF</td>\n",
              "      <td>NaN</td>\n",
              "    </tr>\n",
              "  </tbody>\n",
              "</table>\n",
              "<p>184 rows × 2 columns</p>\n",
              "</div>"
            ],
            "text/plain": [
              "    LOCATION      Value\n",
              "0        AUT  17555.235\n",
              "1        AUT        NaN\n",
              "2        CZE  10890.714\n",
              "3        CZE        NaN\n",
              "4        FRA  16144.755\n",
              "..       ...        ...\n",
              "179      SAU        NaN\n",
              "180      SVN   8610.292\n",
              "181      SVN        NaN\n",
              "182      ZAF        NaN\n",
              "183      ZAF        NaN\n",
              "\n",
              "[184 rows x 2 columns]"
            ]
          },
          "metadata": {
            "tags": []
          },
          "execution_count": 260
        }
      ]
    },
    {
      "cell_type": "code",
      "metadata": {
        "id": "BqX6hdheMYwc",
        "outputId": "5ddc4b95-2357-436e-9218-fbbbf6a263c8",
        "colab": {
          "base_uri": "https://localhost:8080/",
          "height": 419
        }
      },
      "source": [
        "# sort - ascending order\n",
        "import pandas as pd\n",
        " \n",
        "\n",
        "df.sort_values(by=['Value'], inplace=True)\n",
        "df"
      ],
      "execution_count": 261,
      "outputs": [
        {
          "output_type": "execute_result",
          "data": {
            "text/html": [
              "<div>\n",
              "<style scoped>\n",
              "    .dataframe tbody tr th:only-of-type {\n",
              "        vertical-align: middle;\n",
              "    }\n",
              "\n",
              "    .dataframe tbody tr th {\n",
              "        vertical-align: top;\n",
              "    }\n",
              "\n",
              "    .dataframe thead th {\n",
              "        text-align: right;\n",
              "    }\n",
              "</style>\n",
              "<table border=\"1\" class=\"dataframe\">\n",
              "  <thead>\n",
              "    <tr style=\"text-align: right;\">\n",
              "      <th></th>\n",
              "      <th>LOCATION</th>\n",
              "      <th>Value</th>\n",
              "    </tr>\n",
              "  </thead>\n",
              "  <tbody>\n",
              "    <tr>\n",
              "      <th>168</th>\n",
              "      <td>IDN</td>\n",
              "      <td>169.575</td>\n",
              "    </tr>\n",
              "    <tr>\n",
              "      <th>126</th>\n",
              "      <td>MEX</td>\n",
              "      <td>2684.695</td>\n",
              "    </tr>\n",
              "    <tr>\n",
              "      <th>146</th>\n",
              "      <td>TUR</td>\n",
              "      <td>3591.292</td>\n",
              "    </tr>\n",
              "    <tr>\n",
              "      <th>62</th>\n",
              "      <td>IDN</td>\n",
              "      <td>3764.700</td>\n",
              "    </tr>\n",
              "    <tr>\n",
              "      <th>68</th>\n",
              "      <td>GRC</td>\n",
              "      <td>4094.526</td>\n",
              "    </tr>\n",
              "    <tr>\n",
              "      <th>...</th>\n",
              "      <td>...</td>\n",
              "      <td>...</td>\n",
              "    </tr>\n",
              "    <tr>\n",
              "      <th>178</th>\n",
              "      <td>SAU</td>\n",
              "      <td>NaN</td>\n",
              "    </tr>\n",
              "    <tr>\n",
              "      <th>179</th>\n",
              "      <td>SAU</td>\n",
              "      <td>NaN</td>\n",
              "    </tr>\n",
              "    <tr>\n",
              "      <th>181</th>\n",
              "      <td>SVN</td>\n",
              "      <td>NaN</td>\n",
              "    </tr>\n",
              "    <tr>\n",
              "      <th>182</th>\n",
              "      <td>ZAF</td>\n",
              "      <td>NaN</td>\n",
              "    </tr>\n",
              "    <tr>\n",
              "      <th>183</th>\n",
              "      <td>ZAF</td>\n",
              "      <td>NaN</td>\n",
              "    </tr>\n",
              "  </tbody>\n",
              "</table>\n",
              "<p>184 rows × 2 columns</p>\n",
              "</div>"
            ],
            "text/plain": [
              "    LOCATION     Value\n",
              "168      IDN   169.575\n",
              "126      MEX  2684.695\n",
              "146      TUR  3591.292\n",
              "62       IDN  3764.700\n",
              "68       GRC  4094.526\n",
              "..       ...       ...\n",
              "178      SAU       NaN\n",
              "179      SAU       NaN\n",
              "181      SVN       NaN\n",
              "182      ZAF       NaN\n",
              "183      ZAF       NaN\n",
              "\n",
              "[184 rows x 2 columns]"
            ]
          },
          "metadata": {
            "tags": []
          },
          "execution_count": 261
        }
      ]
    },
    {
      "cell_type": "code",
      "metadata": {
        "id": "IkyMmw_jMhZ2",
        "outputId": "a5dff312-4533-4769-9c75-ac2b6f2d9432",
        "colab": {
          "base_uri": "https://localhost:8080/",
          "height": 1000
        }
      },
      "source": [
        "df.drop_duplicates(subset=['LOCATION'])\n",
        "df=df.drop_duplicates(subset=['LOCATION'])\n",
        "df"
      ],
      "execution_count": 262,
      "outputs": [
        {
          "output_type": "execute_result",
          "data": {
            "text/html": [
              "<div>\n",
              "<style scoped>\n",
              "    .dataframe tbody tr th:only-of-type {\n",
              "        vertical-align: middle;\n",
              "    }\n",
              "\n",
              "    .dataframe tbody tr th {\n",
              "        vertical-align: top;\n",
              "    }\n",
              "\n",
              "    .dataframe thead th {\n",
              "        text-align: right;\n",
              "    }\n",
              "</style>\n",
              "<table border=\"1\" class=\"dataframe\">\n",
              "  <thead>\n",
              "    <tr style=\"text-align: right;\">\n",
              "      <th></th>\n",
              "      <th>LOCATION</th>\n",
              "      <th>Value</th>\n",
              "    </tr>\n",
              "  </thead>\n",
              "  <tbody>\n",
              "    <tr>\n",
              "      <th>168</th>\n",
              "      <td>IDN</td>\n",
              "      <td>169.575</td>\n",
              "    </tr>\n",
              "    <tr>\n",
              "      <th>126</th>\n",
              "      <td>MEX</td>\n",
              "      <td>2684.695</td>\n",
              "    </tr>\n",
              "    <tr>\n",
              "      <th>146</th>\n",
              "      <td>TUR</td>\n",
              "      <td>3591.292</td>\n",
              "    </tr>\n",
              "    <tr>\n",
              "      <th>68</th>\n",
              "      <td>GRC</td>\n",
              "      <td>4094.526</td>\n",
              "    </tr>\n",
              "    <tr>\n",
              "      <th>170</th>\n",
              "      <td>ISR</td>\n",
              "      <td>4185.221</td>\n",
              "    </tr>\n",
              "    <tr>\n",
              "      <th>100</th>\n",
              "      <td>CZE</td>\n",
              "      <td>4953.118</td>\n",
              "    </tr>\n",
              "    <tr>\n",
              "      <th>84</th>\n",
              "      <td>COL</td>\n",
              "      <td>5040.455</td>\n",
              "    </tr>\n",
              "    <tr>\n",
              "      <th>176</th>\n",
              "      <td>RUS</td>\n",
              "      <td>5061.743</td>\n",
              "    </tr>\n",
              "    <tr>\n",
              "      <th>172</th>\n",
              "      <td>LVA</td>\n",
              "      <td>5313.316</td>\n",
              "    </tr>\n",
              "    <tr>\n",
              "      <th>174</th>\n",
              "      <td>LTU</td>\n",
              "      <td>5479.133</td>\n",
              "    </tr>\n",
              "    <tr>\n",
              "      <th>138</th>\n",
              "      <td>SVK</td>\n",
              "      <td>5811.212</td>\n",
              "    </tr>\n",
              "    <tr>\n",
              "      <th>156</th>\n",
              "      <td>CHL</td>\n",
              "      <td>5909.571</td>\n",
              "    </tr>\n",
              "    <tr>\n",
              "      <th>116</th>\n",
              "      <td>IRL</td>\n",
              "      <td>6105.903</td>\n",
              "    </tr>\n",
              "    <tr>\n",
              "      <th>134</th>\n",
              "      <td>POL</td>\n",
              "      <td>6221.502</td>\n",
              "    </tr>\n",
              "    <tr>\n",
              "      <th>118</th>\n",
              "      <td>ITA</td>\n",
              "      <td>6249.264</td>\n",
              "    </tr>\n",
              "    <tr>\n",
              "      <th>164</th>\n",
              "      <td>EST</td>\n",
              "      <td>6513.922</td>\n",
              "    </tr>\n",
              "    <tr>\n",
              "      <th>112</th>\n",
              "      <td>HUN</td>\n",
              "      <td>6835.456</td>\n",
              "    </tr>\n",
              "    <tr>\n",
              "      <th>140</th>\n",
              "      <td>ESP</td>\n",
              "      <td>6976.944</td>\n",
              "    </tr>\n",
              "    <tr>\n",
              "      <th>136</th>\n",
              "      <td>PRT</td>\n",
              "      <td>7098.987</td>\n",
              "    </tr>\n",
              "    <tr>\n",
              "      <th>92</th>\n",
              "      <td>AUS</td>\n",
              "      <td>7111.802</td>\n",
              "    </tr>\n",
              "    <tr>\n",
              "      <th>120</th>\n",
              "      <td>JPN</td>\n",
              "      <td>7499.035</td>\n",
              "    </tr>\n",
              "    <tr>\n",
              "      <th>106</th>\n",
              "      <td>FRA</td>\n",
              "      <td>7812.928</td>\n",
              "    </tr>\n",
              "    <tr>\n",
              "      <th>128</th>\n",
              "      <td>NLD</td>\n",
              "      <td>8351.843</td>\n",
              "    </tr>\n",
              "    <tr>\n",
              "      <th>180</th>\n",
              "      <td>SVN</td>\n",
              "      <td>8610.292</td>\n",
              "    </tr>\n",
              "    <tr>\n",
              "      <th>148</th>\n",
              "      <td>GBR</td>\n",
              "      <td>9048.388</td>\n",
              "    </tr>\n",
              "    <tr>\n",
              "      <th>94</th>\n",
              "      <td>AUT</td>\n",
              "      <td>9824.383</td>\n",
              "    </tr>\n",
              "    <tr>\n",
              "      <th>72</th>\n",
              "      <td>KOR</td>\n",
              "      <td>10108.948</td>\n",
              "    </tr>\n",
              "    <tr>\n",
              "      <th>108</th>\n",
              "      <td>DEU</td>\n",
              "      <td>11121.506</td>\n",
              "    </tr>\n",
              "    <tr>\n",
              "      <th>104</th>\n",
              "      <td>FIN</td>\n",
              "      <td>12332.219</td>\n",
              "    </tr>\n",
              "    <tr>\n",
              "      <th>40</th>\n",
              "      <td>ISL</td>\n",
              "      <td>12670.652</td>\n",
              "    </tr>\n",
              "    <tr>\n",
              "      <th>130</th>\n",
              "      <td>NZL</td>\n",
              "      <td>13465.562</td>\n",
              "    </tr>\n",
              "    <tr>\n",
              "      <th>142</th>\n",
              "      <td>SWE</td>\n",
              "      <td>14917.142</td>\n",
              "    </tr>\n",
              "    <tr>\n",
              "      <th>132</th>\n",
              "      <td>NOR</td>\n",
              "      <td>17224.679</td>\n",
              "    </tr>\n",
              "    <tr>\n",
              "      <th>44</th>\n",
              "      <td>BEL</td>\n",
              "      <td>17320.185</td>\n",
              "    </tr>\n",
              "    <tr>\n",
              "      <th>124</th>\n",
              "      <td>LUX</td>\n",
              "      <td>20495.445</td>\n",
              "    </tr>\n",
              "    <tr>\n",
              "      <th>20</th>\n",
              "      <td>USA</td>\n",
              "      <td>30003.244</td>\n",
              "    </tr>\n",
              "    <tr>\n",
              "      <th>10</th>\n",
              "      <td>SAU</td>\n",
              "      <td>NaN</td>\n",
              "    </tr>\n",
              "    <tr>\n",
              "      <th>14</th>\n",
              "      <td>CAN</td>\n",
              "      <td>NaN</td>\n",
              "    </tr>\n",
              "    <tr>\n",
              "      <th>18</th>\n",
              "      <td>CHE</td>\n",
              "      <td>NaN</td>\n",
              "    </tr>\n",
              "    <tr>\n",
              "      <th>22</th>\n",
              "      <td>ARG</td>\n",
              "      <td>NaN</td>\n",
              "    </tr>\n",
              "    <tr>\n",
              "      <th>30</th>\n",
              "      <td>BRA</td>\n",
              "      <td>NaN</td>\n",
              "    </tr>\n",
              "    <tr>\n",
              "      <th>36</th>\n",
              "      <td>DNK</td>\n",
              "      <td>NaN</td>\n",
              "    </tr>\n",
              "    <tr>\n",
              "      <th>52</th>\n",
              "      <td>CHN</td>\n",
              "      <td>NaN</td>\n",
              "    </tr>\n",
              "    <tr>\n",
              "      <th>66</th>\n",
              "      <td>ZAF</td>\n",
              "      <td>NaN</td>\n",
              "    </tr>\n",
              "    <tr>\n",
              "      <th>76</th>\n",
              "      <td>IND</td>\n",
              "      <td>NaN</td>\n",
              "    </tr>\n",
              "    <tr>\n",
              "      <th>88</th>\n",
              "      <td>CRI</td>\n",
              "      <td>NaN</td>\n",
              "    </tr>\n",
              "  </tbody>\n",
              "</table>\n",
              "</div>"
            ],
            "text/plain": [
              "    LOCATION      Value\n",
              "168      IDN    169.575\n",
              "126      MEX   2684.695\n",
              "146      TUR   3591.292\n",
              "68       GRC   4094.526\n",
              "170      ISR   4185.221\n",
              "100      CZE   4953.118\n",
              "84       COL   5040.455\n",
              "176      RUS   5061.743\n",
              "172      LVA   5313.316\n",
              "174      LTU   5479.133\n",
              "138      SVK   5811.212\n",
              "156      CHL   5909.571\n",
              "116      IRL   6105.903\n",
              "134      POL   6221.502\n",
              "118      ITA   6249.264\n",
              "164      EST   6513.922\n",
              "112      HUN   6835.456\n",
              "140      ESP   6976.944\n",
              "136      PRT   7098.987\n",
              "92       AUS   7111.802\n",
              "120      JPN   7499.035\n",
              "106      FRA   7812.928\n",
              "128      NLD   8351.843\n",
              "180      SVN   8610.292\n",
              "148      GBR   9048.388\n",
              "94       AUT   9824.383\n",
              "72       KOR  10108.948\n",
              "108      DEU  11121.506\n",
              "104      FIN  12332.219\n",
              "40       ISL  12670.652\n",
              "130      NZL  13465.562\n",
              "142      SWE  14917.142\n",
              "132      NOR  17224.679\n",
              "44       BEL  17320.185\n",
              "124      LUX  20495.445\n",
              "20       USA  30003.244\n",
              "10       SAU        NaN\n",
              "14       CAN        NaN\n",
              "18       CHE        NaN\n",
              "22       ARG        NaN\n",
              "30       BRA        NaN\n",
              "36       DNK        NaN\n",
              "52       CHN        NaN\n",
              "66       ZAF        NaN\n",
              "76       IND        NaN\n",
              "88       CRI        NaN"
            ]
          },
          "metadata": {
            "tags": []
          },
          "execution_count": 262
        }
      ]
    },
    {
      "cell_type": "code",
      "metadata": {
        "id": "ym5MPPbdM2lk",
        "outputId": "ef4098cb-5f73-49dc-e958-2e513ba05d7f",
        "colab": {
          "base_uri": "https://localhost:8080/",
          "height": 1000
        }
      },
      "source": [
        "df.dropna(axis='rows')\n",
        "df=df.dropna(axis='rows')\n",
        "df"
      ],
      "execution_count": 263,
      "outputs": [
        {
          "output_type": "execute_result",
          "data": {
            "text/html": [
              "<div>\n",
              "<style scoped>\n",
              "    .dataframe tbody tr th:only-of-type {\n",
              "        vertical-align: middle;\n",
              "    }\n",
              "\n",
              "    .dataframe tbody tr th {\n",
              "        vertical-align: top;\n",
              "    }\n",
              "\n",
              "    .dataframe thead th {\n",
              "        text-align: right;\n",
              "    }\n",
              "</style>\n",
              "<table border=\"1\" class=\"dataframe\">\n",
              "  <thead>\n",
              "    <tr style=\"text-align: right;\">\n",
              "      <th></th>\n",
              "      <th>LOCATION</th>\n",
              "      <th>Value</th>\n",
              "    </tr>\n",
              "  </thead>\n",
              "  <tbody>\n",
              "    <tr>\n",
              "      <th>168</th>\n",
              "      <td>IDN</td>\n",
              "      <td>169.575</td>\n",
              "    </tr>\n",
              "    <tr>\n",
              "      <th>126</th>\n",
              "      <td>MEX</td>\n",
              "      <td>2684.695</td>\n",
              "    </tr>\n",
              "    <tr>\n",
              "      <th>146</th>\n",
              "      <td>TUR</td>\n",
              "      <td>3591.292</td>\n",
              "    </tr>\n",
              "    <tr>\n",
              "      <th>68</th>\n",
              "      <td>GRC</td>\n",
              "      <td>4094.526</td>\n",
              "    </tr>\n",
              "    <tr>\n",
              "      <th>170</th>\n",
              "      <td>ISR</td>\n",
              "      <td>4185.221</td>\n",
              "    </tr>\n",
              "    <tr>\n",
              "      <th>100</th>\n",
              "      <td>CZE</td>\n",
              "      <td>4953.118</td>\n",
              "    </tr>\n",
              "    <tr>\n",
              "      <th>84</th>\n",
              "      <td>COL</td>\n",
              "      <td>5040.455</td>\n",
              "    </tr>\n",
              "    <tr>\n",
              "      <th>176</th>\n",
              "      <td>RUS</td>\n",
              "      <td>5061.743</td>\n",
              "    </tr>\n",
              "    <tr>\n",
              "      <th>172</th>\n",
              "      <td>LVA</td>\n",
              "      <td>5313.316</td>\n",
              "    </tr>\n",
              "    <tr>\n",
              "      <th>174</th>\n",
              "      <td>LTU</td>\n",
              "      <td>5479.133</td>\n",
              "    </tr>\n",
              "    <tr>\n",
              "      <th>138</th>\n",
              "      <td>SVK</td>\n",
              "      <td>5811.212</td>\n",
              "    </tr>\n",
              "    <tr>\n",
              "      <th>156</th>\n",
              "      <td>CHL</td>\n",
              "      <td>5909.571</td>\n",
              "    </tr>\n",
              "    <tr>\n",
              "      <th>116</th>\n",
              "      <td>IRL</td>\n",
              "      <td>6105.903</td>\n",
              "    </tr>\n",
              "    <tr>\n",
              "      <th>134</th>\n",
              "      <td>POL</td>\n",
              "      <td>6221.502</td>\n",
              "    </tr>\n",
              "    <tr>\n",
              "      <th>118</th>\n",
              "      <td>ITA</td>\n",
              "      <td>6249.264</td>\n",
              "    </tr>\n",
              "    <tr>\n",
              "      <th>164</th>\n",
              "      <td>EST</td>\n",
              "      <td>6513.922</td>\n",
              "    </tr>\n",
              "    <tr>\n",
              "      <th>112</th>\n",
              "      <td>HUN</td>\n",
              "      <td>6835.456</td>\n",
              "    </tr>\n",
              "    <tr>\n",
              "      <th>140</th>\n",
              "      <td>ESP</td>\n",
              "      <td>6976.944</td>\n",
              "    </tr>\n",
              "    <tr>\n",
              "      <th>136</th>\n",
              "      <td>PRT</td>\n",
              "      <td>7098.987</td>\n",
              "    </tr>\n",
              "    <tr>\n",
              "      <th>92</th>\n",
              "      <td>AUS</td>\n",
              "      <td>7111.802</td>\n",
              "    </tr>\n",
              "    <tr>\n",
              "      <th>120</th>\n",
              "      <td>JPN</td>\n",
              "      <td>7499.035</td>\n",
              "    </tr>\n",
              "    <tr>\n",
              "      <th>106</th>\n",
              "      <td>FRA</td>\n",
              "      <td>7812.928</td>\n",
              "    </tr>\n",
              "    <tr>\n",
              "      <th>128</th>\n",
              "      <td>NLD</td>\n",
              "      <td>8351.843</td>\n",
              "    </tr>\n",
              "    <tr>\n",
              "      <th>180</th>\n",
              "      <td>SVN</td>\n",
              "      <td>8610.292</td>\n",
              "    </tr>\n",
              "    <tr>\n",
              "      <th>148</th>\n",
              "      <td>GBR</td>\n",
              "      <td>9048.388</td>\n",
              "    </tr>\n",
              "    <tr>\n",
              "      <th>94</th>\n",
              "      <td>AUT</td>\n",
              "      <td>9824.383</td>\n",
              "    </tr>\n",
              "    <tr>\n",
              "      <th>72</th>\n",
              "      <td>KOR</td>\n",
              "      <td>10108.948</td>\n",
              "    </tr>\n",
              "    <tr>\n",
              "      <th>108</th>\n",
              "      <td>DEU</td>\n",
              "      <td>11121.506</td>\n",
              "    </tr>\n",
              "    <tr>\n",
              "      <th>104</th>\n",
              "      <td>FIN</td>\n",
              "      <td>12332.219</td>\n",
              "    </tr>\n",
              "    <tr>\n",
              "      <th>40</th>\n",
              "      <td>ISL</td>\n",
              "      <td>12670.652</td>\n",
              "    </tr>\n",
              "    <tr>\n",
              "      <th>130</th>\n",
              "      <td>NZL</td>\n",
              "      <td>13465.562</td>\n",
              "    </tr>\n",
              "    <tr>\n",
              "      <th>142</th>\n",
              "      <td>SWE</td>\n",
              "      <td>14917.142</td>\n",
              "    </tr>\n",
              "    <tr>\n",
              "      <th>132</th>\n",
              "      <td>NOR</td>\n",
              "      <td>17224.679</td>\n",
              "    </tr>\n",
              "    <tr>\n",
              "      <th>44</th>\n",
              "      <td>BEL</td>\n",
              "      <td>17320.185</td>\n",
              "    </tr>\n",
              "    <tr>\n",
              "      <th>124</th>\n",
              "      <td>LUX</td>\n",
              "      <td>20495.445</td>\n",
              "    </tr>\n",
              "    <tr>\n",
              "      <th>20</th>\n",
              "      <td>USA</td>\n",
              "      <td>30003.244</td>\n",
              "    </tr>\n",
              "  </tbody>\n",
              "</table>\n",
              "</div>"
            ],
            "text/plain": [
              "    LOCATION      Value\n",
              "168      IDN    169.575\n",
              "126      MEX   2684.695\n",
              "146      TUR   3591.292\n",
              "68       GRC   4094.526\n",
              "170      ISR   4185.221\n",
              "100      CZE   4953.118\n",
              "84       COL   5040.455\n",
              "176      RUS   5061.743\n",
              "172      LVA   5313.316\n",
              "174      LTU   5479.133\n",
              "138      SVK   5811.212\n",
              "156      CHL   5909.571\n",
              "116      IRL   6105.903\n",
              "134      POL   6221.502\n",
              "118      ITA   6249.264\n",
              "164      EST   6513.922\n",
              "112      HUN   6835.456\n",
              "140      ESP   6976.944\n",
              "136      PRT   7098.987\n",
              "92       AUS   7111.802\n",
              "120      JPN   7499.035\n",
              "106      FRA   7812.928\n",
              "128      NLD   8351.843\n",
              "180      SVN   8610.292\n",
              "148      GBR   9048.388\n",
              "94       AUT   9824.383\n",
              "72       KOR  10108.948\n",
              "108      DEU  11121.506\n",
              "104      FIN  12332.219\n",
              "40       ISL  12670.652\n",
              "130      NZL  13465.562\n",
              "142      SWE  14917.142\n",
              "132      NOR  17224.679\n",
              "44       BEL  17320.185\n",
              "124      LUX  20495.445\n",
              "20       USA  30003.244"
            ]
          },
          "metadata": {
            "tags": []
          },
          "execution_count": 263
        }
      ]
    },
    {
      "cell_type": "code",
      "metadata": {
        "id": "XFe-95_xVY_t",
        "outputId": "30fa484c-a816-4d80-b335-efc6dacca363",
        "colab": {
          "base_uri": "https://localhost:8080/",
          "height": 297
        }
      },
      "source": [
        "df.describe()"
      ],
      "execution_count": 264,
      "outputs": [
        {
          "output_type": "execute_result",
          "data": {
            "text/html": [
              "<div>\n",
              "<style scoped>\n",
              "    .dataframe tbody tr th:only-of-type {\n",
              "        vertical-align: middle;\n",
              "    }\n",
              "\n",
              "    .dataframe tbody tr th {\n",
              "        vertical-align: top;\n",
              "    }\n",
              "\n",
              "    .dataframe thead th {\n",
              "        text-align: right;\n",
              "    }\n",
              "</style>\n",
              "<table border=\"1\" class=\"dataframe\">\n",
              "  <thead>\n",
              "    <tr style=\"text-align: right;\">\n",
              "      <th></th>\n",
              "      <th>Value</th>\n",
              "    </tr>\n",
              "  </thead>\n",
              "  <tbody>\n",
              "    <tr>\n",
              "      <th>count</th>\n",
              "      <td>36.000000</td>\n",
              "    </tr>\n",
              "    <tr>\n",
              "      <th>mean</th>\n",
              "      <td>8783.724667</td>\n",
              "    </tr>\n",
              "    <tr>\n",
              "      <th>std</th>\n",
              "      <td>5687.274080</td>\n",
              "    </tr>\n",
              "    <tr>\n",
              "      <th>min</th>\n",
              "      <td>169.575000</td>\n",
              "    </tr>\n",
              "    <tr>\n",
              "      <th>25%</th>\n",
              "      <td>5437.678750</td>\n",
              "    </tr>\n",
              "    <tr>\n",
              "      <th>50%</th>\n",
              "      <td>7037.965500</td>\n",
              "    </tr>\n",
              "    <tr>\n",
              "      <th>75%</th>\n",
              "      <td>10362.087500</td>\n",
              "    </tr>\n",
              "    <tr>\n",
              "      <th>max</th>\n",
              "      <td>30003.244000</td>\n",
              "    </tr>\n",
              "  </tbody>\n",
              "</table>\n",
              "</div>"
            ],
            "text/plain": [
              "              Value\n",
              "count     36.000000\n",
              "mean    8783.724667\n",
              "std     5687.274080\n",
              "min      169.575000\n",
              "25%     5437.678750\n",
              "50%     7037.965500\n",
              "75%    10362.087500\n",
              "max    30003.244000"
            ]
          },
          "metadata": {
            "tags": []
          },
          "execution_count": 264
        }
      ]
    },
    {
      "cell_type": "code",
      "metadata": {
        "id": "OpkstroAMjSn",
        "outputId": "074c98db-4020-4837-ec03-85d085e9bd03",
        "colab": {
          "base_uri": "https://localhost:8080/",
          "height": 1000
        }
      },
      "source": [
        "df.tail(30)\n",
        "df"
      ],
      "execution_count": 265,
      "outputs": [
        {
          "output_type": "execute_result",
          "data": {
            "text/html": [
              "<div>\n",
              "<style scoped>\n",
              "    .dataframe tbody tr th:only-of-type {\n",
              "        vertical-align: middle;\n",
              "    }\n",
              "\n",
              "    .dataframe tbody tr th {\n",
              "        vertical-align: top;\n",
              "    }\n",
              "\n",
              "    .dataframe thead th {\n",
              "        text-align: right;\n",
              "    }\n",
              "</style>\n",
              "<table border=\"1\" class=\"dataframe\">\n",
              "  <thead>\n",
              "    <tr style=\"text-align: right;\">\n",
              "      <th></th>\n",
              "      <th>LOCATION</th>\n",
              "      <th>Value</th>\n",
              "    </tr>\n",
              "  </thead>\n",
              "  <tbody>\n",
              "    <tr>\n",
              "      <th>168</th>\n",
              "      <td>IDN</td>\n",
              "      <td>169.575</td>\n",
              "    </tr>\n",
              "    <tr>\n",
              "      <th>126</th>\n",
              "      <td>MEX</td>\n",
              "      <td>2684.695</td>\n",
              "    </tr>\n",
              "    <tr>\n",
              "      <th>146</th>\n",
              "      <td>TUR</td>\n",
              "      <td>3591.292</td>\n",
              "    </tr>\n",
              "    <tr>\n",
              "      <th>68</th>\n",
              "      <td>GRC</td>\n",
              "      <td>4094.526</td>\n",
              "    </tr>\n",
              "    <tr>\n",
              "      <th>170</th>\n",
              "      <td>ISR</td>\n",
              "      <td>4185.221</td>\n",
              "    </tr>\n",
              "    <tr>\n",
              "      <th>100</th>\n",
              "      <td>CZE</td>\n",
              "      <td>4953.118</td>\n",
              "    </tr>\n",
              "    <tr>\n",
              "      <th>84</th>\n",
              "      <td>COL</td>\n",
              "      <td>5040.455</td>\n",
              "    </tr>\n",
              "    <tr>\n",
              "      <th>176</th>\n",
              "      <td>RUS</td>\n",
              "      <td>5061.743</td>\n",
              "    </tr>\n",
              "    <tr>\n",
              "      <th>172</th>\n",
              "      <td>LVA</td>\n",
              "      <td>5313.316</td>\n",
              "    </tr>\n",
              "    <tr>\n",
              "      <th>174</th>\n",
              "      <td>LTU</td>\n",
              "      <td>5479.133</td>\n",
              "    </tr>\n",
              "    <tr>\n",
              "      <th>138</th>\n",
              "      <td>SVK</td>\n",
              "      <td>5811.212</td>\n",
              "    </tr>\n",
              "    <tr>\n",
              "      <th>156</th>\n",
              "      <td>CHL</td>\n",
              "      <td>5909.571</td>\n",
              "    </tr>\n",
              "    <tr>\n",
              "      <th>116</th>\n",
              "      <td>IRL</td>\n",
              "      <td>6105.903</td>\n",
              "    </tr>\n",
              "    <tr>\n",
              "      <th>134</th>\n",
              "      <td>POL</td>\n",
              "      <td>6221.502</td>\n",
              "    </tr>\n",
              "    <tr>\n",
              "      <th>118</th>\n",
              "      <td>ITA</td>\n",
              "      <td>6249.264</td>\n",
              "    </tr>\n",
              "    <tr>\n",
              "      <th>164</th>\n",
              "      <td>EST</td>\n",
              "      <td>6513.922</td>\n",
              "    </tr>\n",
              "    <tr>\n",
              "      <th>112</th>\n",
              "      <td>HUN</td>\n",
              "      <td>6835.456</td>\n",
              "    </tr>\n",
              "    <tr>\n",
              "      <th>140</th>\n",
              "      <td>ESP</td>\n",
              "      <td>6976.944</td>\n",
              "    </tr>\n",
              "    <tr>\n",
              "      <th>136</th>\n",
              "      <td>PRT</td>\n",
              "      <td>7098.987</td>\n",
              "    </tr>\n",
              "    <tr>\n",
              "      <th>92</th>\n",
              "      <td>AUS</td>\n",
              "      <td>7111.802</td>\n",
              "    </tr>\n",
              "    <tr>\n",
              "      <th>120</th>\n",
              "      <td>JPN</td>\n",
              "      <td>7499.035</td>\n",
              "    </tr>\n",
              "    <tr>\n",
              "      <th>106</th>\n",
              "      <td>FRA</td>\n",
              "      <td>7812.928</td>\n",
              "    </tr>\n",
              "    <tr>\n",
              "      <th>128</th>\n",
              "      <td>NLD</td>\n",
              "      <td>8351.843</td>\n",
              "    </tr>\n",
              "    <tr>\n",
              "      <th>180</th>\n",
              "      <td>SVN</td>\n",
              "      <td>8610.292</td>\n",
              "    </tr>\n",
              "    <tr>\n",
              "      <th>148</th>\n",
              "      <td>GBR</td>\n",
              "      <td>9048.388</td>\n",
              "    </tr>\n",
              "    <tr>\n",
              "      <th>94</th>\n",
              "      <td>AUT</td>\n",
              "      <td>9824.383</td>\n",
              "    </tr>\n",
              "    <tr>\n",
              "      <th>72</th>\n",
              "      <td>KOR</td>\n",
              "      <td>10108.948</td>\n",
              "    </tr>\n",
              "    <tr>\n",
              "      <th>108</th>\n",
              "      <td>DEU</td>\n",
              "      <td>11121.506</td>\n",
              "    </tr>\n",
              "    <tr>\n",
              "      <th>104</th>\n",
              "      <td>FIN</td>\n",
              "      <td>12332.219</td>\n",
              "    </tr>\n",
              "    <tr>\n",
              "      <th>40</th>\n",
              "      <td>ISL</td>\n",
              "      <td>12670.652</td>\n",
              "    </tr>\n",
              "    <tr>\n",
              "      <th>130</th>\n",
              "      <td>NZL</td>\n",
              "      <td>13465.562</td>\n",
              "    </tr>\n",
              "    <tr>\n",
              "      <th>142</th>\n",
              "      <td>SWE</td>\n",
              "      <td>14917.142</td>\n",
              "    </tr>\n",
              "    <tr>\n",
              "      <th>132</th>\n",
              "      <td>NOR</td>\n",
              "      <td>17224.679</td>\n",
              "    </tr>\n",
              "    <tr>\n",
              "      <th>44</th>\n",
              "      <td>BEL</td>\n",
              "      <td>17320.185</td>\n",
              "    </tr>\n",
              "    <tr>\n",
              "      <th>124</th>\n",
              "      <td>LUX</td>\n",
              "      <td>20495.445</td>\n",
              "    </tr>\n",
              "    <tr>\n",
              "      <th>20</th>\n",
              "      <td>USA</td>\n",
              "      <td>30003.244</td>\n",
              "    </tr>\n",
              "  </tbody>\n",
              "</table>\n",
              "</div>"
            ],
            "text/plain": [
              "    LOCATION      Value\n",
              "168      IDN    169.575\n",
              "126      MEX   2684.695\n",
              "146      TUR   3591.292\n",
              "68       GRC   4094.526\n",
              "170      ISR   4185.221\n",
              "100      CZE   4953.118\n",
              "84       COL   5040.455\n",
              "176      RUS   5061.743\n",
              "172      LVA   5313.316\n",
              "174      LTU   5479.133\n",
              "138      SVK   5811.212\n",
              "156      CHL   5909.571\n",
              "116      IRL   6105.903\n",
              "134      POL   6221.502\n",
              "118      ITA   6249.264\n",
              "164      EST   6513.922\n",
              "112      HUN   6835.456\n",
              "140      ESP   6976.944\n",
              "136      PRT   7098.987\n",
              "92       AUS   7111.802\n",
              "120      JPN   7499.035\n",
              "106      FRA   7812.928\n",
              "128      NLD   8351.843\n",
              "180      SVN   8610.292\n",
              "148      GBR   9048.388\n",
              "94       AUT   9824.383\n",
              "72       KOR  10108.948\n",
              "108      DEU  11121.506\n",
              "104      FIN  12332.219\n",
              "40       ISL  12670.652\n",
              "130      NZL  13465.562\n",
              "142      SWE  14917.142\n",
              "132      NOR  17224.679\n",
              "44       BEL  17320.185\n",
              "124      LUX  20495.445\n",
              "20       USA  30003.244"
            ]
          },
          "metadata": {
            "tags": []
          },
          "execution_count": 265
        }
      ]
    },
    {
      "cell_type": "code",
      "metadata": {
        "id": "RTq_t6RzTsE_",
        "outputId": "706d8e06-ca3d-4cc6-bcac-f28151b0ff29",
        "colab": {
          "base_uri": "https://localhost:8080/",
          "height": 731
        }
      },
      "source": [
        "df.plot(kind='scatter',x='LOCATION',y='Value')\n",
        "plt.axhline(y=8783.724666666667, color='r')"
      ],
      "execution_count": 266,
      "outputs": [
        {
          "output_type": "execute_result",
          "data": {
            "text/plain": [
              "<matplotlib.lines.Line2D at 0x7f4d001088d0>"
            ]
          },
          "metadata": {
            "tags": []
          },
          "execution_count": 266
        },
        {
          "output_type": "display_data",
          "data": {
            "image/png": "[encoded data removed]",
            "text/plain": [
              "<Figure size 1800x864 with 1 Axes>"
            ]
          },
          "metadata": {
            "tags": [],
            "needs_background": "light"
          }
        }
      ]
    },
    {
      "cell_type": "code",
      "metadata": {
        "id": "RRmgYDMkT3af",
        "outputId": "a8389ef4-7562-4529-c0b2-b491bf0f5fc7",
        "colab": {
          "base_uri": "https://localhost:8080/",
          "height": 421
        }
      },
      "source": [
        "df.tail(12)\n",
        "df=df.tail(12)\n",
        "df"
      ],
      "execution_count": 272,
      "outputs": [
        {
          "output_type": "execute_result",
          "data": {
            "text/html": [
              "<div>\n",
              "<style scoped>\n",
              "    .dataframe tbody tr th:only-of-type {\n",
              "        vertical-align: middle;\n",
              "    }\n",
              "\n",
              "    .dataframe tbody tr th {\n",
              "        vertical-align: top;\n",
              "    }\n",
              "\n",
              "    .dataframe thead th {\n",
              "        text-align: right;\n",
              "    }\n",
              "</style>\n",
              "<table border=\"1\" class=\"dataframe\">\n",
              "  <thead>\n",
              "    <tr style=\"text-align: right;\">\n",
              "      <th></th>\n",
              "      <th>LOCATION</th>\n",
              "      <th>Value</th>\n",
              "    </tr>\n",
              "  </thead>\n",
              "  <tbody>\n",
              "    <tr>\n",
              "      <th>148</th>\n",
              "      <td>GBR</td>\n",
              "      <td>9048.388</td>\n",
              "    </tr>\n",
              "    <tr>\n",
              "      <th>94</th>\n",
              "      <td>AUT</td>\n",
              "      <td>9824.383</td>\n",
              "    </tr>\n",
              "    <tr>\n",
              "      <th>72</th>\n",
              "      <td>KOR</td>\n",
              "      <td>10108.948</td>\n",
              "    </tr>\n",
              "    <tr>\n",
              "      <th>108</th>\n",
              "      <td>DEU</td>\n",
              "      <td>11121.506</td>\n",
              "    </tr>\n",
              "    <tr>\n",
              "      <th>104</th>\n",
              "      <td>FIN</td>\n",
              "      <td>12332.219</td>\n",
              "    </tr>\n",
              "    <tr>\n",
              "      <th>40</th>\n",
              "      <td>ISL</td>\n",
              "      <td>12670.652</td>\n",
              "    </tr>\n",
              "    <tr>\n",
              "      <th>130</th>\n",
              "      <td>NZL</td>\n",
              "      <td>13465.562</td>\n",
              "    </tr>\n",
              "    <tr>\n",
              "      <th>142</th>\n",
              "      <td>SWE</td>\n",
              "      <td>14917.142</td>\n",
              "    </tr>\n",
              "    <tr>\n",
              "      <th>132</th>\n",
              "      <td>NOR</td>\n",
              "      <td>17224.679</td>\n",
              "    </tr>\n",
              "    <tr>\n",
              "      <th>44</th>\n",
              "      <td>BEL</td>\n",
              "      <td>17320.185</td>\n",
              "    </tr>\n",
              "    <tr>\n",
              "      <th>124</th>\n",
              "      <td>LUX</td>\n",
              "      <td>20495.445</td>\n",
              "    </tr>\n",
              "    <tr>\n",
              "      <th>20</th>\n",
              "      <td>USA</td>\n",
              "      <td>30003.244</td>\n",
              "    </tr>\n",
              "  </tbody>\n",
              "</table>\n",
              "</div>"
            ],
            "text/plain": [
              "    LOCATION      Value\n",
              "148      GBR   9048.388\n",
              "94       AUT   9824.383\n",
              "72       KOR  10108.948\n",
              "108      DEU  11121.506\n",
              "104      FIN  12332.219\n",
              "40       ISL  12670.652\n",
              "130      NZL  13465.562\n",
              "142      SWE  14917.142\n",
              "132      NOR  17224.679\n",
              "44       BEL  17320.185\n",
              "124      LUX  20495.445\n",
              "20       USA  30003.244"
            ]
          },
          "metadata": {
            "tags": []
          },
          "execution_count": 272
        }
      ]
    },
    {
      "cell_type": "code",
      "metadata": {
        "id": "o0EguEUH0NEU",
        "outputId": "e8af8c81-241a-4bf2-8f85-fd0485e658ec",
        "colab": {
          "base_uri": "https://localhost:8080/",
          "height": 221
        }
      },
      "source": [
        "Top_12 = list(df[\"LOCATION\"]) # Listing numbers from tuition fee for UMBC\n",
        "Top_12"
      ],
      "execution_count": 273,
      "outputs": [
        {
          "output_type": "execute_result",
          "data": {
            "text/plain": [
              "['GBR',\n",
              " 'AUT',\n",
              " 'KOR',\n",
              " 'DEU',\n",
              " 'FIN',\n",
              " 'ISL',\n",
              " 'NZL',\n",
              " 'SWE',\n",
              " 'NOR',\n",
              " 'BEL',\n",
              " 'LUX',\n",
              " 'USA']"
            ]
          },
          "metadata": {
            "tags": []
          },
          "execution_count": 273
        }
      ]
    },
    {
      "cell_type": "code",
      "metadata": {
        "id": "PuAh8bFw0zAK",
        "outputId": "594bb787-017f-4e12-f5c6-a8af6f28554d",
        "colab": {
          "base_uri": "https://localhost:8080/",
          "height": 452
        }
      },
      "source": [
        "df2 = pd.read_csv(\"/content/DP_LIVE_25102020054342653.csv\") # Upload file from college scoreboard raw data folder, this code reads the file but not every line for spacing. \n",
        "df2.drop(columns=['INDICATOR',\"SUBJECT\",\"MEASURE\", 'FREQUENCY','TIME',\"Flag Codes\"])\n",
        "df2=df2.drop(columns=['INDICATOR',\"SUBJECT\",\"MEASURE\", 'FREQUENCY','TIME',\"Flag Codes\"])\n",
        "df2.sort_values(by=['Value'], inplace=True)\n",
        "df2.drop_duplicates(subset=['LOCATION'])\n",
        "df2=df2.drop_duplicates(subset=['LOCATION'])\n",
        "df2\n",
        "df2 = df2.set_index( \"LOCATION\", drop = False) # Find and display, selects the column \"INSTMN\" then filters to \"University of Maryland-Baltimore County\", can filter out later for Tuition Info\n",
        "df2.loc[Top_12]\n",
        "Top_12_GRAPH=df2.loc[Top_12]\n",
        "Top_12_GRAPH"
      ],
      "execution_count": 274,
      "outputs": [
        {
          "output_type": "execute_result",
          "data": {
            "text/html": [
              "<div>\n",
              "<style scoped>\n",
              "    .dataframe tbody tr th:only-of-type {\n",
              "        vertical-align: middle;\n",
              "    }\n",
              "\n",
              "    .dataframe tbody tr th {\n",
              "        vertical-align: top;\n",
              "    }\n",
              "\n",
              "    .dataframe thead th {\n",
              "        text-align: right;\n",
              "    }\n",
              "</style>\n",
              "<table border=\"1\" class=\"dataframe\">\n",
              "  <thead>\n",
              "    <tr style=\"text-align: right;\">\n",
              "      <th></th>\n",
              "      <th>LOCATION</th>\n",
              "      <th>Value</th>\n",
              "    </tr>\n",
              "    <tr>\n",
              "      <th>LOCATION</th>\n",
              "      <th></th>\n",
              "      <th></th>\n",
              "    </tr>\n",
              "  </thead>\n",
              "  <tbody>\n",
              "    <tr>\n",
              "      <th>GBR</th>\n",
              "      <td>GBR</td>\n",
              "      <td>42522.183841</td>\n",
              "    </tr>\n",
              "    <tr>\n",
              "      <th>AUT</th>\n",
              "      <td>AUT</td>\n",
              "      <td>49955.456118</td>\n",
              "    </tr>\n",
              "    <tr>\n",
              "      <th>KOR</th>\n",
              "      <td>KOR</td>\n",
              "      <td>37907.460937</td>\n",
              "    </tr>\n",
              "    <tr>\n",
              "      <th>DEU</th>\n",
              "      <td>DEU</td>\n",
              "      <td>47622.331224</td>\n",
              "    </tr>\n",
              "    <tr>\n",
              "      <th>FIN</th>\n",
              "      <td>FIN</td>\n",
              "      <td>42501.611531</td>\n",
              "    </tr>\n",
              "    <tr>\n",
              "      <th>ISL</th>\n",
              "      <td>ISL</td>\n",
              "      <td>48856.560901</td>\n",
              "    </tr>\n",
              "    <tr>\n",
              "      <th>NZL</th>\n",
              "      <td>NZL</td>\n",
              "      <td>37403.074775</td>\n",
              "    </tr>\n",
              "    <tr>\n",
              "      <th>SWE</th>\n",
              "      <td>SWE</td>\n",
              "      <td>49116.236552</td>\n",
              "    </tr>\n",
              "    <tr>\n",
              "      <th>NOR</th>\n",
              "      <td>NOR</td>\n",
              "      <td>58917.288330</td>\n",
              "    </tr>\n",
              "    <tr>\n",
              "      <th>BEL</th>\n",
              "      <td>BEL</td>\n",
              "      <td>46213.262388</td>\n",
              "    </tr>\n",
              "    <tr>\n",
              "      <th>LUX</th>\n",
              "      <td>LUX</td>\n",
              "      <td>103787.967646</td>\n",
              "    </tr>\n",
              "    <tr>\n",
              "      <th>USA</th>\n",
              "      <td>USA</td>\n",
              "      <td>56812.535433</td>\n",
              "    </tr>\n",
              "  </tbody>\n",
              "</table>\n",
              "</div>"
            ],
            "text/plain": [
              "         LOCATION          Value\n",
              "LOCATION                        \n",
              "GBR           GBR   42522.183841\n",
              "AUT           AUT   49955.456118\n",
              "KOR           KOR   37907.460937\n",
              "DEU           DEU   47622.331224\n",
              "FIN           FIN   42501.611531\n",
              "ISL           ISL   48856.560901\n",
              "NZL           NZL   37403.074775\n",
              "SWE           SWE   49116.236552\n",
              "NOR           NOR   58917.288330\n",
              "BEL           BEL   46213.262388\n",
              "LUX           LUX  103787.967646\n",
              "USA           USA   56812.535433"
            ]
          },
          "metadata": {
            "tags": []
          },
          "execution_count": 274
        }
      ]
    },
    {
      "cell_type": "code",
      "metadata": {
        "id": "6FQE8Vj22RGZ",
        "outputId": "bee21a4f-8a47-4749-8a43-fe7f60a50d8c",
        "colab": {
          "base_uri": "https://localhost:8080/",
          "height": 744
        }
      },
      "source": [
        "Top_12_GRAPH.plot(kind='bar',x='LOCATION',y='Value')\n",
        "plt.axhline(y=34819.430959, color='r')"
      ],
      "execution_count": 275,
      "outputs": [
        {
          "output_type": "execute_result",
          "data": {
            "text/plain": [
              "<matplotlib.lines.Line2D at 0x7f4d000bd7f0>"
            ]
          },
          "metadata": {
            "tags": []
          },
          "execution_count": 275
        },
        {
          "output_type": "display_data",
          "data": {
            "image/png": "[encoded data removed]",
            "text/plain": [
              "<Figure size 1800x864 with 1 Axes>"
            ]
          },
          "metadata": {
            "tags": [],
            "needs_background": "light"
          }
        }
      ]
    },
    {
      "cell_type": "markdown",
      "metadata": {
        "id": "zPK2ekAGdJjb"
      },
      "source": [
        "##**2. Background information-Venzuela**\n",
        "# **Venzuela has an interesting history. Present day and historic Venzeula has many points of analysis. One can approach Venzuela, from a political or historical perspective. Others can choose to explore it from a economic or governmental perspective. What I think is most interesting is approaching it from a data perspective, and to infer and answer important economic, poltical, and governmental questions from there. Below are other interesting things about Venzuela.**\n",
        "\n",
        "\n",
        "*   List item\n",
        "*   List item\n",
        "*   List item\n",
        "*   List item\n",
        "*   List item"
      ]
    },
    {
      "cell_type": "markdown",
      "metadata": {
        "id": "EFOJC0dzVP0P"
      },
      "source": [
        "##**3.What are the economic deficiencies?**\n",
        "\n",
        "\n",
        "\n"
      ]
    },
    {
      "cell_type": "markdown",
      "metadata": {
        "id": "OTqcguhj_QgD"
      },
      "source": [
        "##HyperInflation"
      ]
    },
    {
      "cell_type": "code",
      "metadata": {
        "id": "VKD81nlgRYLF",
        "outputId": "8ad0dac8-8d4f-441e-b7bc-4f62cccdab8c",
        "colab": {
          "base_uri": "https://localhost:8080/",
          "height": 943
        }
      },
      "source": [
        "fig, ax = plt.subplots(figsize=(20,15))\n",
        "ax.set_ylabel(\"Inflation Rate\",fontname=\"Arial\", fontsize=25)\n",
        "ax.set_xlabel(\"Years\",fontname=\"Arial\", fontsize=20)\n",
        "ax.set_title(\"Venzuela Inflation\",fontname=\"Arial\", fontsize=25)\n",
        "long_df.plot(kind='line',x='Years_2',y='Inflation Rate', legend= \"GDP Percentage Growth\", color=\"b\", rot=45, ax = ax)\n",
        "plt.axhline(y=12874.63, color='r') "
      ],
      "execution_count": 365,
      "outputs": [
        {
          "output_type": "execute_result",
          "data": {
            "text/plain": [
              "<matplotlib.lines.Line2D at 0x7f4cffbe6208>"
            ]
          },
          "metadata": {
            "tags": []
          },
          "execution_count": 365
        },
        {
          "output_type": "display_data",
          "data": {
            "image/png": "[encoded data removed]",
            "text/plain": [
              "<Figure size 1440x1080 with 1 Axes>"
            ]
          },
          "metadata": {
            "tags": [],
            "needs_background": "light"
          }
        }
      ]
    },
    {
      "cell_type": "markdown",
      "metadata": {
        "id": "Ob6LUw3H7ymw"
      },
      "source": [
        "**HyperInflation defined as 12,874.63% yearly, Venzuela is clearly over this amount as noted by the line labeled \"hyperinflation\".**"
      ]
    },
    {
      "cell_type": "markdown",
      "metadata": {
        "id": "NGdBesAE_kWJ"
      },
      "source": [
        "##Shrinking Economy "
      ]
    },
    {
      "cell_type": "code",
      "metadata": {
        "id": "FazRJfdHaiXp",
        "outputId": "22bd779e-90b5-4fc8-bc27-35bff26afb26",
        "colab": {
          "base_uri": "https://localhost:8080/",
          "height": 962
        }
      },
      "source": [
        "fig, ax = plt.subplots(figsize=(15,15))\n",
        "ax.set_ylabel(\"GDP Percentage Growth\",fontname=\"Arial\", fontsize=25)\n",
        "ax.set_xlabel(\"Country\",fontname=\"Arial\", fontsize=20)\n",
        "ax.set_title(\"Select South American Countries 2015-2020\",fontname=\"Arial\", fontsize=25)\n",
        "long_df.plot(kind='bar',x='Country',y='GDP Percentage Growth', legend= \"GDP Percentage Growth\", color=\"b\", rot=45, ax = ax)\n",
        "plt.axhline(y=0, color='r') "
      ],
      "execution_count": 329,
      "outputs": [
        {
          "output_type": "execute_result",
          "data": {
            "text/plain": [
              "<matplotlib.lines.Line2D at 0x7f4cff8440f0>"
            ]
          },
          "metadata": {
            "tags": []
          },
          "execution_count": 329
        },
        {
          "output_type": "display_data",
          "data": {
            "image/png": "[encoded data removed]",
            "text/plain": [
              "<Figure size 1080x1080 with 1 Axes>"
            ]
          },
          "metadata": {
            "tags": [],
            "needs_background": "light"
          }
        }
      ]
    },
    {
      "cell_type": "markdown",
      "metadata": {
        "id": "9YwWMz84_MSh"
      },
      "source": [
        "**Everything seen is negative GDP \"growth\" for Venzuela**"
      ]
    },
    {
      "cell_type": "markdown",
      "metadata": {
        "id": "rtAz9Sk9_m9Q"
      },
      "source": [
        "##High Poverty Rate "
      ]
    },
    {
      "cell_type": "code",
      "metadata": {
        "id": "-lpHIG4b_lYG",
        "outputId": "43e5abfe-0391-49ed-8c31-c3479bbf96a6",
        "colab": {
          "base_uri": "https://localhost:8080/",
          "height": 513
        }
      },
      "source": [
        "Poverty_Rate  = [19.7,9.2] #https://www.worldbank.org/en/topic/poverty/overview#:~:text=The%20global%20extreme%20poverty%20rate,%245.50%20a%20day%20in%202017\n",
        "Country = [\"Venezuela\",\t\"World/Global Average\"] \n",
        "Poverty_Rate\n",
        "\n",
        "fig, ax = plt.subplots(figsize=(12,8))\n",
        "\n",
        "ax.bar(Country, Poverty_Rate)\n",
        "ax.set_title(\"Poverty Rate\")\n",
        "ax.set_xlabel(\"Country\")\n",
        "ax.set_ylabel(\"Poverty Rate\")\n",
        "\n",
        "fig.show()"
      ],
      "execution_count": 338,
      "outputs": [
        {
          "output_type": "display_data",
          "data": {
            "image/png": "[encoded data removed]",
            "text/plain": [
              "<Figure size 864x576 with 1 Axes>"
            ]
          },
          "metadata": {
            "tags": [],
            "needs_background": "light"
          }
        }
      ]
    },
    {
      "cell_type": "markdown",
      "metadata": {
        "id": "LShyGWXx_nnz"
      },
      "source": [
        "**Venzuela Poverty Rate higher than World Average**"
      ]
    },
    {
      "cell_type": "markdown",
      "metadata": {
        "id": "KwaGDbGn_skI"
      },
      "source": [
        "##Decline of International Trade "
      ]
    },
    {
      "cell_type": "code",
      "metadata": {
        "id": "izO06RLVbxF8",
        "outputId": "5915ea85-a7db-468b-9c13-c5fd5b5d5e4a",
        "colab": {
          "base_uri": "https://localhost:8080/",
          "height": 943
        }
      },
      "source": [
        "import numpy as np\n",
        "fig, ax = plt.subplots(figsize=(20,15))\n",
        "ax.set_ylabel(\"Venzuela Imports of Goods-Percent Change\",fontname=\"Arial\", fontsize=25)\n",
        "ax.set_xlabel(\"Years\",fontname=\"Arial\", fontsize=20)\n",
        "ax.set_title(\"Venzuela Imports of Goods-Percent Change\",fontname=\"Arial\", fontsize=25)\n",
        "long_df.plot(kind=\"line\",x=\"Years_2\",y=\"Imports Growth Rate\", legend= \"GDP Percentage Growth\", color=\"b\", rot=45, ax = ax)\n",
        "plt.axhline(y=0, color='r') \n"
      ],
      "execution_count": 347,
      "outputs": [
        {
          "output_type": "execute_result",
          "data": {
            "text/plain": [
              "<matplotlib.lines.Line2D at 0x7f4cff5ecc88>"
            ]
          },
          "metadata": {
            "tags": []
          },
          "execution_count": 347
        },
        {
          "output_type": "display_data",
          "data": {
            "image/png": "[encoded data removed]",
            "text/plain": [
              "<Figure size 1440x1080 with 1 Axes>"
            ]
          },
          "metadata": {
            "tags": [],
            "needs_background": "light"
          }
        }
      ]
    },
    {
      "cell_type": "markdown",
      "metadata": {
        "id": "KJQHoaWTAo6r"
      },
      "source": [
        "**Sanctions hurt imports for Venzuela.**"
      ]
    },
    {
      "cell_type": "markdown",
      "metadata": {
        "id": "zSc3dZ0BVY90"
      },
      "source": [
        "##**4. Solutions for economic problem areas.** "
      ]
    },
    {
      "cell_type": "markdown",
      "metadata": {
        "id": "ZeDGspoLBeQn"
      },
      "source": [
        "##Solution 1:Attempt to Remove Sanctions "
      ]
    },
    {
      "cell_type": "code",
      "metadata": {
        "id": "D70lcXN0cC6m"
      },
      "source": [
        "import numpy as np\n",
        "fig, ax = plt.subplots(figsize=(20,15))\n",
        "ax.set_ylabel(\"Venzuela Imports of Goods-Percent Change\",fontname=\"Arial\", fontsize=25)\n",
        "ax.set_xlabel(\"Years\",fontname=\"Arial\", fontsize=20)\n",
        "ax.set_title(\"Venzuela Imports of Goods-Percent Change\",fontname=\"Arial\", fontsize=25)\n",
        "long_df.plot(kind=\"line\",x=\"Years_2\",y=\"Imports Growth Rate\", legend= \"GDP Percentage Growth\", color=\"b\", rot=45, ax = ax)\n",
        "plt.axhline(y=0, color='r') "
      ],
      "execution_count": null,
      "outputs": []
    },
    {
      "cell_type": "markdown",
      "metadata": {
        "id": "ImH7EI-G_1uO"
      },
      "source": [
        "##Solution 2:Reduce government spending to reduce hyper-inflation ( Show correlation) "
      ]
    },
    {
      "cell_type": "markdown",
      "metadata": {
        "id": "XJ8sX_yY_zdK"
      },
      "source": [
        "##Solution 3:Diversify economy beyond oil exports."
      ]
    },
    {
      "cell_type": "code",
      "metadata": {
        "id": "z66uVlgbCix0",
        "outputId": "ee3af8c3-aa1b-4d1b-fb44-aae0bafd96a0",
        "colab": {
          "base_uri": "https://localhost:8080/",
          "height": 903
        }
      },
      "source": [
        "#https://oec.world/en/profile/country/ven/\n",
        "Exports = ['Petrolum', 'Gold', 'Alcohol', 'Other']\n",
        "Export_1 = [85,9,2,4]\n",
        "\n",
        "fig, ax = plt.subplots(figsize=(12,12))\n",
        "ax.set_title(\"Venzuelan Exports\")\n",
        "ax.pie(x=Export_1, labels=Exports, startangle=90,autopct='%.2f%%')"
      ],
      "execution_count": 67,
      "outputs": [
        {
          "output_type": "execute_result",
          "data": {
            "text/plain": [
              "([<matplotlib.patches.Wedge at 0x7f4d0e18a978>,\n",
              "  <matplotlib.patches.Wedge at 0x7f4d0e2039e8>,\n",
              "  <matplotlib.patches.Wedge at 0x7f4d0e203160>,\n",
              "  <matplotlib.patches.Wedge at 0x7f4d0e1f3dd8>],\n",
              " [Text(-0.49938947630209474, -0.9801072140121813, 'Petrolum'),\n",
              "  Text(0.6741976190487652, 0.8691706221847216, 'Gold'),\n",
              "  Text(0.33991851505592985, 1.0461622260061638, 'Alcohol'),\n",
              "  Text(0.1378663750450849, 1.0913261944221482, 'Other')],\n",
              " [Text(-0.27239425980114257, -0.5346039349157352, '85.00%'),\n",
              "  Text(0.367744155844781, 0.47409306664621176, '9.00%'),\n",
              "  Text(0.18541009912141626, 0.5706339414579075, '2.00%'),\n",
              "  Text(0.07519984093368266, 0.5952688333211716, '4.00%')])"
            ]
          },
          "metadata": {
            "tags": []
          },
          "execution_count": 67
        },
        {
          "output_type": "display_data",
          "data": {
            "image/png": "[encoded data removed]",
            "text/plain": [
              "<Figure size 864x864 with 1 Axes>"
            ]
          },
          "metadata": {
            "tags": []
          }
        }
      ]
    },
    {
      "cell_type": "markdown",
      "metadata": {
        "id": "Il6qXc_SB8QC"
      },
      "source": [
        "##Solution 3A: To diversify, increase educational investments. Wealthy nations make alot of investments in education so should Venzuela but within its limits."
      ]
    },
    {
      "cell_type": "code",
      "metadata": {
        "id": "zsiPPoPsCyxL",
        "outputId": "cb95a90b-d83b-4291-8096-4e2e83420014",
        "colab": {
          "base_uri": "https://localhost:8080/",
          "height": 731
        }
      },
      "source": [
        "df.plot(kind='scatter',x='LOCATION',y='Value')\n",
        "plt.axhline(y=8783.724666666667, color='r')"
      ],
      "execution_count": 61,
      "outputs": [
        {
          "output_type": "execute_result",
          "data": {
            "text/plain": [
              "<matplotlib.lines.Line2D at 0x7f4d0b451dd8>"
            ]
          },
          "metadata": {
            "tags": []
          },
          "execution_count": 61
        },
        {
          "output_type": "display_data",
          "data": {
            "image/png": "[encoded data removed]",
            "text/plain": [
              "<Figure size 1800x864 with 1 Axes>"
            ]
          },
          "metadata": {
            "tags": [],
            "needs_background": "light"
          }
        }
      ]
    },
    {
      "cell_type": "markdown",
      "metadata": {
        "id": "yCjuA1JCdIDD"
      },
      "source": [
        "**Lets look at top 12 countries to see wealth vs education, below**"
      ]
    },
    {
      "cell_type": "code",
      "metadata": {
        "id": "NrDjPfn7IOyx",
        "outputId": "8b5d27b2-e25f-44c9-9620-13091e42145b",
        "colab": {
          "base_uri": "https://localhost:8080/",
          "height": 744
        }
      },
      "source": [
        "Top_12_GRAPH.plot(kind='bar',x='LOCATION',y='Value')\n",
        "plt.axhline(y=34819.430959, color='r')"
      ],
      "execution_count": 59,
      "outputs": [
        {
          "output_type": "execute_result",
          "data": {
            "text/plain": [
              "<matplotlib.lines.Line2D at 0x7f4d0e13cef0>"
            ]
          },
          "metadata": {
            "tags": []
          },
          "execution_count": 59
        },
        {
          "output_type": "display_data",
          "data": {
            "image/png": "[encoded data removed]",
            "text/plain": [
              "<Figure size 1800x864 with 1 Axes>"
            ]
          },
          "metadata": {
            "tags": [],
            "needs_background": "light"
          }
        }
      ]
    },
    {
      "cell_type": "markdown",
      "metadata": {
        "id": "Q64N8QHfdckw"
      },
      "source": [
        "**The value of a good education shows, all 12 countries are above the mean gdp per capita of 34819. This is to say one thing, education is a important in the creation of wealth in a country. Education...**"
      ]
    },
    {
      "cell_type": "markdown",
      "metadata": {
        "id": "3BunE0ZiXl-8"
      },
      "source": [
        "##**5. Conclusion**\n",
        "**To be done later.**"
      ]
    },
    {
      "cell_type": "markdown",
      "metadata": {
        "id": "CL_IKqANeoY9"
      },
      "source": [
        "##**6. References**\n",
        "https://www.cia.gov/library/publications/the-world-factbook/geos/ve.html\n",
        "\n",
        "https://www.focus-economics.com/countries/venezuela\n",
        "\n",
        "\n",
        "https://www.worldbank.org/en/topic/poverty/overview#:~:text=The%20global%20extreme%20poverty%20rate,%245.50%20a%20day%20in%202017.\n",
        "\n",
        "\n",
        "https://www.statista.com/statistics/371895/inflation-rate-in-venezuela/\n",
        "\n",
        "\n",
        "https://data.worldbank.org/country/venezuela-rb\n",
        "\n",
        "http://hdr.undp.org/en/content/expenditure-education-public-gdp\n",
        "\n",
        "https://www.imf.org/external/index.htm"
      ]
    }
  ]
}