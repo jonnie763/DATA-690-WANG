{
  "nbformat": 4,
  "nbformat_minor": 0,
  "metadata": {
    "colab": {
      "name": "Jonathan Rius Practice Session 2.ipynb",
      "provenance": [],
      "authorship_tag": "ABX9TyMvcmbxgfz6vmngwng8KCLy",
      "include_colab_link": true
    },
    "kernelspec": {
      "name": "python3",
      "display_name": "Python 3"
    }
  },
  "cells": [
    {
      "cell_type": "markdown",
      "metadata": {
        "id": "view-in-github",
        "colab_type": "text"
      },
      "source": [
        "<a href=\"https://colab.research.google.com/github/jonnie763/DATA-690-WANG/blob/master/Jonathan_Rius_Practice_Session_2.ipynb\" target=\"_parent\"><img src=\"https://colab.research.google.com/assets/colab-badge.svg\" alt=\"Open In Colab\"/></a>"
      ]
    },
    {
      "cell_type": "markdown",
      "metadata": {
        "id": "yAvqaY2AY0Hr",
        "colab_type": "text"
      },
      "source": [
        "#This is a test notebook \n"
      ]
    },
    {
      "cell_type": "markdown",
      "metadata": {
        "id": "RWON6TMQY8fY",
        "colab_type": "text"
      },
      "source": [
        ""
      ]
    }
  ]
}