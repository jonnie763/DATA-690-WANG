{
 "cells": [
  {
   "cell_type": "code",
   "execution_count": null,
   "metadata": {},
   "outputs": [],
   "source": [
    "### Assignment 8\n",
    "For this assignment , we will use the college scorecard dataset. \n",
    "<pre>\n",
    "From the 22 individual school year data files, randomly (using Python) select one file. \n",
    "Only read the column \"TUITIONFEE_IN\" frm this file into a data frame.\n",
    "Find out how many observations this data frame has.\n",
    "Find out how many observations that have missing value. Drop those observations.\n",
    "Find out how many observations that have value of zero. Drop those observations.\n",
    "Calculate the mean of the tuition.\n",
    "Randomly select one observation, find out the tuition of that observation.\n",
    "Calculate the different between the tuition of this observation and the average tuition (mean) off all observations above.\n",
    "Randomly select another observation and repeat the above.\n",
    "Randomly select another observation and repeat the above.\n",
    "Randomly select 5 observations, display the tuition of these observation.\n",
    "Calculate the average of these 5 observations\n",
    "Calculate the different between the average tuition of thes 5 observations and the average tuition (mean) off all observations above.\n",
    "Randomly select another 5 observations and repeat the above.\n",
    "Randomly select another 5 observation and repeat the above.\n",
    "\n",
    "Randomly select 10 observations, display the tuition of these observation.\n",
    "Calculate the average of these 10 observations\n",
    "Calculate the different between the average tuition of thes 10 observations and the average tuition (mean) off all observations above.\n",
    "Randomly select another 10 observations and repeat the above.\n",
    "Randomly select another 10 observation and repeat the above.\n",
    "\n",
    "\n",
    "Randomly select 20 observations, display the tuition of these observation.\n",
    "Calculate the average of these 20 observations\n",
    "Calculate the different between the average tuition of thes 10 observations and the average tuition (mean) off all observations above.\n",
    "Randomly select another 20 observations and repeat the above.\n",
    "Randomly select another 20 observation and repeat the above.\n",
    "\n",
    "Randomly select 30 observations, display the tuition of these observation.\n",
    "Calculate the average of these 30 observations\n",
    "Calculate the different between the average tuition of thes 10 observations and the average tuition (mean) off all observations above.\n",
    "Randomly select another 30 observations and repeat the above.\n",
    "Randomly select another 30 observation and repeat the above.\n",
    "\n",
    "Write a function that take an input x (number of observations). \n",
    "The function will perform the following:\n",
    "\n",
    "Randomly select x observations, display the tuition of these observations.\n",
    "Calculate the average of these x observations\n",
    "Calculate the different between the average tuition of these x observations and the average tuition (mean) off all observations above.\n",
    "Display the difference.\n",
    "<pre>\n"
   ]
  },
  {
   "cell_type": "code",
   "execution_count": 6,
   "metadata": {},
   "outputs": [],
   "source": [
    "# 1 - Import necessary libraries\n",
    "\n",
    "import matplotlib.pyplot as plt        #Import relevant libraries. Pandas for dataframes and ploty and matplotlib for visualization. Other libraries just in case.  \n",
    "import pandas as pd \n",
    "import numpy as np\n",
    "import math\n",
    "import scipy.stats as stats\n",
    "import numpy as np\n",
    "plt.rcParams['figure.figsize'] = 25, 12 #Increase general size for matplot.lib"
   ]
  },
  {
   "cell_type": "code",
   "execution_count": null,
   "metadata": {},
   "outputs": [],
   "source": [
    "# 2 - Retrieve the names of the 22 files and assign them to a List variable\n",
    "# You would need to filter out other files\n",
    "# Display the names of these 22 files"
   ]
  },
  {
   "cell_type": "code",
   "execution_count": 14,
   "metadata": {},
   "outputs": [
    {
     "data": {
      "text/plain": [
       "'MERGED1999_00_PP.csv'"
      ]
     },
     "execution_count": 14,
     "metadata": {},
     "output_type": "execute_result"
    }
   ],
   "source": [
    "# 3 - Write code to randomly select one file name out of the 22 files names. \n",
    "# Hint: generate a random integer between 0 and 21 first\n",
    "# Display the file name\n",
    "\n",
    "import os, random\n",
    "x=random.choice(os.listdir(\"CollegeScorecard_Raw_Data\")) #change dir name to whatever\")) #change dir name to whatever\n",
    "x "
   ]
  },
  {
   "cell_type": "code",
   "execution_count": null,
   "metadata": {},
   "outputs": [],
   "source": [
    "# 4 - Only read the two columns: college name (INSTNM) and in state tution (\"TUITIONFEE_IN\")\n",
    "# from this file into a data frame aand display use info() function to display a summary information"
   ]
  },
  {
   "cell_type": "code",
   "execution_count": null,
   "metadata": {},
   "outputs": [],
   "source": [
    "# 5 - Find out how many observations have missing value."
   ]
  },
  {
   "cell_type": "code",
   "execution_count": null,
   "metadata": {},
   "outputs": [],
   "source": [
    "# 6 - Drop those observations with missing value\n",
    "# Disaply the number of observations afterward"
   ]
  },
  {
   "cell_type": "code",
   "execution_count": null,
   "metadata": {},
   "outputs": [],
   "source": [
    "# 7 - Find out how many observations have 0 tution. "
   ]
  },
  {
   "cell_type": "code",
   "execution_count": null,
   "metadata": {},
   "outputs": [],
   "source": [
    "# 8 - Drop those observations with 0 tuition\n",
    "# Disaply the number of observations afterward"
   ]
  },
  {
   "cell_type": "code",
   "execution_count": null,
   "metadata": {},
   "outputs": [],
   "source": [
    "# 9 - Calculate and display the mean (average) of the tuitions of all the remaining observations "
   ]
  },
  {
   "cell_type": "code",
   "execution_count": null,
   "metadata": {},
   "outputs": [],
   "source": [
    "# 10 - Randomly select just 1 observation from the data frame.\n",
    "# Display the tuition of that observation. "
   ]
  },
  {
   "cell_type": "code",
   "execution_count": null,
   "metadata": {},
   "outputs": [],
   "source": [
    "# 11 - Calculate the different between the tuition of this observation and \n",
    "# the mean tuition off all observations calculated earlier.\n",
    "# Display the difference\n"
   ]
  },
  {
   "cell_type": "code",
   "execution_count": null,
   "metadata": {},
   "outputs": [],
   "source": [
    "# 12 - Repeat 10 to 11 several times get the feel of the size of the difference in means"
   ]
  },
  {
   "cell_type": "code",
   "execution_count": null,
   "metadata": {},
   "outputs": [],
   "source": [
    "# 13 - Randomly select 20 observations, display the tuition of these observation. "
   ]
  },
  {
   "cell_type": "code",
   "execution_count": null,
   "metadata": {},
   "outputs": [],
   "source": [
    "# 14 - Calculate and displat the mean tuition of these 20 observations"
   ]
  },
  {
   "cell_type": "code",
   "execution_count": null,
   "metadata": {},
   "outputs": [],
   "source": [
    "# 15 - Calculate  the different between the average tuition of these 20 observations \n",
    "# and the mean tuition off all observations calculated earlier.\n",
    "# Display the difference\n"
   ]
  },
  {
   "cell_type": "code",
   "execution_count": null,
   "metadata": {},
   "outputs": [],
   "source": [
    "# 16 - Repeat 13 to 15 several times and get the feel of the size of the difference in means \n",
    "# Compare these differences with the differences calculated earlier with just 1 observation\n",
    "# Describe your hunch/conclusion"
   ]
  },
  {
   "cell_type": "code",
   "execution_count": null,
   "metadata": {},
   "outputs": [],
   "source": [
    "Write a function that take two input parameters:\n",
    "- x (number of observations) \n",
    "- y (the name of the dataframe). \n",
    "\n",
    "The function will perform the following: \n",
    "- Randomly select x observations from y\n",
    "- Calculate the mean of these x observations \n",
    "- Calculate the mean of all observations\n",
    "- Calculate the difference between the two means \n",
    "- Return the difference"
   ]
  },
  {
   "cell_type": "code",
   "execution_count": null,
   "metadata": {},
   "outputs": [],
   "source": [
    "# 17 - write function Code here"
   ]
  },
  {
   "cell_type": "code",
   "execution_count": null,
   "metadata": {},
   "outputs": [],
   "source": [
    "# 18 - test the function by passing a sample size and the name of the dataframe\n",
    "# Dsplay the return of the function"
   ]
  },
  {
   "cell_type": "code",
   "execution_count": null,
   "metadata": {},
   "outputs": [],
   "source": [
    "# 19 - Create a list of sequence numbers from 1 to 50, name it \"sample_sizes\";\n",
    "# display it to make sure its members are from 1 to 50"
   ]
  },
  {
   "cell_type": "code",
   "execution_count": null,
   "metadata": {},
   "outputs": [],
   "source": [
    "# 20 - Create an empty list and name it \"means_diff\" for differences of population mean and sample means;\n",
    "# Loop through the list sample_sizes:\n",
    "# For each element in the sample size list, obtain a random sample of that size from the data frame;\n",
    "# Calculate the sample mean \n",
    "# Calculate the difference between the population mean and the sample mean\n",
    "# Append the difference to the list \"means_diff\"\n",
    "# Display the list \"means_diff\" after the loop is completed"
   ]
  },
  {
   "cell_type": "code",
   "execution_count": null,
   "metadata": {},
   "outputs": [],
   "source": [
    "# 21 - Make a scatter plot with sample size on the x-axs and  mean difference on the y-axis\n",
    "# Observe as the sample size increases, the sample means converge to the population mean.\n",
    "# Make sure you make the plot large enough"
   ]
  },
  {
   "cell_type": "code",
   "execution_count": null,
   "metadata": {},
   "outputs": [],
   "source": [
    "# 22 - repeat 18 to 21 by replacing 50 with a larger number. For example, 300, or even 1000.\n",
    "# and see how the plot looks."
   ]
  },
  {
   "cell_type": "code",
   "execution_count": null,
   "metadata": {},
   "outputs": [],
   "source": [
    "# The end - Give yourself a pat on the back!"
   ]
  },
  {
   "cell_type": "markdown",
   "metadata": {},
   "source": [
    "LINKS"
   ]
  },
  {
   "cell_type": "code",
   "execution_count": null,
   "metadata": {},
   "outputs": [],
   "source": [
    "https://stackoverflow.com/questions/701402/best-way-to-choose-a-random-file-from-a-directory"
   ]
  }
 ],
 "metadata": {
  "kernelspec": {
   "display_name": "Python 3",
   "language": "python",
   "name": "python3"
  },
  "language_info": {
   "codemirror_mode": {
    "name": "ipython",
    "version": 3
   },
   "file_extension": ".py",
   "mimetype": "text/x-python",
   "name": "python",
   "nbconvert_exporter": "python",
   "pygments_lexer": "ipython3",
   "version": "3.8.3"
  }
 },
 "nbformat": 4,
 "nbformat_minor": 4
}
