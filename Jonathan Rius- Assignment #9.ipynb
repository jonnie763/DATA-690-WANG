{
 "cells": [
  {
   "cell_type": "code",
   "execution_count": null,
   "metadata": {},
   "outputs": [],
   "source": [
    "### Assignment 8\n",
    "For this assignment , we will use the college scorecard dataset. \n",
    "<pre>\n",
    "From the 22 individual school year data files, randomly (using Python) select one file. \n",
    "Only read the column \"TUITIONFEE_IN\" frm this file into a data frame.\n",
    "Find out how many observations this data frame has.\n",
    "Find out how many observations that have missing value. Drop those observations.\n",
    "Find out how many observations that have value of zero. Drop those observations.\n",
    "Calculate the mean of the tuition.\n",
    "Randomly select one observation, find out the tuition of that observation.\n",
    "Calculate the different between the tuition of this observation and the average tuition (mean) off all observations above.\n",
    "Randomly select another observation and repeat the above.\n",
    "Randomly select another observation and repeat the above.\n",
    "Randomly select 5 observations, display the tuition of these observation.\n",
    "Calculate the average of these 5 observations\n",
    "Calculate the different between the average tuition of thes 5 observations and the average tuition (mean) off all observations above.\n",
    "Randomly select another 5 observations and repeat the above.\n",
    "Randomly select another 5 observation and repeat the above.\n",
    "\n",
    "Randomly select 10 observations, display the tuition of these observation.\n",
    "Calculate the average of these 10 observations\n",
    "Calculate the different between the average tuition of thes 10 observations and the average tuition (mean) off all observations above.\n",
    "Randomly select another 10 observations and repeat the above.\n",
    "Randomly select another 10 observation and repeat the above.\n",
    "\n",
    "\n",
    "Randomly select 20 observations, display the tuition of these observation.\n",
    "Calculate the average of these 20 observations\n",
    "Calculate the different between the average tuition of thes 10 observations and the average tuition (mean) off all observations above.\n",
    "Randomly select another 20 observations and repeat the above.\n",
    "Randomly select another 20 observation and repeat the above.\n",
    "\n",
    "Randomly select 30 observations, display the tuition of these observation.\n",
    "Calculate the average of these 30 observations\n",
    "Calculate the different between the average tuition of thes 10 observations and the average tuition (mean) off all observations above.\n",
    "Randomly select another 30 observations and repeat the above.\n",
    "Randomly select another 30 observation and repeat the above.\n",
    "\n",
    "Write a function that take an input x (number of observations). \n",
    "The function will perform the following:\n",
    "\n",
    "Randomly select x observations, display the tuition of these observations.\n",
    "Calculate the average of these x observations\n",
    "Calculate the different between the average tuition of these x observations and the average tuition (mean) off all observations above.\n",
    "Display the difference.\n",
    "<pre>\n"
   ]
  },
  {
   "cell_type": "code",
   "execution_count": null,
   "metadata": {},
   "outputs": [],
   "source": [
    "# 1 - Import necessary libraries\n",
    "\n"
   ]
  },
  {
   "cell_type": "code",
   "execution_count": null,
   "metadata": {},
   "outputs": [],
   "source": [
    "# 2 - Retrieve the names of the 22 files and assign them to a List variable\n",
    "# You would need to filter out other files\n",
    "# Display the names of these 22 files"
   ]
  },
  {
   "cell_type": "code",
   "execution_count": null,
   "metadata": {},
   "outputs": [],
   "source": [
    "# 3 - Write code to randomly select one file name out of the 22 files names. \n",
    "# Hint: generate a random integer between 0 and 21 first\n",
    "# Display the file name"
   ]
  },
  {
   "cell_type": "code",
   "execution_count": null,
   "metadata": {},
   "outputs": [],
   "source": [
    "# 4 - Only read the two columns: college name (INSTNM) and in state tution (\"TUITIONFEE_IN\")\n",
    "# from this file into a data frame aand display use info() function to display a summary information"
   ]
  },
  {
   "cell_type": "code",
   "execution_count": null,
   "metadata": {},
   "outputs": [],
   "source": [
    "# 5 - Find out how many observations have missing value."
   ]
  },
  {
   "cell_type": "code",
   "execution_count": null,
   "metadata": {},
   "outputs": [],
   "source": [
    "# 6 - Drop those observations with missing value\n",
    "# Disaply the number of observations afterward"
   ]
  },
  {
   "cell_type": "code",
   "execution_count": null,
   "metadata": {},
   "outputs": [],
   "source": [
    "# 7 - Find out how many observations have 0 tution. "
   ]
  },
  {
   "cell_type": "code",
   "execution_count": null,
   "metadata": {},
   "outputs": [],
   "source": [
    "# 8 - Drop those observations with 0 tuition\n",
    "# Disaply the number of observations afterward"
   ]
  },
  {
   "cell_type": "code",
   "execution_count": null,
   "metadata": {},
   "outputs": [],
   "source": [
    "# 9 - Calculate and display the mean (average) of the tuitions of all the remaining observations "
   ]
  },
  {
   "cell_type": "code",
   "execution_count": null,
   "metadata": {},
   "outputs": [],
   "source": [
    "# 10 - Randomly select just 1 observation from the data frame.\n",
    "# Display the tuition of that observation. "
   ]
  },
  {
   "cell_type": "code",
   "execution_count": null,
   "metadata": {},
   "outputs": [],
   "source": [
    "# 11 - Calculate the different between the tuition of this observation and \n",
    "# the mean tuition off all observations calculated earlier.\n",
    "# Display the difference\n"
   ]
  },
  {
   "cell_type": "code",
   "execution_count": null,
   "metadata": {},
   "outputs": [],
   "source": [
    "# 12 - Repeat 10 to 11 several times get the feel of the size of the difference in means"
   ]
  }
 ],
 "metadata": {
  "kernelspec": {
   "display_name": "Python 3",
   "language": "python",
   "name": "python3"
  },
  "language_info": {
   "codemirror_mode": {
    "name": "ipython",
    "version": 3
   },
   "file_extension": ".py",
   "mimetype": "text/x-python",
   "name": "python",
   "nbconvert_exporter": "python",
   "pygments_lexer": "ipython3",
   "version": "3.8.3"
  }
 },
 "nbformat": 4,
 "nbformat_minor": 4
}
