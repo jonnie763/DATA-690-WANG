{
  "nbformat": 4,
  "nbformat_minor": 0,
  "metadata": {
    "kernelspec": {
      "display_name": "Python 3",
      "language": "python",
      "name": "python3"
    },
    "language_info": {
      "codemirror_mode": {
        "name": "ipython",
        "version": 3
      },
      "file_extension": ".py",
      "mimetype": "text/x-python",
      "name": "python",
      "nbconvert_exporter": "python",
      "pygments_lexer": "ipython3",
      "version": "3.7.1"
    },
    "colab": {
      "name": "Jonathan Rius- Assignment 7.ipynb",
      "provenance": [],
      "collapsed_sections": [],
      "toc_visible": true,
      "include_colab_link": true
    }
  },
  "cells": [
    {
      "cell_type": "markdown",
      "metadata": {
        "id": "view-in-github",
        "colab_type": "text"
      },
      "source": [
        "<a href=\"https://colab.research.google.com/github/jonnie763/DATA-690-WANG/blob/master/Jonathan_Rius_Assignment_7.ipynb\" target=\"_parent\"><img src=\"https://colab.research.google.com/assets/colab-badge.svg\" alt=\"Open In Colab\"/></a>"
      ]
    },
    {
      "cell_type": "code",
      "metadata": {
        "id": "CfSasSG36zK1"
      },
      "source": [
        "# <1> \n",
        "# Import libraries\n",
        "\n",
        "import numpy as np\n",
        "import pandas as pd\n",
        "import matplotlib.pyplot as plt\n",
        "import os\n",
        "import math\n",
        "from zipfile import ZipFile"
      ],
      "execution_count": 1,
      "outputs": []
    },
    {
      "cell_type": "code",
      "metadata": {
        "id": "duwKxi1L6zK5",
        "outputId": "8a408513-5022-486a-9129-0ceab86b26c9",
        "colab": {
          "base_uri": "https://localhost:8080/",
          "height": 34
        }
      },
      "source": [
        "# <2> \n",
        "# Display the current workin directory using os.getcwd()\n",
        "import os    \n",
        "cwd = os.getcwd()      \n",
        "print(\"Current working directory is:\", cwd) "
      ],
      "execution_count": 2,
      "outputs": [
        {
          "output_type": "stream",
          "text": [
            "Current working directory is: /content\n"
          ],
          "name": "stdout"
        }
      ]
    },
    {
      "cell_type": "code",
      "metadata": {
        "id": "EJnRv9yO86jP",
        "outputId": "be902a8b-393b-4186-a0c9-cc27a37926a6",
        "colab": {
          "base_uri": "https://localhost:8080/",
          "height": 510
        }
      },
      "source": [
        "# <3> \n",
        "# os library has a method call listdir which generates a list of files in a directory/folder.\n",
        "\n",
        "zip_file = ZipFile(\"/content/CollegeScorecard_Raw_Data (1).zip\")\n",
        "\n",
        "zip_info = zip_file.infolist()\n",
        "\n",
        "file_names  =  zip_info\n",
        "\n",
        "file_names "
      ],
      "execution_count": 3,
      "outputs": [
        {
          "output_type": "execute_result",
          "data": {
            "text/plain": [
              "[<ZipInfo filename='CollegeScorecard_Raw_Data/' filemode='drwx------' external_attr=0x4000>,\n",
              " <ZipInfo filename='CollegeScorecard_Raw_Data/MERGED2011_12_PP.csv' compress_type=deflate filemode='-rwx------' external_attr=0x4000 file_size=156340506 compress_size=17584609>,\n",
              " <ZipInfo filename='CollegeScorecard_Raw_Data/MERGED1999_00_PP.csv' compress_type=deflate filemode='-rwx------' external_attr=0x4000 file_size=93679219 compress_size=6327662>,\n",
              " <ZipInfo filename='CollegeScorecard_Raw_Data/MERGED2006_07_PP.csv' compress_type=deflate filemode='-rwx------' external_attr=0x4000 file_size=138405206 compress_size=12150541>,\n",
              " <ZipInfo filename='CollegeScorecard_Raw_Data/MERGED2014_15_PP.csv' compress_type=deflate filemode='-rwx------' external_attr=0x4000 file_size=157501384 compress_size=18050691>,\n",
              " <ZipInfo filename='CollegeScorecard_Raw_Data/.DS_Store' compress_type=deflate filemode='-rw-r--r--' external_attr=0x4000 file_size=6148 compress_size=230>,\n",
              " <ZipInfo filename='CollegeScorecard_Raw_Data/MERGED2003_04_PP.csv' compress_type=deflate filemode='-rwx------' external_attr=0x4000 file_size=121936542 compress_size=10499404>,\n",
              " <ZipInfo filename='CollegeScorecard_Raw_Data/MERGED1996_97_PP.csv' compress_type=deflate filemode='-rwx------' external_attr=0x4000 file_size=65605910 compress_size=1386866>,\n",
              " <ZipInfo filename='CollegeScorecard_Raw_Data/FieldOfStudyData1516_1617_PP.csv' compress_type=deflate filemode='-rwx------' external_attr=0x4000 file_size=50905099 compress_size=4063827>,\n",
              " <ZipInfo filename='CollegeScorecard_Raw_Data/MERGED2012_13_PP.csv' compress_type=deflate filemode='-rwx------' external_attr=0x4000 file_size=158263118 compress_size=17838130>,\n",
              " <ZipInfo filename='CollegeScorecard_Raw_Data/MERGED2005_06_PP.csv' compress_type=deflate filemode='-rwx------' external_attr=0x4000 file_size=139083725 compress_size=12744139>,\n",
              " <ZipInfo filename='CollegeScorecard_Raw_Data/MERGED2009_10_PP.csv' compress_type=deflate filemode='-rwx------' external_attr=0x4000 file_size=146249656 compress_size=15573216>,\n",
              " <ZipInfo filename='CollegeScorecard_Raw_Data/MERGED2018_19_PP.csv' compress_type=deflate filemode='-rwx------' external_attr=0x4000 file_size=64798206 compress_size=4092168>,\n",
              " <ZipInfo filename='CollegeScorecard_Raw_Data/MERGED2017_18_PP.csv' compress_type=deflate filemode='-rwx------' external_attr=0x4000 file_size=67608877 compress_size=3510637>,\n",
              " <ZipInfo filename='CollegeScorecard_Raw_Data/Crosswalks.zip' compress_type=deflate filemode='-rw-r--r--' external_attr=0x4000 file_size=37415424 compress_size=37423667>,\n",
              " <ZipInfo filename='CollegeScorecard_Raw_Data/MERGED2000_01_PP.csv' compress_type=deflate filemode='-rwx------' external_attr=0x4000 file_size=106967021 compress_size=7168479>,\n",
              " <ZipInfo filename='CollegeScorecard_Raw_Data/MERGED2001_02_PP.csv' compress_type=deflate filemode='-rwx------' external_attr=0x4000 file_size=108761496 compress_size=8189681>,\n",
              " <ZipInfo filename='CollegeScorecard_Raw_Data/MERGED2016_17_PP.csv' compress_type=deflate filemode='-rwx------' external_attr=0x4000 file_size=154489286 compress_size=17152712>,\n",
              " <ZipInfo filename='CollegeScorecard_Raw_Data/MERGED1997_98_PP.csv' compress_type=deflate filemode='-rwx------' external_attr=0x4000 file_size=69331289 compress_size=3536969>,\n",
              " <ZipInfo filename='CollegeScorecard_Raw_Data/MERGED1998_99_PP.csv' compress_type=deflate filemode='-rwx------' external_attr=0x4000 file_size=80141166 compress_size=4377819>,\n",
              " <ZipInfo filename='CollegeScorecard_Raw_Data/data.yaml' compress_type=deflate filemode='-rw-r--r--' external_attr=0x4000 file_size=488655 compress_size=38132>,\n",
              " <ZipInfo filename='CollegeScorecard_Raw_Data/MERGED2004_05_PP.csv' compress_type=deflate filemode='-rwx------' external_attr=0x4000 file_size=134896400 compress_size=11249168>,\n",
              " <ZipInfo filename='CollegeScorecard_Raw_Data/MERGED2002_03_PP.csv' compress_type=deflate filemode='-rwx------' external_attr=0x4000 file_size=119952410 compress_size=9094002>,\n",
              " <ZipInfo filename='CollegeScorecard_Raw_Data/MERGED2015_16_PP.csv' compress_type=deflate filemode='-rwx------' external_attr=0x4000 file_size=153376733 compress_size=16922836>,\n",
              " <ZipInfo filename='CollegeScorecard_Raw_Data/MERGED2013_14_PP.csv' compress_type=deflate filemode='-rwx------' external_attr=0x4000 file_size=159032113 compress_size=18445771>,\n",
              " <ZipInfo filename='CollegeScorecard_Raw_Data/MERGED2007_08_PP.csv' compress_type=deflate filemode='-rwx------' external_attr=0x4000 file_size=140844023 compress_size=13659823>,\n",
              " <ZipInfo filename='CollegeScorecard_Raw_Data/MERGED2008_09_PP.csv' compress_type=deflate filemode='-rwx------' external_attr=0x4000 file_size=140748300 compress_size=13470177>,\n",
              " <ZipInfo filename='CollegeScorecard_Raw_Data/MERGED2010_11_PP.csv' compress_type=deflate filemode='-rwx------' external_attr=0x4000 file_size=149180897 compress_size=15579677>,\n",
              " <ZipInfo filename='CollegeScorecard_Raw_Data/FieldOfStudyData1415_1516_PP.csv' compress_type=deflate filemode='-rwx------' external_attr=0x4000 file_size=43569434 compress_size=3381088>]"
            ]
          },
          "metadata": {
            "tags": []
          },
          "execution_count": 3
        }
      ]
    },
    {
      "cell_type": "code",
      "metadata": {
        "id": "kpng2H7HCNel",
        "outputId": "8c1a2f46-c53f-4098-aba7-b8ac9ac3e888",
        "colab": {
          "base_uri": "https://localhost:8080/",
          "height": 34
        }
      },
      "source": [
        "len(file_names)"
      ],
      "execution_count": 4,
      "outputs": [
        {
          "output_type": "execute_result",
          "data": {
            "text/plain": [
              "29"
            ]
          },
          "metadata": {
            "tags": []
          },
          "execution_count": 4
        }
      ]
    },
    {
      "cell_type": "code",
      "metadata": {
        "id": "UCDRqtrf6zLL",
        "outputId": "7a975f58-f6b7-4762-e5b0-c101ebe60c3e",
        "colab": {
          "base_uri": "https://localhost:8080/",
          "height": 408
        }
      },
      "source": [
        "# <4> \n",
        "# The folder contains files that are not the yearly data files\n",
        "# write code to remove the unwanted files from the list vsriable \n",
        "\n",
        "zip_file = ZipFile(\"/content/CollegeScorecard_Raw_Data (1).zip\")\n",
        "\n",
        "zip_info = zip_file.infolist()\n",
        "\n",
        "file_names = [x.filename for x in zip_info if x.filename.startswith(\"CollegeScorecard_Raw_Data/MERGED\")]\n",
        "\n",
        "file_names\n",
        "\n"
      ],
      "execution_count": 30,
      "outputs": [
        {
          "output_type": "execute_result",
          "data": {
            "text/plain": [
              "['CollegeScorecard_Raw_Data/MERGED2011_12_PP.csv',\n",
              " 'CollegeScorecard_Raw_Data/MERGED1999_00_PP.csv',\n",
              " 'CollegeScorecard_Raw_Data/MERGED2006_07_PP.csv',\n",
              " 'CollegeScorecard_Raw_Data/MERGED2014_15_PP.csv',\n",
              " 'CollegeScorecard_Raw_Data/MERGED2003_04_PP.csv',\n",
              " 'CollegeScorecard_Raw_Data/MERGED1996_97_PP.csv',\n",
              " 'CollegeScorecard_Raw_Data/MERGED2012_13_PP.csv',\n",
              " 'CollegeScorecard_Raw_Data/MERGED2005_06_PP.csv',\n",
              " 'CollegeScorecard_Raw_Data/MERGED2009_10_PP.csv',\n",
              " 'CollegeScorecard_Raw_Data/MERGED2018_19_PP.csv',\n",
              " 'CollegeScorecard_Raw_Data/MERGED2017_18_PP.csv',\n",
              " 'CollegeScorecard_Raw_Data/MERGED2000_01_PP.csv',\n",
              " 'CollegeScorecard_Raw_Data/MERGED2001_02_PP.csv',\n",
              " 'CollegeScorecard_Raw_Data/MERGED2016_17_PP.csv',\n",
              " 'CollegeScorecard_Raw_Data/MERGED1997_98_PP.csv',\n",
              " 'CollegeScorecard_Raw_Data/MERGED1998_99_PP.csv',\n",
              " 'CollegeScorecard_Raw_Data/MERGED2004_05_PP.csv',\n",
              " 'CollegeScorecard_Raw_Data/MERGED2002_03_PP.csv',\n",
              " 'CollegeScorecard_Raw_Data/MERGED2015_16_PP.csv',\n",
              " 'CollegeScorecard_Raw_Data/MERGED2013_14_PP.csv',\n",
              " 'CollegeScorecard_Raw_Data/MERGED2007_08_PP.csv',\n",
              " 'CollegeScorecard_Raw_Data/MERGED2008_09_PP.csv',\n",
              " 'CollegeScorecard_Raw_Data/MERGED2010_11_PP.csv']"
            ]
          },
          "metadata": {
            "tags": []
          },
          "execution_count": 30
        }
      ]
    },
    {
      "cell_type": "code",
      "metadata": {
        "id": "eBxgB7xoCSTA",
        "outputId": "8544cd6c-7797-4b57-fcee-24a1f7d61699",
        "colab": {
          "base_uri": "https://localhost:8080/",
          "height": 34
        }
      },
      "source": [
        "len(file_names)"
      ],
      "execution_count": 6,
      "outputs": [
        {
          "output_type": "execute_result",
          "data": {
            "text/plain": [
              "23"
            ]
          },
          "metadata": {
            "tags": []
          },
          "execution_count": 6
        }
      ]
    },
    {
      "cell_type": "code",
      "metadata": {
        "id": "rtrB8C_R6zLS"
      },
      "source": [
        "# <5> \n",
        "# Now that you have a clean list of the yearly files, you want to loop through them\n",
        "# and read them into a dataframe one at a time. You only load six columns: \n",
        "# [\"UNITID\", \"INSTNM\", \"STABBR\", \"REGION\", \"ADM_RATE\", \"TUITIONFEE_IN\"].\n",
        "# You should use \"usecols\" option of Pandas to avoid reading unwanted columns.\n",
        "# You also want to add a new column call \"YEAR\" to differentiate the data frames from each other.\n",
        "# The YEAR variable should be yyyy format so tht you can convert them into integer.\n",
        "# if you use the format yyyy-yy (such as 1997-98 school year), you will not be able to convert them directly to integer\n",
        "# if you use scatter plot, the YEAR needs to be converted to integer or float. \n",
        "# \n",
        "# You would use an empty list and append the yearly dataframes to the list.\n",
        "# After all data files are loaded and appended to the list, you would use Pandas to concatenate them into a \n",
        "# new single data frame.\n",
        "# Note: this exercise incorporates many techques we learned before\n",
        "# - list (creating an empty, append an item to the list)\n",
        "# - for loop \n",
        "# - read only the needed columns from a file (using usecols option)\n",
        "# - add a new column to a data frame\n",
        "# - concatenate multiple dataframes into a single one\n",
        "# This exercise may appear a big challenging but it worths the effort. You will learn a lot and  love it. I promise.\n",
        "\n"
      ],
      "execution_count": null,
      "outputs": []
    },
    {
      "cell_type": "code",
      "metadata": {
        "id": "nfuSPuiYC4tS"
      },
      "source": [
        "for i in open(file_names):\n",
        "     pd.read_csv(i)"
      ],
      "execution_count": null,
      "outputs": []
    },
    {
      "cell_type": "code",
      "metadata": {
        "id": "mtiHw_sgHzKB"
      },
      "source": [
        "j=1\n",
        "for i in file_names:\n",
        "    df_j=pd.read_csv(i)\n",
        "    j+=1"
      ],
      "execution_count": null,
      "outputs": []
    },
    {
      "cell_type": "code",
      "metadata": {
        "id": "GXLloNW7HG2a"
      },
      "source": [
        "zip_file.open(file_names)"
      ],
      "execution_count": null,
      "outputs": []
    },
    {
      "cell_type": "markdown",
      "metadata": {
        "id": "kP1YvCi2ujk7"
      },
      "source": [
        "##LINKS"
      ]
    },
    {
      "cell_type": "markdown",
      "metadata": {
        "id": "S-UNibb5ApM8"
      },
      "source": [
        "https://github.com/wcj365/python-stats-dataviz/blob/master/code-snippets/zipfile.ipynb\n",
        "\n",
        "https://github.com/wcj365/python-stats-dataviz/blob/master/assignments/Assignment-07-wang.ipynb\n",
        "\n",
        "https://github.com/wcj365/python-stats-dataviz/blob/master/prep_notes/session_08.md\n",
        "\n",
        "https://www.dataquest.io/blog/pandas-concatenation-tutorial/ https://realpython.com/pandas-read-write-files/\n",
        "\n",
        "https://realpython.com/pandas-read-write-files/\n",
        "\n",
        "https://github.com/wcj365/python-stats-dataviz/blob/master/prep_notes/session_08.md\n",
        "\n",
        "https://www.earthdatascience.org/courses/intro-to-earth-data-science/write-efficient-python-code/loops/data-workflows-with-loops/\n",
        "\n",
        "https://www.programmer-books.com/wp-content/uploads/2019/04/Python-for-Data-Analysis-2nd-Edition.pdf\n",
        "\n",
        "http://anson.ucdavis.edu/~jsharpna/DSBook/unit1/cost_of_uni.html\n"
      ]
    },
    {
      "cell_type": "markdown",
      "metadata": {
        "id": "qLwBIcQqBQw1"
      },
      "source": [
        "##PRACTICE"
      ]
    },
    {
      "cell_type": "code",
      "metadata": {
        "id": "1wvOU3KP5jxz"
      },
      "source": [
        "df = pd. read_csv(FILE_PATH,file_names[1])"
      ],
      "execution_count": null,
      "outputs": []
    },
    {
      "cell_type": "code",
      "metadata": {
        "id": "S-tJVuGO593B"
      },
      "source": [
        "# <3> \n",
        "# os library has a method call listdir which generates a list of files in a directory/folder.\n",
        "# use this method to assign the contents (list of file names) of the data folder to a variable and display it.\n",
        "# # You can use ../ construct to traverse to the parent folder and then to another foloder parallel to the current folder\n",
        "# Python program to explain os.listdir() method  \n",
        "\n",
        "FILE_PATH = \"/content/CollegeScorecard_Raw_Data (1).zip\"\n",
        "file_names = os.listdir(FILE_PATH)\n",
        "file_names = [x for x in file_names if x.endswith(\".csv\")]\n",
        "file_names"
      ],
      "execution_count": null,
      "outputs": []
    },
    {
      "cell_type": "code",
      "metadata": {
        "id": "AMVhyRn667aJ"
      },
      "source": [
        "from zipfile import ZipFile\n",
        "\n",
        "zip_file = ZipFile('CollegeScorecard_Raw_Data (1).zip')\n",
        "dfs = {text_file.filename: pd.read_csv(zip_file.open(text_file.filename))\n",
        "       for text_file in zip_file.infolist()\n",
        "       if text_file.filename.endswith('.csv')}"
      ],
      "execution_count": null,
      "outputs": []
    },
    {
      "cell_type": "code",
      "metadata": {
        "id": "ftuvMWLU8Dgs",
        "outputId": "9b9da7c1-13ca-4e93-ba08-2041832792a1",
        "colab": {
          "base_uri": "https://localhost:8080/"
        }
      },
      "source": [
        "from zipfile import ZipFile \n",
        "import pandas as pd \n",
        "# opening the zip file in READ mode \n",
        "with ZipFile(\"CollegeScorecard_Raw_Data (1).zip\") as z:\n",
        "    read = pd.read_csv(z.open(z.infolist()[2].filename))\n",
        "    print(read)"
      ],
      "execution_count": null,
      "outputs": [
        {
          "output_type": "stream",
          "text": [
            "/usr/local/lib/python3.6/dist-packages/IPython/core/interactiveshell.py:2718: DtypeWarning: Columns (1) have mixed types.Specify dtype option on import or set low_memory=False.\n",
            "  interactivity=interactivity, compiler=compiler, result=result)\n"
          ],
          "name": "stderr"
        },
        {
          "output_type": "stream",
          "text": [
            "      UNITID     OPEID  ...  FTFTPCTFLOAN_POOLED_SUPP SCUGFFN_POOLED\n",
            "0     100654  00100200  ...                       NaN            NaN\n",
            "1     100663  00105200  ...                       NaN            NaN\n",
            "2     100690  02503400  ...                       NaN            NaN\n",
            "3     100706  00105500  ...                       NaN            NaN\n",
            "4     100724  00100500  ...                       NaN            NaN\n",
            "...      ...       ...  ...                       ...            ...\n",
            "6604  436784  03326300  ...                       NaN            NaN\n",
            "6605  436809  03361500  ...                       NaN            NaN\n",
            "6606  437042  02361102  ...                       NaN            NaN\n",
            "6607  437413  02253102  ...                       NaN            NaN\n",
            "6608  437431  00323902  ...                       NaN            NaN\n",
            "\n",
            "[6609 rows x 1986 columns]\n"
          ],
          "name": "stdout"
        }
      ]
    },
    {
      "cell_type": "code",
      "metadata": {
        "id": "5RPlkknEANOk",
        "outputId": "ec4b4ae9-5498-4847-ced6-15f68f1fbeab",
        "colab": {
          "base_uri": "https://localhost:8080/",
          "height": 419
        }
      },
      "source": [
        "df[[\"UNITID\", \"INSTNM\",\"CITY\", \"STABBR\", \"ZIP\", \"ADM_RATE\", \"UGDS\", \"TUITIONFEE_IN\", \"MN_EARN_WNE_P10\" ]]"
      ],
      "execution_count": null,
      "outputs": [
        {
          "output_type": "execute_result",
          "data": {
            "text/html": [
              "<div>\n",
              "<style scoped>\n",
              "    .dataframe tbody tr th:only-of-type {\n",
              "        vertical-align: middle;\n",
              "    }\n",
              "\n",
              "    .dataframe tbody tr th {\n",
              "        vertical-align: top;\n",
              "    }\n",
              "\n",
              "    .dataframe thead th {\n",
              "        text-align: right;\n",
              "    }\n",
              "</style>\n",
              "<table border=\"1\" class=\"dataframe\">\n",
              "  <thead>\n",
              "    <tr style=\"text-align: right;\">\n",
              "      <th></th>\n",
              "      <th>UNITID</th>\n",
              "      <th>INSTNM</th>\n",
              "      <th>CITY</th>\n",
              "      <th>STABBR</th>\n",
              "      <th>ZIP</th>\n",
              "      <th>ADM_RATE</th>\n",
              "      <th>UGDS</th>\n",
              "      <th>TUITIONFEE_IN</th>\n",
              "      <th>MN_EARN_WNE_P10</th>\n",
              "    </tr>\n",
              "  </thead>\n",
              "  <tbody>\n",
              "    <tr>\n",
              "      <th>0</th>\n",
              "      <td>100654</td>\n",
              "      <td>Alabama A &amp; M University</td>\n",
              "      <td>Normal</td>\n",
              "      <td>AL</td>\n",
              "      <td>35762</td>\n",
              "      <td>0.5010</td>\n",
              "      <td>4112.0</td>\n",
              "      <td>6828.0</td>\n",
              "      <td>35300</td>\n",
              "    </tr>\n",
              "    <tr>\n",
              "      <th>1</th>\n",
              "      <td>100663</td>\n",
              "      <td>University of Alabama at Birmingham</td>\n",
              "      <td>Birmingham</td>\n",
              "      <td>AL</td>\n",
              "      <td>35294-0110</td>\n",
              "      <td>0.7223</td>\n",
              "      <td>10854.0</td>\n",
              "      <td>6264.0</td>\n",
              "      <td>46300</td>\n",
              "    </tr>\n",
              "    <tr>\n",
              "      <th>2</th>\n",
              "      <td>100690</td>\n",
              "      <td>Amridge University</td>\n",
              "      <td>Montgomery</td>\n",
              "      <td>AL</td>\n",
              "      <td>36117-3553</td>\n",
              "      <td>NaN</td>\n",
              "      <td>360.0</td>\n",
              "      <td>8720.0</td>\n",
              "      <td>42100</td>\n",
              "    </tr>\n",
              "    <tr>\n",
              "      <th>3</th>\n",
              "      <td>100706</td>\n",
              "      <td>University of Alabama in Huntsville</td>\n",
              "      <td>Huntsville</td>\n",
              "      <td>AL</td>\n",
              "      <td>35899</td>\n",
              "      <td>0.6368</td>\n",
              "      <td>5755.0</td>\n",
              "      <td>8094.0</td>\n",
              "      <td>52700</td>\n",
              "    </tr>\n",
              "    <tr>\n",
              "      <th>4</th>\n",
              "      <td>100724</td>\n",
              "      <td>Alabama State University</td>\n",
              "      <td>Montgomery</td>\n",
              "      <td>AL</td>\n",
              "      <td>36104-0271</td>\n",
              "      <td>0.5080</td>\n",
              "      <td>4719.0</td>\n",
              "      <td>8082.0</td>\n",
              "      <td>30700</td>\n",
              "    </tr>\n",
              "    <tr>\n",
              "      <th>...</th>\n",
              "      <td>...</td>\n",
              "      <td>...</td>\n",
              "      <td>...</td>\n",
              "      <td>...</td>\n",
              "      <td>...</td>\n",
              "      <td>...</td>\n",
              "      <td>...</td>\n",
              "      <td>...</td>\n",
              "      <td>...</td>\n",
              "    </tr>\n",
              "    <tr>\n",
              "      <th>7741</th>\n",
              "      <td>45920401</td>\n",
              "      <td>Unitek College</td>\n",
              "      <td>Fremont</td>\n",
              "      <td>CA</td>\n",
              "      <td>945383185</td>\n",
              "      <td>NaN</td>\n",
              "      <td>NaN</td>\n",
              "      <td>17192.0</td>\n",
              "      <td>NaN</td>\n",
              "    </tr>\n",
              "    <tr>\n",
              "      <th>7742</th>\n",
              "      <td>46163401</td>\n",
              "      <td>Twin Rivers Adult School - Grand Avenue Center</td>\n",
              "      <td>Sacramento</td>\n",
              "      <td>CA</td>\n",
              "      <td>95838-3654</td>\n",
              "      <td>NaN</td>\n",
              "      <td>NaN</td>\n",
              "      <td>NaN</td>\n",
              "      <td>NaN</td>\n",
              "    </tr>\n",
              "    <tr>\n",
              "      <th>7743</th>\n",
              "      <td>46163402</td>\n",
              "      <td>Twin Rivers Adult School - Arnold Avenue Center</td>\n",
              "      <td>McClellan</td>\n",
              "      <td>CA</td>\n",
              "      <td>956521025</td>\n",
              "      <td>NaN</td>\n",
              "      <td>NaN</td>\n",
              "      <td>NaN</td>\n",
              "      <td>NaN</td>\n",
              "    </tr>\n",
              "    <tr>\n",
              "      <th>7744</th>\n",
              "      <td>46163403</td>\n",
              "      <td>Greater Sacramento Urban League</td>\n",
              "      <td>Sacramento</td>\n",
              "      <td>CA</td>\n",
              "      <td>958383738</td>\n",
              "      <td>NaN</td>\n",
              "      <td>NaN</td>\n",
              "      <td>NaN</td>\n",
              "      <td>NaN</td>\n",
              "    </tr>\n",
              "    <tr>\n",
              "      <th>7745</th>\n",
              "      <td>46163404</td>\n",
              "      <td>I-TAP</td>\n",
              "      <td>Sacramento</td>\n",
              "      <td>CA</td>\n",
              "      <td>95841-2989</td>\n",
              "      <td>NaN</td>\n",
              "      <td>NaN</td>\n",
              "      <td>NaN</td>\n",
              "      <td>NaN</td>\n",
              "    </tr>\n",
              "  </tbody>\n",
              "</table>\n",
              "<p>7746 rows × 9 columns</p>\n",
              "</div>"
            ],
            "text/plain": [
              "        UNITID  ... MN_EARN_WNE_P10\n",
              "0       100654  ...           35300\n",
              "1       100663  ...           46300\n",
              "2       100690  ...           42100\n",
              "3       100706  ...           52700\n",
              "4       100724  ...           30700\n",
              "...        ...  ...             ...\n",
              "7741  45920401  ...             NaN\n",
              "7742  46163401  ...             NaN\n",
              "7743  46163402  ...             NaN\n",
              "7744  46163403  ...             NaN\n",
              "7745  46163404  ...             NaN\n",
              "\n",
              "[7746 rows x 9 columns]"
            ]
          },
          "metadata": {
            "tags": []
          },
          "execution_count": 35
        }
      ]
    },
    {
      "cell_type": "code",
      "metadata": {
        "id": "1GLxlVMf-Fj3",
        "outputId": "7c3c6160-c6ea-41a8-cd7d-50915a03c509",
        "colab": {
          "base_uri": "https://localhost:8080/",
          "height": 473
        }
      },
      "source": [
        "df = pd.read_csv(zip_file.open(file_names[0]))\n",
        "df[[\"UNITID\", \"INSTNM\",\"CITY\", \"STABBR\", \"ZIP\", \"ADM_RATE\", \"UGDS\", \"TUITIONFEE_IN\", \"MN_EARN_WNE_P10\" ]]"
      ],
      "execution_count": 19,
      "outputs": [
        {
          "output_type": "stream",
          "text": [
            "/usr/local/lib/python3.6/dist-packages/IPython/core/interactiveshell.py:2718: DtypeWarning: Columns (1433,1447,1537,1540,1542,1547,1553,1554,1559,1560,1606,1614,1615,1636,1637,1638,1639,1640,1641,1642,1643,1644,1645,1646,1647,1648,1649,1650,1651,1652,1653,1658,1659,1729,1909,1910,1911,1912,1913) have mixed types.Specify dtype option on import or set low_memory=False.\n",
            "  interactivity=interactivity, compiler=compiler, result=result)\n"
          ],
          "name": "stderr"
        },
        {
          "output_type": "execute_result",
          "data": {
            "text/html": [
              "<div>\n",
              "<style scoped>\n",
              "    .dataframe tbody tr th:only-of-type {\n",
              "        vertical-align: middle;\n",
              "    }\n",
              "\n",
              "    .dataframe tbody tr th {\n",
              "        vertical-align: top;\n",
              "    }\n",
              "\n",
              "    .dataframe thead th {\n",
              "        text-align: right;\n",
              "    }\n",
              "</style>\n",
              "<table border=\"1\" class=\"dataframe\">\n",
              "  <thead>\n",
              "    <tr style=\"text-align: right;\">\n",
              "      <th></th>\n",
              "      <th>UNITID</th>\n",
              "      <th>INSTNM</th>\n",
              "      <th>CITY</th>\n",
              "      <th>STABBR</th>\n",
              "      <th>ZIP</th>\n",
              "      <th>ADM_RATE</th>\n",
              "      <th>UGDS</th>\n",
              "      <th>TUITIONFEE_IN</th>\n",
              "      <th>MN_EARN_WNE_P10</th>\n",
              "    </tr>\n",
              "  </thead>\n",
              "  <tbody>\n",
              "    <tr>\n",
              "      <th>0</th>\n",
              "      <td>100654</td>\n",
              "      <td>Alabama A &amp; M University</td>\n",
              "      <td>Normal</td>\n",
              "      <td>AL</td>\n",
              "      <td>35762</td>\n",
              "      <td>0.5010</td>\n",
              "      <td>4112.0</td>\n",
              "      <td>6828.0</td>\n",
              "      <td>35300</td>\n",
              "    </tr>\n",
              "    <tr>\n",
              "      <th>1</th>\n",
              "      <td>100663</td>\n",
              "      <td>University of Alabama at Birmingham</td>\n",
              "      <td>Birmingham</td>\n",
              "      <td>AL</td>\n",
              "      <td>35294-0110</td>\n",
              "      <td>0.7223</td>\n",
              "      <td>10854.0</td>\n",
              "      <td>6264.0</td>\n",
              "      <td>46300</td>\n",
              "    </tr>\n",
              "    <tr>\n",
              "      <th>2</th>\n",
              "      <td>100690</td>\n",
              "      <td>Amridge University</td>\n",
              "      <td>Montgomery</td>\n",
              "      <td>AL</td>\n",
              "      <td>36117-3553</td>\n",
              "      <td>NaN</td>\n",
              "      <td>360.0</td>\n",
              "      <td>8720.0</td>\n",
              "      <td>42100</td>\n",
              "    </tr>\n",
              "    <tr>\n",
              "      <th>3</th>\n",
              "      <td>100706</td>\n",
              "      <td>University of Alabama in Huntsville</td>\n",
              "      <td>Huntsville</td>\n",
              "      <td>AL</td>\n",
              "      <td>35899</td>\n",
              "      <td>0.6368</td>\n",
              "      <td>5755.0</td>\n",
              "      <td>8094.0</td>\n",
              "      <td>52700</td>\n",
              "    </tr>\n",
              "    <tr>\n",
              "      <th>4</th>\n",
              "      <td>100724</td>\n",
              "      <td>Alabama State University</td>\n",
              "      <td>Montgomery</td>\n",
              "      <td>AL</td>\n",
              "      <td>36104-0271</td>\n",
              "      <td>0.5080</td>\n",
              "      <td>4719.0</td>\n",
              "      <td>8082.0</td>\n",
              "      <td>30700</td>\n",
              "    </tr>\n",
              "    <tr>\n",
              "      <th>...</th>\n",
              "      <td>...</td>\n",
              "      <td>...</td>\n",
              "      <td>...</td>\n",
              "      <td>...</td>\n",
              "      <td>...</td>\n",
              "      <td>...</td>\n",
              "      <td>...</td>\n",
              "      <td>...</td>\n",
              "      <td>...</td>\n",
              "    </tr>\n",
              "    <tr>\n",
              "      <th>7741</th>\n",
              "      <td>45920401</td>\n",
              "      <td>Unitek College</td>\n",
              "      <td>Fremont</td>\n",
              "      <td>CA</td>\n",
              "      <td>945383185</td>\n",
              "      <td>NaN</td>\n",
              "      <td>NaN</td>\n",
              "      <td>17192.0</td>\n",
              "      <td>NaN</td>\n",
              "    </tr>\n",
              "    <tr>\n",
              "      <th>7742</th>\n",
              "      <td>46163401</td>\n",
              "      <td>Twin Rivers Adult School - Grand Avenue Center</td>\n",
              "      <td>Sacramento</td>\n",
              "      <td>CA</td>\n",
              "      <td>95838-3654</td>\n",
              "      <td>NaN</td>\n",
              "      <td>NaN</td>\n",
              "      <td>NaN</td>\n",
              "      <td>NaN</td>\n",
              "    </tr>\n",
              "    <tr>\n",
              "      <th>7743</th>\n",
              "      <td>46163402</td>\n",
              "      <td>Twin Rivers Adult School - Arnold Avenue Center</td>\n",
              "      <td>McClellan</td>\n",
              "      <td>CA</td>\n",
              "      <td>956521025</td>\n",
              "      <td>NaN</td>\n",
              "      <td>NaN</td>\n",
              "      <td>NaN</td>\n",
              "      <td>NaN</td>\n",
              "    </tr>\n",
              "    <tr>\n",
              "      <th>7744</th>\n",
              "      <td>46163403</td>\n",
              "      <td>Greater Sacramento Urban League</td>\n",
              "      <td>Sacramento</td>\n",
              "      <td>CA</td>\n",
              "      <td>958383738</td>\n",
              "      <td>NaN</td>\n",
              "      <td>NaN</td>\n",
              "      <td>NaN</td>\n",
              "      <td>NaN</td>\n",
              "    </tr>\n",
              "    <tr>\n",
              "      <th>7745</th>\n",
              "      <td>46163404</td>\n",
              "      <td>I-TAP</td>\n",
              "      <td>Sacramento</td>\n",
              "      <td>CA</td>\n",
              "      <td>95841-2989</td>\n",
              "      <td>NaN</td>\n",
              "      <td>NaN</td>\n",
              "      <td>NaN</td>\n",
              "      <td>NaN</td>\n",
              "    </tr>\n",
              "  </tbody>\n",
              "</table>\n",
              "<p>7746 rows × 9 columns</p>\n",
              "</div>"
            ],
            "text/plain": [
              "        UNITID  ... MN_EARN_WNE_P10\n",
              "0       100654  ...           35300\n",
              "1       100663  ...           46300\n",
              "2       100690  ...           42100\n",
              "3       100706  ...           52700\n",
              "4       100724  ...           30700\n",
              "...        ...  ...             ...\n",
              "7741  45920401  ...             NaN\n",
              "7742  46163401  ...             NaN\n",
              "7743  46163402  ...             NaN\n",
              "7744  46163403  ...             NaN\n",
              "7745  46163404  ...             NaN\n",
              "\n",
              "[7746 rows x 9 columns]"
            ]
          },
          "metadata": {
            "tags": []
          },
          "execution_count": 19
        }
      ]
    },
    {
      "cell_type": "code",
      "metadata": {
        "id": "qFz9o4CIC3y_",
        "outputId": "8bfeb93d-bdd8-49f0-eb90-93901d1293ea",
        "colab": {
          "base_uri": "https://localhost:8080/",
          "height": 419
        }
      },
      "source": [
        "df[[\"UNITID\", \"INSTNM\",\"CITY\", \"STABBR\", \"ZIP\", \"ADM_RATE\", \"UGDS\", \"TUITIONFEE_IN\", \"MN_EARN_WNE_P10\" ]]"
      ],
      "execution_count": null,
      "outputs": [
        {
          "output_type": "execute_result",
          "data": {
            "text/html": [
              "<div>\n",
              "<style scoped>\n",
              "    .dataframe tbody tr th:only-of-type {\n",
              "        vertical-align: middle;\n",
              "    }\n",
              "\n",
              "    .dataframe tbody tr th {\n",
              "        vertical-align: top;\n",
              "    }\n",
              "\n",
              "    .dataframe thead th {\n",
              "        text-align: right;\n",
              "    }\n",
              "</style>\n",
              "<table border=\"1\" class=\"dataframe\">\n",
              "  <thead>\n",
              "    <tr style=\"text-align: right;\">\n",
              "      <th></th>\n",
              "      <th>UNITID</th>\n",
              "      <th>INSTNM</th>\n",
              "      <th>CITY</th>\n",
              "      <th>STABBR</th>\n",
              "      <th>ZIP</th>\n",
              "      <th>ADM_RATE</th>\n",
              "      <th>UGDS</th>\n",
              "      <th>TUITIONFEE_IN</th>\n",
              "      <th>MN_EARN_WNE_P10</th>\n",
              "    </tr>\n",
              "  </thead>\n",
              "  <tbody>\n",
              "    <tr>\n",
              "      <th>0</th>\n",
              "      <td>100636</td>\n",
              "      <td>Community College of the Air Force</td>\n",
              "      <td>Montgomery</td>\n",
              "      <td>AL</td>\n",
              "      <td>36114-3011</td>\n",
              "      <td>NaN</td>\n",
              "      <td>0.0</td>\n",
              "      <td>NaN</td>\n",
              "      <td>NaN</td>\n",
              "    </tr>\n",
              "    <tr>\n",
              "      <th>1</th>\n",
              "      <td>100654</td>\n",
              "      <td>Alabama A &amp; M University</td>\n",
              "      <td>Normal</td>\n",
              "      <td>AL</td>\n",
              "      <td>35762</td>\n",
              "      <td>0.4199</td>\n",
              "      <td>5029.0</td>\n",
              "      <td>4420.0</td>\n",
              "      <td>NaN</td>\n",
              "    </tr>\n",
              "    <tr>\n",
              "      <th>2</th>\n",
              "      <td>100663</td>\n",
              "      <td>University of Alabama at Birmingham</td>\n",
              "      <td>Birmingham</td>\n",
              "      <td>AL</td>\n",
              "      <td>35294-0110</td>\n",
              "      <td>0.8769</td>\n",
              "      <td>11060.0</td>\n",
              "      <td>4792.0</td>\n",
              "      <td>NaN</td>\n",
              "    </tr>\n",
              "    <tr>\n",
              "      <th>3</th>\n",
              "      <td>100690</td>\n",
              "      <td>Amridge University</td>\n",
              "      <td>Montgomery</td>\n",
              "      <td>AL</td>\n",
              "      <td>36117-3553</td>\n",
              "      <td>NaN</td>\n",
              "      <td>371.0</td>\n",
              "      <td>10400.0</td>\n",
              "      <td>NaN</td>\n",
              "    </tr>\n",
              "    <tr>\n",
              "      <th>4</th>\n",
              "      <td>100706</td>\n",
              "      <td>University of Alabama in Huntsville</td>\n",
              "      <td>Huntsville</td>\n",
              "      <td>AL</td>\n",
              "      <td>35899</td>\n",
              "      <td>0.8716</td>\n",
              "      <td>5232.0</td>\n",
              "      <td>4688.0</td>\n",
              "      <td>NaN</td>\n",
              "    </tr>\n",
              "    <tr>\n",
              "      <th>...</th>\n",
              "      <td>...</td>\n",
              "      <td>...</td>\n",
              "      <td>...</td>\n",
              "      <td>...</td>\n",
              "      <td>...</td>\n",
              "      <td>...</td>\n",
              "      <td>...</td>\n",
              "      <td>...</td>\n",
              "      <td>...</td>\n",
              "    </tr>\n",
              "    <tr>\n",
              "      <th>6894</th>\n",
              "      <td>43821203</td>\n",
              "      <td>McCann School of Business &amp; Technology</td>\n",
              "      <td>Dickson City</td>\n",
              "      <td>PA</td>\n",
              "      <td>18519</td>\n",
              "      <td>NaN</td>\n",
              "      <td>NaN</td>\n",
              "      <td>8928.0</td>\n",
              "      <td>NaN</td>\n",
              "    </tr>\n",
              "    <tr>\n",
              "      <th>6895</th>\n",
              "      <td>44098901</td>\n",
              "      <td>Texas Barber College - Branch Campus #1</td>\n",
              "      <td>Dallas</td>\n",
              "      <td>TX</td>\n",
              "      <td>75241</td>\n",
              "      <td>NaN</td>\n",
              "      <td>NaN</td>\n",
              "      <td>NaN</td>\n",
              "      <td>NaN</td>\n",
              "    </tr>\n",
              "    <tr>\n",
              "      <th>6896</th>\n",
              "      <td>44098902</td>\n",
              "      <td>Texas Barber College - Branch Campus #2</td>\n",
              "      <td>Dallas</td>\n",
              "      <td>TX</td>\n",
              "      <td>75228</td>\n",
              "      <td>NaN</td>\n",
              "      <td>NaN</td>\n",
              "      <td>NaN</td>\n",
              "      <td>NaN</td>\n",
              "    </tr>\n",
              "    <tr>\n",
              "      <th>6897</th>\n",
              "      <td>44098903</td>\n",
              "      <td>Texas Barber Colleges and Hairstyling Schools ...</td>\n",
              "      <td>Houston</td>\n",
              "      <td>TX</td>\n",
              "      <td>77063</td>\n",
              "      <td>NaN</td>\n",
              "      <td>NaN</td>\n",
              "      <td>NaN</td>\n",
              "      <td>NaN</td>\n",
              "    </tr>\n",
              "    <tr>\n",
              "      <th>6898</th>\n",
              "      <td>44098904</td>\n",
              "      <td>Texas Barber College - Branch Campus #5</td>\n",
              "      <td>Houston</td>\n",
              "      <td>TX</td>\n",
              "      <td>77022</td>\n",
              "      <td>NaN</td>\n",
              "      <td>NaN</td>\n",
              "      <td>NaN</td>\n",
              "      <td>NaN</td>\n",
              "    </tr>\n",
              "  </tbody>\n",
              "</table>\n",
              "<p>6899 rows × 9 columns</p>\n",
              "</div>"
            ],
            "text/plain": [
              "        UNITID  ... MN_EARN_WNE_P10\n",
              "0       100636  ...             NaN\n",
              "1       100654  ...             NaN\n",
              "2       100663  ...             NaN\n",
              "3       100690  ...             NaN\n",
              "4       100706  ...             NaN\n",
              "...        ...  ...             ...\n",
              "6894  43821203  ...             NaN\n",
              "6895  44098901  ...             NaN\n",
              "6896  44098902  ...             NaN\n",
              "6897  44098903  ...             NaN\n",
              "6898  44098904  ...             NaN\n",
              "\n",
              "[6899 rows x 9 columns]"
            ]
          },
          "metadata": {
            "tags": []
          },
          "execution_count": 37
        }
      ]
    },
    {
      "cell_type": "code",
      "metadata": {
        "id": "a9QAFDKfsiUQ"
      },
      "source": [
        "df = pd.read_csv(zip_file.open(file_names[1])\n",
        "df[[\"UNITID\", \"INSTNM\",\"CITY\", \"STABBR\", \"ZIP\", \"ADM_RATE\", \"UGDS\", \"TUITIONFEE_IN\", \"MN_EARN_WNE_P10\" ]]"
      ],
      "execution_count": null,
      "outputs": []
    },
    {
      "cell_type": "code",
      "metadata": {
        "id": "FZSiA43v5S4u"
      },
      "source": [
        "# Nesting for loops\n",
        "for a_dir in all_dirs:\n",
        "    dir_path = os.path.join(a_dir, \"*\")\n",
        "    all_file_paths = (glob(dir_path))\n",
        "    # Create a nested loop which loops through each directory\n",
        "    for a_file_path in all_file_paths:\n",
        "        print(a_file_path)"
      ],
      "execution_count": null,
      "outputs": []
    },
    {
      "cell_type": "code",
      "metadata": {
        "id": "P58Lktdz7qX5"
      },
      "source": [
        "# Create a list outside of the for loop to store data\n",
        "all_df = []\n",
        "\n",
        "for a_dir in all_dirs:\n",
        "    dir_path = os.path.join(a_dir, \"*\")\n",
        "    all_file_paths = (glob(dir_path))\n",
        "    for a_file_path in all_file_paths:\n",
        "        temp_data_df = pd.read_csv(a_file_path)\n",
        "        # Append the data to the list you made to prevent it from being overwritten\n",
        "        all_df.append(temp_data_df)\n",
        "\n",
        "# Combine all the dataframes stored in the all_df list into one pandas dataframe\n",
        "pd.concat(all_df)"
      ],
      "execution_count": null,
      "outputs": []
    },
    {
      "cell_type": "code",
      "metadata": {
        "id": "vRxpYoGlDd_4"
      },
      "source": [
        "north_america = pd.read_csv(\"/content/CollegeScorecard_Raw_Data (1).zip\", index_col=0)"
      ],
      "execution_count": null,
      "outputs": []
    }
  ]
}