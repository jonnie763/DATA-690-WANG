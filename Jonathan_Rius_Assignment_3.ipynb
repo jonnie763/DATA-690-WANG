{
  "nbformat": 4,
  "nbformat_minor": 0,
  "metadata": {
    "colab": {
      "name": "Jonathan Rius Assignment #3.ipynb",
      "provenance": [],
      "authorship_tag": "ABX9TyMyx4Lb+DCcthsXN2xW81RC",
      "include_colab_link": true
    },
    "kernelspec": {
      "name": "python3",
      "display_name": "Python 3"
    }
  },
  "cells": [
    {
      "cell_type": "markdown",
      "metadata": {
        "id": "view-in-github",
        "colab_type": "text"
      },
      "source": [
        "<a href=\"https://colab.research.google.com/github/jonnie763/DATA-690-WANG/blob/master/Jonathan_Rius_Assignment_3.ipynb\" target=\"_parent\"><img src=\"https://colab.research.google.com/assets/colab-badge.svg\" alt=\"Open In Colab\"/></a>"
      ]
    },
    {
      "cell_type": "markdown",
      "metadata": {
        "id": "9P2oIqjTKRtV",
        "colab_type": "text"
      },
      "source": [
        "*Write a program that generates 100 random integers between 0 and 9.*\n",
        "\n",
        "**1. Print them in a 10 by 10 matrix neatly arranged like the following (one space between each number)**\n",
        "\n",
        "**2.If the random number is an odd number, print \"@\" instead. like the following**\n",
        "\n",
        "**3.Calculate and Print the total of each row like the following (use \"*\" to separate the total from the numbers)**"
      ]
    },
    {
      "cell_type": "code",
      "metadata": {
        "id": "nnYqvEhnKfZU",
        "colab_type": "code",
        "colab": {
          "base_uri": "https://localhost:8080/",
          "height": 187
        },
        "outputId": "9f53eccd-189c-4152-a753-4f85c6653bed"
      },
      "source": [
        "\n",
        "import random\n",
        "x = []\n",
        "for i in range(10):\n",
        "    x.append(random.randint(0,9))     \n",
        "print(x,\"*\",sum(x))\n",
        "sum(x)\n",
        "x = []\n",
        "for i in range(10):\n",
        "    x.append(random.randint(0,9))     \n",
        "print(x,\"*\",sum(x))\n",
        "x = []\n",
        "for i in range(10):\n",
        "    x.append(random.randint(0,9))     \n",
        "print(x,\"*\",sum(x))\n",
        "x = []\n",
        "for i in range(10):\n",
        "    x.append(random.randint(0,9))     \n",
        "print(x,\"*\",sum(x))\n",
        "x = []\n",
        "for i in range(10):\n",
        "    x.append(random.randint(0,9))     \n",
        "print(x,\"*\",sum(x))\n",
        "x = []\n",
        "for i in range(10):\n",
        "    x.append(random.randint(0,9))     \n",
        "print(x,\"*\",sum(x))\n",
        "x = []\n",
        "for i in range(10):\n",
        "    x.append(random.randint(0,9))     \n",
        "print(x,\"*\",sum(x))\n",
        "x = []\n",
        "for i in range(10):\n",
        "    x.append(random.randint(0,9))     \n",
        "print(x,\"*\",sum(x))\n",
        "x = []\n",
        "for i in range(10):\n",
        "    x.append(random.randint(0,9))     \n",
        "print(x,\"*\",sum(x))\n",
        "x = []\n",
        "for i in range(10):\n",
        "    x.append(random.randint(0,9))     \n",
        "print(x,\"*\",sum(x))"
      ],
      "execution_count": 3,
      "outputs": [
        {
          "output_type": "stream",
          "text": [
            "[0, 4, 0, 9, 0, 1, 6, 4, 9, 1] * 34\n",
            "[8, 2, 0, 5, 5, 4, 5, 7, 4, 6] * 46\n",
            "[4, 7, 3, 2, 0, 3, 7, 2, 9, 8] * 45\n",
            "[1, 4, 5, 9, 9, 1, 6, 9, 9, 8] * 61\n",
            "[8, 1, 3, 3, 0, 9, 9, 9, 2, 4] * 48\n",
            "[4, 0, 9, 7, 0, 6, 5, 4, 0, 2] * 37\n",
            "[6, 7, 1, 7, 1, 8, 7, 8, 1, 4] * 50\n",
            "[6, 7, 4, 4, 9, 8, 4, 1, 8, 5] * 56\n",
            "[5, 4, 6, 4, 7, 6, 9, 2, 7, 9] * 59\n",
            "[1, 1, 2, 1, 5, 7, 8, 3, 2, 1] * 31\n"
          ],
          "name": "stdout"
        }
      ]
    },
    {
      "cell_type": "code",
      "metadata": {
        "id": "ZupQ6dP5LP_3",
        "colab_type": "code",
        "colab": {
          "base_uri": "https://localhost:8080/",
          "height": 1000
        },
        "outputId": "413775a9-5477-4f4d-c900-385e722bbc61"
      },
      "source": [
        "import random\n",
        "x=[]\n",
        "for i in range(100):\n",
        "    x.append(random.randint(0,9)) \n",
        "for i in range(100):\n",
        "    if x[i] % 2 == 0:\n",
        "        print(x[i])\n",
        "    else:\n",
        "        print(\"@\")"
      ],
      "execution_count": 4,
      "outputs": [
        {
          "output_type": "stream",
          "text": [
            "@\n",
            "6\n",
            "@\n",
            "8\n",
            "6\n",
            "4\n",
            "6\n",
            "@\n",
            "@\n",
            "@\n",
            "@\n",
            "@\n",
            "8\n",
            "0\n",
            "0\n",
            "@\n",
            "2\n",
            "0\n",
            "@\n",
            "0\n",
            "@\n",
            "@\n",
            "8\n",
            "@\n",
            "0\n",
            "@\n",
            "8\n",
            "4\n",
            "@\n",
            "0\n",
            "8\n",
            "@\n",
            "@\n",
            "@\n",
            "@\n",
            "4\n",
            "6\n",
            "@\n",
            "@\n",
            "@\n",
            "@\n",
            "@\n",
            "0\n",
            "@\n",
            "@\n",
            "@\n",
            "@\n",
            "2\n",
            "8\n",
            "@\n",
            "0\n",
            "0\n",
            "6\n",
            "@\n",
            "@\n",
            "2\n",
            "@\n",
            "8\n",
            "2\n",
            "8\n",
            "0\n",
            "@\n",
            "0\n",
            "@\n",
            "@\n",
            "8\n",
            "@\n",
            "@\n",
            "@\n",
            "@\n",
            "@\n",
            "@\n",
            "@\n",
            "2\n",
            "8\n",
            "@\n",
            "4\n",
            "@\n",
            "@\n",
            "4\n",
            "@\n",
            "@\n",
            "0\n",
            "0\n",
            "8\n",
            "@\n",
            "@\n",
            "8\n",
            "@\n",
            "@\n",
            "2\n",
            "@\n",
            "8\n",
            "@\n",
            "@\n",
            "0\n",
            "6\n",
            "8\n",
            "2\n",
            "8\n"
          ],
          "name": "stdout"
        }
      ]
    }
  ]
}