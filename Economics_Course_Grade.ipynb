{
  "nbformat": 4,
  "nbformat_minor": 0,
  "metadata": {
    "colab": {
      "name": "Economics_Course_Grade.ipynb",
      "provenance": [],
      "collapsed_sections": [],
      "include_colab_link": true
    },
    "kernelspec": {
      "name": "python3",
      "display_name": "Python 3"
    }
  },
  "cells": [
    {
      "cell_type": "markdown",
      "metadata": {
        "id": "view-in-github",
        "colab_type": "text"
      },
      "source": [
        "<a href=\"https://colab.research.google.com/github/jonnie763/DATA-690-WANG/blob/master/Economics_Course_Grade.ipynb\" target=\"_parent\"><img src=\"https://colab.research.google.com/assets/colab-badge.svg\" alt=\"Open In Colab\"/></a>"
      ]
    },
    {
      "cell_type": "markdown",
      "metadata": {
        "id": "34kSak-e8phP"
      },
      "source": [
        "## **Note: Add extra credit at the end.**\n",
        "\n",
        "\n"
      ]
    },
    {
      "cell_type": "markdown",
      "metadata": {
        "id": "J_zouMk6qpKj"
      },
      "source": [
        "## Exam 1 (12.5%)"
      ]
    },
    {
      "cell_type": "code",
      "metadata": {
        "colab": {
          "base_uri": "https://localhost:8080/"
        },
        "id": "R4sDndrMgd9v",
        "outputId": "7ab22d9d-8af4-480d-9e25-48cedd52388b"
      },
      "source": [
        "num3 = int(input(\"Enter First Exam Grade: \")) # Some of this code (about a third code) was published on https://beginnersbook.com/2018/06/python-program-to-add-subtract-multiply-divide-two-numbers/\n",
        "num4 =8                                         # We will take this 5 and divide it by the score inputed to get the weighed score for later \n",
        "\n",
        "\n",
        "if num3 <= 100:                                                        # Only numbers under 100 allowed will prompt to rerun code if more then 100\n",
        "    result = (num3 / num4)                                             # Weighed Score now for project weighed score #2\n",
        "    print(\"Weiged Project #2 Grade is\", num3, num4, \":\", result)  # Print weighed score \n",
        "\n",
        "else: \n",
        "    print(\"Please number below 100! Please rerun the code!\")           # Prompt to rerun code (if number is above 100)\n",
        "\n",
        "Project_1= (num3 / num4)                                               # Save variable for later (add all variables later)                                            \n"
      ],
      "execution_count": null,
      "outputs": [
        {
          "output_type": "stream",
          "text": [
            "Enter First Exam Grade: 100\n",
            "Weiged Project #2 Grade is 100 8 : 12.5\n"
          ],
          "name": "stdout"
        }
      ]
    },
    {
      "cell_type": "markdown",
      "metadata": {
        "id": "XjZvIvMTquGX"
      },
      "source": [
        "## Exam 2 (12.5%)"
      ]
    },
    {
      "cell_type": "code",
      "metadata": {
        "colab": {
          "base_uri": "https://localhost:8080/"
        },
        "id": "NzNyNptbnB7o",
        "outputId": "689d9693-8d0a-4b5a-e967-33be98cb6f5b"
      },
      "source": [
        "num3 = int(input(\"Enter Second Exam Grade: \")) # Some of this code (about a third code) was published on https://beginnersbook.com/2018/06/python-program-to-add-subtract-multiply-divide-two-numbers/\n",
        "num4 = 8                                         # We will take this 5 and divide it by the score inputed to get the weighed score for later \n",
        "\n",
        "\n",
        "if num3 <= 100:                                                        # Only numbers under 100 allowed will prompt to rerun code if more then 100\n",
        "    result = (num3 / num4)                                             # Weighed Score now for project weighed score #2\n",
        "    print(\"Weiged Project #2 Grade is\", num3, num4, \":\", result)  # Print weighed score \n",
        "\n",
        "else: \n",
        "    print(\"Please number below 100! Please rerun the code!\")           # Prompt to rerun code (if number is above 100)\n",
        "\n",
        "Project_2= (num3 / num4)                                               # Save variable for later (add all variables later)\n"
      ],
      "execution_count": null,
      "outputs": [
        {
          "output_type": "stream",
          "text": [
            "Enter Second Exam Grade: 60\n",
            "Weiged Project #2 Grade is 60 8 : 7.5\n"
          ],
          "name": "stdout"
        }
      ]
    },
    {
      "cell_type": "markdown",
      "metadata": {
        "id": "FEpc8I40qw3h"
      },
      "source": [
        "##Final Exam (25%)"
      ]
    },
    {
      "cell_type": "code",
      "metadata": {
        "colab": {
          "base_uri": "https://localhost:8080/"
        },
        "id": "xc5BLtk0nhb7",
        "outputId": "f88d17b9-7a84-4d9e-809d-8642e0ef00df"
      },
      "source": [
        "num5 = int(input(\"Enter Final Exam Grade: \")) # Some of this code (about a third code) was published on https://beginnersbook.com/2018/06/python-program-to-add-subtract-multiply-divide-two-numbers/\n",
        "num6 = 4                                         # We will take this 5 and divide it by the score inputed to get the weighed score for later \n",
        "\n",
        "\n",
        "if num5 <= 100:                                                        # Only numbers under 100 allowed will prompt to rerun code if more then 100\n",
        "    result = (num5 / num6)                                             # Weighed Score now for project weighed score #3\n",
        "    print(\"Weiged Project #3 Grade is\", num5, num6, \":\", result)  # Print weighed score \n",
        "\n",
        "else: \n",
        "    print(\"Please number below 100! Please rerun the code!\")           # Prompt to rerun code (if number is above 100)\n",
        "\n",
        "Project_3= (num5 / num6)                                               # Save variable for later (add all variables later)\n"
      ],
      "execution_count": null,
      "outputs": [
        {
          "output_type": "stream",
          "text": [
            "Enter Final Exam Grade: 80\n",
            "Weiged Project #3 Grade is 80 4 : 20.0\n"
          ],
          "name": "stdout"
        }
      ]
    },
    {
      "cell_type": "markdown",
      "metadata": {
        "id": "_COkbNy-4aHo"
      },
      "source": [
        "## Paper 1 (15%)"
      ]
    },
    {
      "cell_type": "code",
      "metadata": {
        "colab": {
          "base_uri": "https://localhost:8080/"
        },
        "id": "to5PgC9X4ylS",
        "outputId": "94db96b7-d516-4092-ca1c-c4f9d28f3a66"
      },
      "source": [
        "num5 = int(input(\"Enter First Paper Grade: \")) # Some of this code (about a third code) was published on https://beginnersbook.com/2018/06/python-program-to-add-subtract-multiply-divide-two-numbers/\n",
        "num6 = 20/3                                        # We will take this 5 and divide it by the score inputed to get the weighed score for later \n",
        "\n",
        "\n",
        "if num5 <= 100:                                                        # Only numbers under 100 allowed will prompt to rerun code if more then 100\n",
        "    result = (num5 / num6)                                             # Weighed Score now for project weighed score #3\n",
        "    print(\"Weiged Project #3 Grade is\", num5, num6, \":\", result)  # Print weighed score \n",
        "\n",
        "else: \n",
        "    print(\"Please number below 100! Please rerun the code!\")           # Prompt to rerun code (if number is above 100)\n",
        "\n",
        "Paper_1= (num5 / num6)                                               # Save variable for later (add all variables later)"
      ],
      "execution_count": null,
      "outputs": [
        {
          "output_type": "stream",
          "text": [
            "Enter First Paper Grade: 95\n",
            "Weiged Project #3 Grade is 95 6.666666666666667 : 14.25\n"
          ],
          "name": "stdout"
        }
      ]
    },
    {
      "cell_type": "markdown",
      "metadata": {
        "id": "n9Isc0_97LxP"
      },
      "source": [
        "## Econ Homework (15%)"
      ]
    },
    {
      "cell_type": "code",
      "metadata": {
        "colab": {
          "base_uri": "https://localhost:8080/"
        },
        "id": "h7bfCxnb7Wjn",
        "outputId": "385800f7-4e57-4460-b97c-d2ba1a060961"
      },
      "source": [
        "num5 = int(input(\"Enter Econ Homework Grade: \")) # Some of this code (about a third code) was published on https://beginnersbook.com/2018/06/python-program-to-add-subtract-multiply-divide-two-numbers/\n",
        "num6 = 5                                        # We will take this 5 and divide it by the score inputed to get the weighed score for later \n",
        "\n",
        "\n",
        "if num5 <= 100:                                                        # Only numbers under 100 allowed will prompt to rerun code if more then 100\n",
        "    result = (num5 / num6)                                             # Weighed Score now for project weighed score #3\n",
        "    print(\"Weiged Project #3 Grade is\", num5, num6, \":\", result)  # Print weighed score \n",
        "\n",
        "else: \n",
        "    print(\"Please number below 100! Please rerun the code!\")           # Prompt to rerun code (if number is above 100)\n",
        "E_home= (num5 / num6)                                               # Save variable for later (add all variables later)"
      ],
      "execution_count": null,
      "outputs": [
        {
          "output_type": "stream",
          "text": [
            "Enter Econ Homework Grade: 95\n",
            "Weiged Project #3 Grade is 95 5 : 19.0\n"
          ],
          "name": "stdout"
        }
      ]
    },
    {
      "cell_type": "markdown",
      "metadata": {
        "id": "bipddwqEq0L_"
      },
      "source": [
        "## Attendence and Participation (10%)"
      ]
    },
    {
      "cell_type": "code",
      "metadata": {
        "colab": {
          "base_uri": "https://localhost:8080/",
          "height": 514
        },
        "id": "4TxCDOl08bI1",
        "outputId": "f94a73bc-a31f-44b9-a1df-bc65a46d418c"
      },
      "source": [
        "import pandas as pd                                    # Using pandas for this \n",
        "d = {'Attendance': [1, 1,1,1,1,1,1,1,1,1,1,1,1,1,1]}   # I am gonna use 1's for attendance and zero's for non-attendance \n",
        "df = pd.DataFrame(data=d)                              # This dataframe is sort of like a attendance list I can use for later \n",
        "print (\"1's are attendance, zero's are non-attendance \")\n",
        "df"
      ],
      "execution_count": null,
      "outputs": [
        {
          "output_type": "stream",
          "text": [
            "1's are attendance, zero's are non-attendance \n"
          ],
          "name": "stdout"
        },
        {
          "output_type": "execute_result",
          "data": {
            "text/html": [
              "<div>\n",
              "<style scoped>\n",
              "    .dataframe tbody tr th:only-of-type {\n",
              "        vertical-align: middle;\n",
              "    }\n",
              "\n",
              "    .dataframe tbody tr th {\n",
              "        vertical-align: top;\n",
              "    }\n",
              "\n",
              "    .dataframe thead th {\n",
              "        text-align: right;\n",
              "    }\n",
              "</style>\n",
              "<table border=\"1\" class=\"dataframe\">\n",
              "  <thead>\n",
              "    <tr style=\"text-align: right;\">\n",
              "      <th></th>\n",
              "      <th>Attendance</th>\n",
              "    </tr>\n",
              "  </thead>\n",
              "  <tbody>\n",
              "    <tr>\n",
              "      <th>0</th>\n",
              "      <td>1</td>\n",
              "    </tr>\n",
              "    <tr>\n",
              "      <th>1</th>\n",
              "      <td>1</td>\n",
              "    </tr>\n",
              "    <tr>\n",
              "      <th>2</th>\n",
              "      <td>1</td>\n",
              "    </tr>\n",
              "    <tr>\n",
              "      <th>3</th>\n",
              "      <td>1</td>\n",
              "    </tr>\n",
              "    <tr>\n",
              "      <th>4</th>\n",
              "      <td>1</td>\n",
              "    </tr>\n",
              "    <tr>\n",
              "      <th>5</th>\n",
              "      <td>1</td>\n",
              "    </tr>\n",
              "    <tr>\n",
              "      <th>6</th>\n",
              "      <td>1</td>\n",
              "    </tr>\n",
              "    <tr>\n",
              "      <th>7</th>\n",
              "      <td>1</td>\n",
              "    </tr>\n",
              "    <tr>\n",
              "      <th>8</th>\n",
              "      <td>1</td>\n",
              "    </tr>\n",
              "    <tr>\n",
              "      <th>9</th>\n",
              "      <td>1</td>\n",
              "    </tr>\n",
              "    <tr>\n",
              "      <th>10</th>\n",
              "      <td>1</td>\n",
              "    </tr>\n",
              "    <tr>\n",
              "      <th>11</th>\n",
              "      <td>1</td>\n",
              "    </tr>\n",
              "    <tr>\n",
              "      <th>12</th>\n",
              "      <td>1</td>\n",
              "    </tr>\n",
              "    <tr>\n",
              "      <th>13</th>\n",
              "      <td>1</td>\n",
              "    </tr>\n",
              "    <tr>\n",
              "      <th>14</th>\n",
              "      <td>1</td>\n",
              "    </tr>\n",
              "  </tbody>\n",
              "</table>\n",
              "</div>"
            ],
            "text/plain": [
              "    Attendance\n",
              "0            1\n",
              "1            1\n",
              "2            1\n",
              "3            1\n",
              "4            1\n",
              "5            1\n",
              "6            1\n",
              "7            1\n",
              "8            1\n",
              "9            1\n",
              "10           1\n",
              "11           1\n",
              "12           1\n",
              "13           1\n",
              "14           1"
            ]
          },
          "metadata": {
            "tags": []
          },
          "execution_count": 6
        }
      ]
    },
    {
      "cell_type": "code",
      "metadata": {
        "colab": {
          "base_uri": "https://localhost:8080/",
          "height": 77
        },
        "id": "c3oJVbr3wWyY",
        "outputId": "ad027017-ee91-4319-9419-5393124090d7"
      },
      "source": [
        "df=df.apply(pd.Series.value_counts, axis=0) # Find number of times presents for attendance and non-attendance \n",
        "df                                          # Display 1 row attendance, 0 row non-attendance "
      ],
      "execution_count": null,
      "outputs": [
        {
          "output_type": "execute_result",
          "data": {
            "text/html": [
              "<div>\n",
              "<style scoped>\n",
              "    .dataframe tbody tr th:only-of-type {\n",
              "        vertical-align: middle;\n",
              "    }\n",
              "\n",
              "    .dataframe tbody tr th {\n",
              "        vertical-align: top;\n",
              "    }\n",
              "\n",
              "    .dataframe thead th {\n",
              "        text-align: right;\n",
              "    }\n",
              "</style>\n",
              "<table border=\"1\" class=\"dataframe\">\n",
              "  <thead>\n",
              "    <tr style=\"text-align: right;\">\n",
              "      <th></th>\n",
              "      <th>Attendance</th>\n",
              "    </tr>\n",
              "  </thead>\n",
              "  <tbody>\n",
              "    <tr>\n",
              "      <th>1</th>\n",
              "      <td>15</td>\n",
              "    </tr>\n",
              "  </tbody>\n",
              "</table>\n",
              "</div>"
            ],
            "text/plain": [
              "   Attendance\n",
              "1          15"
            ]
          },
          "metadata": {
            "tags": []
          },
          "execution_count": 7
        }
      ]
    },
    {
      "cell_type": "code",
      "metadata": {
        "colab": {
          "base_uri": "https://localhost:8080/"
        },
        "id": "TDFxgF9Kzzpi",
        "outputId": "af38f7a8-8705-4a5f-f403-35b671b63ed4"
      },
      "source": [
        "df.at[1,'Attendance'] # Find number of times presents for attendance and save as variable below \n"
      ],
      "execution_count": null,
      "outputs": [
        {
          "output_type": "execute_result",
          "data": {
            "text/plain": [
              "15"
            ]
          },
          "metadata": {
            "tags": []
          },
          "execution_count": 8
        }
      ]
    },
    {
      "cell_type": "code",
      "metadata": {
        "id": "W2R_WX4UzQi5"
      },
      "source": [
        "Attended_Times= df.at[1,'Attendance'] # Find number of times presents for attendance and save as variable\n"
      ],
      "execution_count": null,
      "outputs": []
    },
    {
      "cell_type": "code",
      "metadata": {
        "colab": {
          "base_uri": "https://localhost:8080/"
        },
        "id": "PL6FxyWgzIaD",
        "outputId": "185434c0-dcac-449c-ca8c-90ed6fe4b8ec"
      },
      "source": [
        "Attend_Part=(Attended_Times/15)*10 # Divide by 15 and mutiply by 10 to weight the score, save as variable and add for later \n",
        "print (Attend_Part)"
      ],
      "execution_count": null,
      "outputs": [
        {
          "output_type": "stream",
          "text": [
            "10.0\n"
          ],
          "name": "stdout"
        }
      ]
    },
    {
      "cell_type": "markdown",
      "metadata": {
        "id": "xbXFnwTvsp37"
      },
      "source": [
        "## Discussion Boards (5%)"
      ]
    },
    {
      "cell_type": "code",
      "metadata": {
        "id": "NYXi2H9WuTKo",
        "colab": {
          "base_uri": "https://localhost:8080/"
        },
        "outputId": "4c13e521-cbbd-4d1c-9a73-c7562b33e8bf"
      },
      "source": [
        "num5 = int(input(\"Enter Discussion Board Grade: \")) # Some of this code (about a third code) was published on https://beginnersbook.com/2018/06/python-program-to-add-subtract-multiply-divide-two-numbers/\n",
        "num6 = 20                                        # We will take this 5 and divide it by the score inputed to get the weighed score for later \n",
        "\n",
        "\n",
        "if num5 <= 100:                                                        # Only numbers under 100 allowed will prompt to rerun code if more then 100\n",
        "    result = (num5 / num6)                                             # Weighed Score now for project weighed score #3\n",
        "    print(\"Weiged Project #3 Grade is\", num5, num6, \":\", result)  # Print weighed score \n",
        "\n",
        "else: \n",
        "    print(\"Please number below 100! Please rerun the code!\")           # Prompt to rerun code (if number is above 100)\n",
        "D_home= (num5 / num6)                                               # Save variable for later (add all variables later)"
      ],
      "execution_count": null,
      "outputs": [
        {
          "output_type": "stream",
          "text": [
            "Enter Discussion Board Grade: 100\n",
            "Weiged Project #3 Grade is 100 20 : 5.0\n"
          ],
          "name": "stdout"
        }
      ]
    },
    {
      "cell_type": "markdown",
      "metadata": {
        "id": "vgF6krzmBWLf"
      },
      "source": [
        "## Extra Credit"
      ]
    },
    {
      "cell_type": "code",
      "metadata": {
        "colab": {
          "base_uri": "https://localhost:8080/"
        },
        "id": "NOtyT5Y5BUqF",
        "outputId": "f598f212-9687-44f6-cff3-bf211a3d7dd3"
      },
      "source": [
        "Per=(Project_1+Project_2+Project_3+E_home+D_home+Attend_Part+Paper_1)/100\n",
        "Extra= Per*400\n",
        "\n",
        "num3 = int(input(\"Enter Extra Credit points: \")) # Some of this code (about a third code) was published on https://beginnersbook.com/2018/06/python-program-to-add-subtract-multiply-divide-two-numbers/\n",
        "Extra                                        # We will take this 5 and divide it by the score inputed to get the weighed score for later \n",
        "\n",
        "\n",
        "if num3 <= 100:                                                        # Only numbers under 100 allowed will prompt to rerun code if more then 100\n",
        "    result = (Extra + num3)                                             # Weighed Score now for project weighed score #2\n",
        "    print(\"Weiged Project #2 Grade is\", num3, num4, \":\", result)  # Print weighed score \n",
        "\n",
        "else: \n",
        "    print(\"Please number below 100! Please rerun the code!\")           # Prompt to rerun code (if number is above 100)\n",
        "\n",
        "Extra_credit= (Extra + num3)                                               # Save variable for later (add all variables later)   "
      ],
      "execution_count": null,
      "outputs": [
        {
          "output_type": "stream",
          "text": [
            "Enter Extra Credit points: 7\n",
            "Weiged Project #2 Grade is 7 8 : 360.0\n"
          ],
          "name": "stdout"
        }
      ]
    },
    {
      "cell_type": "markdown",
      "metadata": {
        "id": "EuOacFJPwokK"
      },
      "source": [
        "## Final Grade Calculation (100%)"
      ]
    },
    {
      "cell_type": "code",
      "metadata": {
        "id": "1fOPddB91d2e",
        "colab": {
          "base_uri": "https://localhost:8080/"
        },
        "outputId": "aee2403b-089a-4387-a331-3ec84dd0757c"
      },
      "source": [
        "(Extra_credit/400)*100 # Add the weighed and you have the final grade calculation!"
      ],
      "execution_count": null,
      "outputs": [
        {
          "output_type": "execute_result",
          "data": {
            "text/plain": [
              "90.0"
            ]
          },
          "metadata": {
            "tags": []
          },
          "execution_count": 14
        }
      ]
    }
  ]
}