{
  "nbformat": 4,
  "nbformat_minor": 0,
  "metadata": {
    "colab": {
      "name": "Jonathan Rius Session 03 Practice .ipynb",
      "provenance": [],
      "collapsed_sections": [],
      "authorship_tag": "ABX9TyM8Vx1yTT0dqEWEkOg+u40t",
      "include_colab_link": true
    },
    "kernelspec": {
      "name": "python3",
      "display_name": "Python 3"
    }
  },
  "cells": [
    {
      "cell_type": "markdown",
      "metadata": {
        "id": "view-in-github",
        "colab_type": "text"
      },
      "source": [
        "<a href=\"https://colab.research.google.com/github/jonnie763/DATA-690-WANG/blob/master/Jonathan_Rius_Session_03_Practice_.ipynb\" target=\"_parent\"><img src=\"https://colab.research.google.com/assets/colab-badge.svg\" alt=\"Open In Colab\"/></a>"
      ]
    },
    {
      "cell_type": "markdown",
      "metadata": {
        "id": "gqgopOggbB3p",
        "colab_type": "text"
      },
      "source": [
        "** Requirements** \n",
        "1. To come up with a list of people's first name. \n",
        "2.  find out how many people are in the class \n",
        "\n",
        "**hint**:use split(), specify delimiter to seperate people \n",
        "use split, specify a different demiliter to seperate first and last name "
      ]
    },
    {
      "cell_type": "markdown",
      "metadata": {
        "id": "gW6DJJj6aay1",
        "colab_type": "text"
      },
      "source": [
        "Wang, Chaojie; Seelam, Arjun Reddy; Rius, Jonathan; Liang, Jinqing; Chowdhury, Debanjan; Maszkiewicz, Lori; Negussie, Neftalem; Steinruck, Michaella; Phogat, Shreshta; Fatima, Misha; Hirabayashi, Scott; Soroush, Masoud; Bolz, Jessica; Mbu Nyamsi, Tchuissi; Dokuzoglu, Yuksel; Gogineni, Shailesh; Pabbisetty, Sai Vinay; Preis, Liam; Jyesta, Vishnu Priya; Narne, Yoshita; Boban, Shruthi; Oberoi, Ashreen Kaur; Cohens, Nashika; Noppinger, Ken; Kakani, Goutham; Hayo, Alyssa"
      ]
    },
    {
      "cell_type": "code",
      "metadata": {
        "id": "VxJLN1tAab8j",
        "colab_type": "code",
        "colab": {
          "base_uri": "https://localhost:8080/",
          "height": 54
        },
        "outputId": "a60d30d6-ac54-4b43-d0d2-bd991ec280f9"
      },
      "source": [
        "people_string =\"Wang, Chaojie; Seelam, Arjun Reddy; Rius, Jonathan; Liang, Jinqing; Chowdhury, Debanjan; Maszkiewicz, Lori; Negussie, Neftalem; Steinruck, Michaella; Phogat, Shreshta; Fatima, Misha; Hirabayashi, Scott; Soroush, Masoud; Bolz, Jessica; Mbu Nyamsi, Tchuissi; Dokuzoglu, Yuksel; Gogineni, Shailesh; Pabbisetty, Sai Vinay; Preis, Liam; Jyesta, Vishnu Priya; Narne, Yoshita; Boban, Shruthi; Oberoi, Ashreen Kaur; Cohens, Nashika; Noppinger, Ken; Kakani, Goutham; Hayo, Alyssa\"\n",
        "print(people_string)\n",
        "\n"
      ],
      "execution_count": null,
      "outputs": [
        {
          "output_type": "stream",
          "text": [
            "Wang, Chaojie; Seelam, Arjun Reddy; Rius, Jonathan; Liang, Jinqing; Chowdhury, Debanjan; Maszkiewicz, Lori; Negussie, Neftalem; Steinruck, Michaella; Phogat, Shreshta; Fatima, Misha; Hirabayashi, Scott; Soroush, Masoud; Bolz, Jessica; Mbu Nyamsi, Tchuissi; Dokuzoglu, Yuksel; Gogineni, Shailesh; Pabbisetty, Sai Vinay; Preis, Liam; Jyesta, Vishnu Priya; Narne, Yoshita; Boban, Shruthi; Oberoi, Ashreen Kaur; Cohens, Nashika; Noppinger, Ken; Kakani, Goutham; Hayo, Alyssa\n"
          ],
          "name": "stdout"
        }
      ]
    },
    {
      "cell_type": "code",
      "metadata": {
        "id": "PgCrXjefhk0e",
        "colab_type": "code",
        "colab": {
          "base_uri": "https://localhost:8080/",
          "height": 54
        },
        "outputId": "8a24f85a-f84b-431a-9dc7-ff95a3ba15e8"
      },
      "source": [
        "txt = \"Wang, Chaojie; Seelam, Arjun Reddy; Rius, Jonathan; Liang, Jinqing; Chowdhury, Debanjan; Maszkiewicz, Lori; Negussie, Neftalem; Steinruck, Michaella; Phogat, Shreshta; Fatima, Misha; Hirabayashi, Scott; Soroush, Masoud; Bolz, Jessica; Mbu Nyamsi, Tchuissi; Dokuzoglu, Yuksel; Gogineni, Shailesh; Pabbisetty, Sai Vinay; Preis, Liam; Jyesta, Vishnu Priya; Narne, Yoshita; Boban, Shruthi; Oberoi, Ashreen Kaur; Cohens, Nashika; Noppinger, Ken; Kakani, Goutham; Hayo, Alyssa\"\n",
        "\n",
        "x = txt.split(\",\")\n",
        "\n",
        "print(x)"
      ],
      "execution_count": null,
      "outputs": [
        {
          "output_type": "stream",
          "text": [
            "['Wang', ' Chaojie; Seelam', ' Arjun Reddy; Rius', ' Jonathan; Liang', ' Jinqing; Chowdhury', ' Debanjan; Maszkiewicz', ' Lori; Negussie', ' Neftalem; Steinruck', ' Michaella; Phogat', ' Shreshta; Fatima', ' Misha; Hirabayashi', ' Scott; Soroush', ' Masoud; Bolz', ' Jessica; Mbu Nyamsi', ' Tchuissi; Dokuzoglu', ' Yuksel; Gogineni', ' Shailesh; Pabbisetty', ' Sai Vinay; Preis', ' Liam; Jyesta', ' Vishnu Priya; Narne', ' Yoshita; Boban', ' Shruthi; Oberoi', ' Ashreen Kaur; Cohens', ' Nashika; Noppinger', ' Ken; Kakani', ' Goutham; Hayo', ' Alyssa']\n"
          ],
          "name": "stdout"
        }
      ]
    },
    {
      "cell_type": "code",
      "metadata": {
        "id": "ZQnoXqBwjiLM",
        "colab_type": "code",
        "colab": {}
      },
      "source": [
        "people_list = people_string.split(\",\")"
      ],
      "execution_count": null,
      "outputs": []
    },
    {
      "cell_type": "code",
      "metadata": {
        "id": "IkQXVpjIjR0K",
        "colab_type": "code",
        "colab": {
          "base_uri": "https://localhost:8080/",
          "height": 459
        },
        "outputId": "29e53dad-5640-480b-c6a0-d847d98c7bad"
      },
      "source": [
        "for person in people_list:\n",
        "\n",
        "    print(person.split(\",\"))"
      ],
      "execution_count": null,
      "outputs": [
        {
          "output_type": "stream",
          "text": [
            "['Wang', ' Chaojie']\n",
            "[' Seelam', ' Arjun Reddy']\n",
            "[' Rius', ' Jonathan']\n",
            "[' Liang', ' Jinqing']\n",
            "[' Chowdhury', ' Debanjan']\n",
            "[' Maszkiewicz', ' Lori']\n",
            "[' Negussie', ' Neftalem']\n",
            "[' Steinruck', ' Michaella']\n",
            "[' Phogat', ' Shreshta']\n",
            "[' Fatima', ' Misha']\n",
            "[' Hirabayashi', ' Scott']\n",
            "[' Soroush', ' Masoud']\n",
            "[' Bolz', ' Jessica']\n",
            "[' Mbu Nyamsi', ' Tchuissi']\n",
            "[' Dokuzoglu', ' Yuksel']\n",
            "[' Gogineni', ' Shailesh']\n",
            "[' Pabbisetty', ' Sai Vinay']\n",
            "[' Preis', ' Liam']\n",
            "[' Jyesta', ' Vishnu Priya']\n",
            "[' Narne', ' Yoshita']\n",
            "[' Boban', ' Shruthi']\n",
            "[' Oberoi', ' Ashreen Kaur']\n",
            "[' Cohens', ' Nashika']\n",
            "[' Noppinger', ' Ken']\n",
            "[' Kakani', ' Goutham']\n",
            "[' Hayo', ' Alyssa']\n"
          ],
          "name": "stdout"
        }
      ]
    },
    {
      "cell_type": "code",
      "metadata": {
        "id": "NAXo2HzWj8ot",
        "colab_type": "code",
        "colab": {
          "base_uri": "https://localhost:8080/",
          "height": 459
        },
        "outputId": "56dd5c9a-9a44-49f1-ca0d-80f3311ecb3a"
      },
      "source": [
        "people_string = \"Wang, Chaojie; Seelam, Arjun Reddy; Rius, Jonathan; Liang, Jinqing; Chowdhury, Debanjan; Maszkiewicz, Lori; Negussie, Neftalem; Steinruck, Michaella; Phogat, Shreshta; Fatima, Misha; Hirabayashi, Scott; Soroush, Masoud; Bolz, Jessica; Mbu Nyamsi, Tchuissi; Dokuzoglu, Yuksel; Gogineni, Shailesh; Pabbisetty, Sai Vinay; Preis, Liam; Jyesta, Vishnu Priya; Narne, Yoshita; Boban, Shruthi; Oberoi, Ashreen Kaur; Cohens, Nashika; Noppinger, Ken; Kakani, Goutham; Hayo, Alyssa\"\n",
        "people_list =people_string.split(\";\")\n",
        "first_name_list=[]\n",
        "for person in people_list:\n",
        "  people_list =people_string.split(\";\")\n",
        "  first_name=person.split(\",\")[1]\n",
        "  print(first_name)\n",
        "\n",
        "  "
      ],
      "execution_count": null,
      "outputs": [
        {
          "output_type": "stream",
          "text": [
            " Chaojie\n",
            " Arjun Reddy\n",
            " Jonathan\n",
            " Jinqing\n",
            " Debanjan\n",
            " Lori\n",
            " Neftalem\n",
            " Michaella\n",
            " Shreshta\n",
            " Misha\n",
            " Scott\n",
            " Masoud\n",
            " Jessica\n",
            " Tchuissi\n",
            " Yuksel\n",
            " Shailesh\n",
            " Sai Vinay\n",
            " Liam\n",
            " Vishnu Priya\n",
            " Yoshita\n",
            " Shruthi\n",
            " Ashreen Kaur\n",
            " Nashika\n",
            " Ken\n",
            " Goutham\n",
            " Alyssa\n"
          ],
          "name": "stdout"
        }
      ]
    },
    {
      "cell_type": "code",
      "metadata": {
        "id": "CPPBTHqNjNie",
        "colab_type": "code",
        "colab": {
          "base_uri": "https://localhost:8080/",
          "height": 71
        },
        "outputId": "a983beed-a904-4dc1-ac01-1ec617e3b002"
      },
      "source": [
        "test_string = \"Chaojie,Arjun Reddy, Jonathan, Jinqing, Debanjan, Lori, Neftalem, Michaella, Shreshta, Misha, Scott, Masoud, Jessica, Tchuissi, Yuksel, Shailesh, Sai Vinay, Liam, Vishnu Priya, Yoshita, Shruthi, Ashreen Kaur, Nashika, Ken, Goutham, Alyssa\"\n",
        "  \n",
        "print (\"The original string is : \" +  test_string) \n",
        "\n",
        "res = len(test_string.split()) \n",
        " \n",
        "print (\"The number of words in string are : \" +  str(res))"
      ],
      "execution_count": null,
      "outputs": [
        {
          "output_type": "stream",
          "text": [
            "The original string is : Chaojie,Arjun Reddy, Jonathan, Jinqing, Debanjan, Lori, Neftalem, Michaella, Shreshta, Misha, Scott, Masoud, Jessica, Tchuissi, Yuksel, Shailesh, Sai Vinay, Liam, Vishnu Priya, Yoshita, Shruthi, Ashreen Kaur, Nashika, Ken, Goutham, Alyssa\n",
            "The number of words in string are : 29\n"
          ],
          "name": "stdout"
        }
      ]
    }
  ]
}